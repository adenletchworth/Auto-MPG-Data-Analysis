{
 "cells": [
  {
   "cell_type": "code",
   "execution_count": 54,
   "id": "7cbbf20c",
   "metadata": {},
   "outputs": [],
   "source": [
    "import pandas as pd\n",
    "import numpy as np\n",
    "import matplotlib.pyplot as plt\n",
    "from sklearn.linear_model import LinearRegression\n",
    "from sklearn.model_selection import train_test_split\n",
    "from sklearn.metrics import r2_score\n",
    "import seaborn as sns\n",
    "from matplotlib.animation import PillowWriter\n",
    "from statsmodels.stats.outliers_influence import variance_inflation_factor\n",
    "from sklearn import preprocessing"
   ]
  },
  {
   "cell_type": "code",
   "execution_count": 55,
   "id": "b312f6eb",
   "metadata": {
    "scrolled": false
   },
   "outputs": [
    {
     "data": {
      "text/html": [
       "<div>\n",
       "<style scoped>\n",
       "    .dataframe tbody tr th:only-of-type {\n",
       "        vertical-align: middle;\n",
       "    }\n",
       "\n",
       "    .dataframe tbody tr th {\n",
       "        vertical-align: top;\n",
       "    }\n",
       "\n",
       "    .dataframe thead th {\n",
       "        text-align: right;\n",
       "    }\n",
       "</style>\n",
       "<table border=\"1\" class=\"dataframe\">\n",
       "  <thead>\n",
       "    <tr style=\"text-align: right;\">\n",
       "      <th></th>\n",
       "      <th>Data Types</th>\n",
       "    </tr>\n",
       "  </thead>\n",
       "  <tbody>\n",
       "    <tr>\n",
       "      <th>Model Year</th>\n",
       "      <td>int64</td>\n",
       "    </tr>\n",
       "    <tr>\n",
       "      <th>FullName</th>\n",
       "      <td>object</td>\n",
       "    </tr>\n",
       "    <tr>\n",
       "      <th>MPG</th>\n",
       "      <td>int64</td>\n",
       "    </tr>\n",
       "    <tr>\n",
       "      <th>Eng Displ</th>\n",
       "      <td>float64</td>\n",
       "    </tr>\n",
       "    <tr>\n",
       "      <th># Cyl</th>\n",
       "      <td>int64</td>\n",
       "    </tr>\n",
       "  </tbody>\n",
       "</table>\n",
       "</div>"
      ],
      "text/plain": [
       "           Data Types\n",
       "Model Year      int64\n",
       "FullName       object\n",
       "MPG             int64\n",
       "Eng Displ     float64\n",
       "# Cyl           int64"
      ]
     },
     "execution_count": 55,
     "metadata": {},
     "output_type": "execute_result"
    }
   ],
   "source": [
    "data = pd.read_csv(\"../Data/99guide6.csv\")\n",
    "df98 = pd.DataFrame(data)\n",
    "\n",
    "# Create a new column with the fullname of the car\n",
    "df98[\"FullName\"] = \"1988 \" + df98[\"Manufacturer\"] + \" \" + df98[\"carline name\"]\n",
    "df98[\"Model Year\"] = '1988'\n",
    "df98 = df98.astype({\"Model Year\": 'int64'})\n",
    "df98 = df98.rename(columns={\"cmb\": \"MPG\", \"displ\":\"Eng Displ\", \"cyl\":\"# Cyl\"})\n",
    "df98 = df98[['Model Year','FullName','MPG','Eng Displ','# Cyl']].copy()\n",
    "dataTypes = df98.dtypes.to_frame(name='Data Types') # turn data types into data frame\n",
    "dataTypes"
   ]
  },
  {
   "cell_type": "code",
   "execution_count": 56,
   "id": "e435a357",
   "metadata": {
    "scrolled": false
   },
   "outputs": [
    {
     "name": "stdout",
     "output_type": "stream",
     "text": [
      "Model Year    0\n",
      "FullName      0\n",
      "MPG           0\n",
      "Eng Displ     0\n",
      "# Cyl         0\n",
      "dtype: int64\n"
     ]
    }
   ],
   "source": [
    "is_clean = df98.isnull().sum() # finds any missing values for each column and sums it\n",
    "\n",
    "print(is_clean) # print results"
   ]
  },
  {
   "cell_type": "markdown",
   "id": "5f7b330c",
   "metadata": {},
   "source": [
    "# Fill in the rest of the data"
   ]
  },
  {
   "cell_type": "markdown",
   "id": "42ee40ee",
   "metadata": {},
   "source": [
    "### 99"
   ]
  },
  {
   "cell_type": "code",
   "execution_count": 57,
   "id": "35e62c7a",
   "metadata": {
    "scrolled": false
   },
   "outputs": [
    {
     "name": "stdout",
     "output_type": "stream",
     "text": [
      "Model Year    0\n",
      "FullName      0\n",
      "MPG           0\n",
      "Eng Displ     0\n",
      "# Cyl         0\n",
      "dtype: int64\n"
     ]
    }
   ],
   "source": [
    "data = pd.read_csv(\"../Data/99guide6.csv\")\n",
    "df99 = pd.DataFrame(data)\n",
    "\n",
    "# Create a new column with the fullname of the car\n",
    "df99[\"FullName\"] = \"1999 \" + df99[\"Manufacturer\"] + \" \" + df99[\"carline name\"]\n",
    "df99[\"Model Year\"] = '1999'\n",
    "df99 = df99.astype({\"Model Year\": 'int64'})\n",
    "df99 = df99.rename(columns={\"cmb\": \"MPG\", \"displ\":\"Eng Displ\", \"cyl\":\"# Cyl\"})\n",
    "df99 = df99[['Model Year','FullName','MPG','Eng Displ','# Cyl']].copy()\n",
    "dataTypes = df99.dtypes.to_frame(name='Data Types') # turn data types into data frame\n",
    "dataTypes\n",
    "is_clean = df99.isnull().sum()\n",
    "print(is_clean)"
   ]
  },
  {
   "cell_type": "markdown",
   "id": "53da2e60",
   "metadata": {},
   "source": [
    "### 2000"
   ]
  },
  {
   "cell_type": "code",
   "execution_count": 58,
   "id": "3826c034",
   "metadata": {},
   "outputs": [
    {
     "name": "stdout",
     "output_type": "stream",
     "text": [
      "Model Year    0\n",
      "FullName      0\n",
      "MPG           0\n",
      "Eng Displ     0\n",
      "# Cyl         0\n",
      "dtype: int64\n"
     ]
    }
   ],
   "source": [
    "data = pd.read_csv(\"../Data/2000.csv\")\n",
    "df00 = pd.DataFrame(data)\n",
    "df00[\"FullName\"] = \"2000 \" + df00[\"Manufacturer\"] + \" \" + df00[\"carline name\"]\n",
    "df00[\"Model Year\"] = '2000'\n",
    "df00 = df00.astype({\"Model Year\": 'int64'})\n",
    "df00 = df00.rename(columns={\"cmb\": \"MPG\", \"displ\":\"Eng Displ\", \"cyl\":\"# Cyl\"})\n",
    "df00 = df00[['Model Year','FullName','MPG','Eng Displ','# Cyl']].copy()\n",
    "dataTypes = df00.dtypes.to_frame(name='Data Types') # turn data types into data frame\n",
    "dataTypes\n",
    "is_clean = df00.isnull().sum()\n",
    "print(is_clean)"
   ]
  },
  {
   "cell_type": "markdown",
   "id": "1a389541",
   "metadata": {},
   "source": [
    "### 2001"
   ]
  },
  {
   "cell_type": "code",
   "execution_count": 59,
   "id": "06bf03ce",
   "metadata": {},
   "outputs": [
    {
     "name": "stdout",
     "output_type": "stream",
     "text": [
      "Model Year    0\n",
      "FullName      0\n",
      "MPG           0\n",
      "Eng Displ     0\n",
      "# Cyl         0\n",
      "dtype: int64\n"
     ]
    }
   ],
   "source": [
    "data = pd.read_csv(\"../Data/2001.csv\")\n",
    "df01 = pd.DataFrame(data)\n",
    "df01[\"FullName\"] = \"2001 \" + df01[\"Manufacturer\"] + \" \" + df01[\"carline name\"]\n",
    "df01[\"Model Year\"] = '2001'\n",
    "df01 = df01.astype({\"Model Year\": 'int64'})\n",
    "df01 = df01.rename(columns={\"cmb\": \"MPG\", \"displ\":\"Eng Displ\", \"cyl\":\"# Cyl\"})\n",
    "df01 = df01[['Model Year','FullName','MPG','Eng Displ','# Cyl']].copy()\n",
    "dataTypes = df01.dtypes.to_frame(name='Data Types') # turn data types into data frame\n",
    "dataTypes\n",
    "is_clean = df01.isnull().sum()\n",
    "print(is_clean)"
   ]
  },
  {
   "cell_type": "markdown",
   "id": "42025df2",
   "metadata": {},
   "source": [
    "### 2002"
   ]
  },
  {
   "cell_type": "code",
   "execution_count": 60,
   "id": "00ae6783",
   "metadata": {
    "scrolled": false
   },
   "outputs": [
    {
     "name": "stdout",
     "output_type": "stream",
     "text": [
      "Model Year    0\n",
      "FullName      0\n",
      "MPG           0\n",
      "Eng Displ     0\n",
      "# Cyl         0\n",
      "dtype: int64\n"
     ]
    }
   ],
   "source": [
    "data = pd.read_csv(\"../Data/2002.csv\")\n",
    "df02 = pd.DataFrame(data)\n",
    "df02[\"FullName\"] = \"2002 \" + df02[\"Manufacturer\"] + \" \" + df02[\"carline name\"]\n",
    "df02[\"Model Year\"] = '2002'\n",
    "df02 = df02.astype({\"Model Year\": 'int64'})\n",
    "df02 = df02.rename(columns={\"cmb\": \"MPG\", \"displ\":\"Eng Displ\", \"cyl\":\"# Cyl\"})\n",
    "df02 = df02[['Model Year','FullName','MPG','Eng Displ','# Cyl']].copy()\n",
    "dataTypes = df02.dtypes.to_frame(name='Data Types') # turn data types into data frame\n",
    "dataTypes\n",
    "is_clean = df02.isnull().sum()\n",
    "print(is_clean)"
   ]
  },
  {
   "cell_type": "markdown",
   "id": "705c5bb7",
   "metadata": {},
   "source": [
    "### 2003"
   ]
  },
  {
   "cell_type": "code",
   "execution_count": 61,
   "id": "c49bcd02",
   "metadata": {},
   "outputs": [
    {
     "name": "stdout",
     "output_type": "stream",
     "text": [
      "Model Year    0\n",
      "FullName      0\n",
      "MPG           0\n",
      "Eng Displ     0\n",
      "# Cyl         0\n",
      "dtype: int64\n"
     ]
    }
   ],
   "source": [
    "data = pd.read_csv(\"../Data/2003.csv\")\n",
    "df03 = pd.DataFrame(data)\n",
    "df03[\"FullName\"] = \"2003 \" + df03[\"Manufacturer\"] + \" \" + df03[\"carline name\"]\n",
    "df03[\"Model Year\"] = '2003'\n",
    "df03 = df03.astype({\"Model Year\": 'int64'})\n",
    "df03 = df03.rename(columns={\"cmb\": \"MPG\", \"displ\":\"Eng Displ\", \"cyl\":\"# Cyl\"})\n",
    "df03 = df03[['Model Year','FullName','MPG','Eng Displ','# Cyl']].copy()\n",
    "dataTypes = df03.dtypes.to_frame(name='Data Types') # turn data types into data frame\n",
    "dataTypes\n",
    "is_clean = df03.isnull().sum()\n",
    "print(is_clean)"
   ]
  },
  {
   "cell_type": "markdown",
   "id": "ca013fd5",
   "metadata": {},
   "source": [
    "### 2004"
   ]
  },
  {
   "cell_type": "code",
   "execution_count": 62,
   "id": "3e5a627c",
   "metadata": {},
   "outputs": [
    {
     "name": "stdout",
     "output_type": "stream",
     "text": [
      "Model Year    0\n",
      "FullName      0\n",
      "MPG           0\n",
      "Eng Displ     0\n",
      "# Cyl         0\n",
      "dtype: int64\n"
     ]
    }
   ],
   "source": [
    "data = pd.read_csv(\"../Data/2004.csv\")\n",
    "df04 = pd.DataFrame(data)\n",
    "df04[\"FullName\"] = \"2004 \" + df04[\"Manufacturer\"] + \" \" + df04[\"carline name\"]\n",
    "df04[\"Model Year\"] = '2004'\n",
    "df04 = df04.astype({\"Model Year\": 'int64'})\n",
    "df04 = df04.rename(columns={\"cmb\": \"MPG\", \"displ\":\"Eng Displ\", \"cyl\":\"# Cyl\"})\n",
    "df04 = df04[['Model Year','FullName','MPG','Eng Displ','# Cyl']].copy()\n",
    "dataTypes = df04.dtypes.to_frame(name='Data Types') # turn data types into data frame\n",
    "dataTypes\n",
    "is_clean = df04.isnull().sum()\n",
    "print(is_clean)"
   ]
  },
  {
   "cell_type": "markdown",
   "id": "5b3fd380",
   "metadata": {},
   "source": [
    "### 2005"
   ]
  },
  {
   "cell_type": "code",
   "execution_count": 63,
   "id": "d61994e2",
   "metadata": {},
   "outputs": [
    {
     "name": "stdout",
     "output_type": "stream",
     "text": [
      "Model Year    0\n",
      "FullName      0\n",
      "MPG           0\n",
      "Eng Displ     0\n",
      "# Cyl         0\n",
      "dtype: int64\n"
     ]
    }
   ],
   "source": [
    "data = pd.read_csv(\"../Data/2005.csv\")\n",
    "df05 = pd.DataFrame(data)\n",
    "df05[\"FullName\"] = \"2005 \" + df05[\"Manufacturer\"] + \" \" + df05[\"carline name\"]\n",
    "\n",
    "\n",
    "df05[\"Model Year\"] = '2005'\n",
    "df05 = df05.astype({\"Model Year\": 'int64'})\n",
    "df05 = df05.rename(columns={\"cmb\": \"MPG\", \"displ\":\"Eng Displ\", \"cyl\":\"# Cyl\"})\n",
    "df05 = df05[['Model Year','FullName','MPG','Eng Displ','# Cyl']].copy()\n",
    "dataTypes = df05.dtypes.to_frame(name='Data Types') # turn data types into data frame\n",
    "dataTypes\n",
    "is_clean = df05.isnull().sum()\n",
    "print(is_clean)"
   ]
  },
  {
   "cell_type": "markdown",
   "id": "79e1f441",
   "metadata": {},
   "source": [
    "### 2006"
   ]
  },
  {
   "cell_type": "code",
   "execution_count": 64,
   "id": "1c194861",
   "metadata": {
    "scrolled": false
   },
   "outputs": [
    {
     "name": "stdout",
     "output_type": "stream",
     "text": [
      "Model Year    0\n",
      "FullName      0\n",
      "MPG           0\n",
      "Eng Displ     0\n",
      "# Cyl         0\n",
      "dtype: int64\n"
     ]
    }
   ],
   "source": [
    "data = pd.read_csv(\"../Data/2006.csv\")\n",
    "df06 = pd.DataFrame(data)\n",
    "df06[\"FullName\"] = \"2006 \" + df06[\"MFR\"] + \" \" + df06[\"CAR LINE\"]\n",
    "df06[\"Model Year\"] = '2006'\n",
    "df06 = df06.astype({\"Model Year\": 'int64'})\n",
    "df06 = df06.rename(columns={\"COMB MPG (GUIDE)\": \"MPG\", \"DISPLACEMENT\":\"Eng Displ\", \"NUMB CYL\":\"# Cyl\"})\n",
    "df06 = df06[['Model Year','FullName','MPG','Eng Displ','# Cyl']].copy()\n",
    "dataTypes = df06.dtypes.to_frame(name='Data Types') # turn data types into data frame\n",
    "dataTypes\n",
    "is_clean = df06.isnull().sum()\n",
    "print(is_clean)"
   ]
  },
  {
   "cell_type": "markdown",
   "id": "837837a4",
   "metadata": {},
   "source": [
    "### 2007"
   ]
  },
  {
   "cell_type": "code",
   "execution_count": 65,
   "id": "a0a006ba",
   "metadata": {},
   "outputs": [
    {
     "name": "stdout",
     "output_type": "stream",
     "text": [
      "Model Year    0\n",
      "FullName      0\n",
      "MPG           0\n",
      "Eng Displ     0\n",
      "# Cyl         0\n",
      "dtype: int64\n"
     ]
    }
   ],
   "source": [
    "data = pd.read_csv(\"../Data/2007.csv\")\n",
    "df07 = pd.DataFrame(data)\n",
    "df07[\"FullName\"] = \"2007 \" + df07[\"MFR\"] + \" \" + df07[\"CAR LINE\"]\n",
    "df07[\"Model Year\"] = '2007'\n",
    "df07 = df07.astype({\"Model Year\": 'int64'})\n",
    "df07 = df07.rename(columns={\"COMB MPG (GUIDE)\": \"MPG\", \"DISPLACEMENT\":\"Eng Displ\", \"NUMB CYL\":\"# Cyl\"})\n",
    "df07 = df07[['Model Year','FullName','MPG','Eng Displ','# Cyl']].copy()\n",
    "dataTypes = df07.dtypes.to_frame(name='Data Types') # turn data types into data frame\n",
    "dataTypes\n",
    "is_clean = df07.isnull().sum()\n",
    "print(is_clean)"
   ]
  },
  {
   "cell_type": "markdown",
   "id": "0724b00e",
   "metadata": {},
   "source": [
    "### 2008"
   ]
  },
  {
   "cell_type": "code",
   "execution_count": 66,
   "id": "cd5a4e43",
   "metadata": {},
   "outputs": [
    {
     "name": "stdout",
     "output_type": "stream",
     "text": [
      "Model Year    0\n",
      "FullName      0\n",
      "MPG           0\n",
      "Eng Displ     0\n",
      "# Cyl         0\n",
      "dtype: int64\n"
     ]
    }
   ],
   "source": [
    "data = pd.read_csv(\"../Data/2008.csv\")\n",
    "df08 = pd.DataFrame(data)\n",
    "df08[\"FullName\"] = \"2008 \" + df08[\"MFR\"] + \" \" + df08[\"CAR LINE\"]\n",
    "df08[\"Model Year\"] = '2008'\n",
    "df08 = df08.astype({\"Model Year\": 'int64'})\n",
    "df08 = df08.rename(columns={\"COMB MPG (GUIDE)\": \"MPG\", \"DISPLACEMENT\":\"Eng Displ\", \"NUMB CYL\":\"# Cyl\"})\n",
    "df08 = df08[['Model Year','FullName','MPG','Eng Displ','# Cyl']].copy()\n",
    "dataTypes = df08.dtypes.to_frame(name='Data Types') # turn data types into data frame\n",
    "dataTypes\n",
    "is_clean = df08.isnull().sum()\n",
    "print(is_clean)"
   ]
  },
  {
   "cell_type": "markdown",
   "id": "9f257939",
   "metadata": {},
   "source": [
    "### 2009"
   ]
  },
  {
   "cell_type": "code",
   "execution_count": 67,
   "id": "09394ac3",
   "metadata": {
    "scrolled": false
   },
   "outputs": [
    {
     "name": "stdout",
     "output_type": "stream",
     "text": [
      "Model Year    0\n",
      "FullName      0\n",
      "MPG           0\n",
      "Eng Displ     0\n",
      "# Cyl         0\n",
      "dtype: int64\n"
     ]
    }
   ],
   "source": [
    "data = pd.read_csv(\"../Data/2009.csv\")\n",
    "df09 = pd.DataFrame(data)\n",
    "df09[\"FullName\"] = \"2009 \" + df09[\"MFR\"] + \" \" + df09[\"CAR LINE\"]\n",
    "df09[\"Model Year\"] = '2009'\n",
    "df09 = df09.astype({\"Model Year\": 'int64'})\n",
    "df09 = df09.rename(columns={\"COMB MPG (GUIDE)\": \"MPG\", \"DISPLACEMENT\":\"Eng Displ\", \"NUMB CYL\":\"# Cyl\"})\n",
    "df09 = df09[['Model Year','FullName','MPG','Eng Displ','# Cyl']].copy()\n",
    "dataTypes = df09.dtypes.to_frame(name='Data Types') # turn data types into data frame\n",
    "dataTypes\n",
    "is_clean = df09.isnull().sum()\n",
    "print(is_clean)"
   ]
  },
  {
   "cell_type": "markdown",
   "id": "6be50228",
   "metadata": {},
   "source": [
    "### 2010"
   ]
  },
  {
   "cell_type": "code",
   "execution_count": 68,
   "id": "22b91e15",
   "metadata": {},
   "outputs": [
    {
     "name": "stdout",
     "output_type": "stream",
     "text": [
      "Model Year    0\n",
      "FullName      0\n",
      "MPG           0\n",
      "Eng Displ     0\n",
      "# Cyl         0\n",
      "dtype: int64\n"
     ]
    }
   ],
   "source": [
    "data = pd.read_csv(\"../Data/2010.csv\", low_memory=False)\n",
    "df10 = pd.DataFrame(data)\n",
    "empty_cols = [col for col in df10.columns if df10[col].isnull().all()]\n",
    "df10.drop(empty_cols, axis=1, inplace=True)\n",
    "df10[\"FullName\"] = \"2010 \" + df10[\"Mfr Name\"] + \" \" + df10[\"Carline\"]\n",
    "\n",
    "df10.dropna(subset=['# Cyl'], how='all', inplace=True)\n",
    "df10 = df10.astype({\"# Cyl\": 'int64'})\n",
    "\n",
    "df10 = df10.rename(columns={\"Comb FE (Guide) - Conventional Fuel\": \"MPG\", \"Model Yr\":\"Model Year\"})\n",
    "df10 = df10[['Model Year','FullName','MPG','Eng Displ','# Cyl']].copy()\n",
    "dataTypes = df10.dtypes.to_frame(name='Data Types') # turn data types into data frame\n",
    "dataTypes\n",
    "is_clean = df10.isnull().sum()\n",
    "print(is_clean)"
   ]
  },
  {
   "cell_type": "markdown",
   "id": "d968c4c7",
   "metadata": {},
   "source": [
    "### 2011"
   ]
  },
  {
   "cell_type": "code",
   "execution_count": 69,
   "id": "3299f255",
   "metadata": {},
   "outputs": [
    {
     "name": "stdout",
     "output_type": "stream",
     "text": [
      "Model Year    0\n",
      "FullName      0\n",
      "MPG           0\n",
      "Eng Displ     0\n",
      "# Cyl         0\n",
      "dtype: int64\n"
     ]
    }
   ],
   "source": [
    "data = pd.read_csv(\"../Data/2011.csv\", low_memory=False)\n",
    "df11 = pd.DataFrame(data)\n",
    "empty_cols = [col for col in df11.columns if df11[col].isnull().all()]\n",
    "df11.drop(empty_cols, axis=1, inplace=True)\n",
    "df11[\"FullName\"] = \"2011 \" + df11[\"Mfr Name\"] + \" \" + df11[\"Carline\"]\n",
    "\n",
    "\n",
    "df11.dropna(subset=['# Cyl'], how='all', inplace=True)\n",
    "df11 = df11.astype({\"# Cyl\": 'int64'})\n",
    "\n",
    "df11 = df11.rename(columns={\"Comb FE (Guide) - Conventional Fuel\": \"MPG\", \"Model Yr\":\"Model Year\"})\n",
    "df11 = df11[['Model Year','FullName','MPG','Eng Displ','# Cyl']].copy()\n",
    "dataTypes = df11.dtypes.to_frame(name='Data Types') # turn data types into data frame\n",
    "dataTypes\n",
    "is_clean = df11.isnull().sum()\n",
    "print(is_clean)"
   ]
  },
  {
   "cell_type": "markdown",
   "id": "d4a7673b",
   "metadata": {},
   "source": [
    "### 2012"
   ]
  },
  {
   "cell_type": "code",
   "execution_count": 70,
   "id": "6696c5ba",
   "metadata": {},
   "outputs": [
    {
     "name": "stdout",
     "output_type": "stream",
     "text": [
      "Model Year    0\n",
      "FullName      0\n",
      "MPG           0\n",
      "Eng Displ     0\n",
      "# Cyl         0\n",
      "dtype: int64\n"
     ]
    }
   ],
   "source": [
    "data = pd.read_csv(\"../Data/2012.csv\", low_memory=False)\n",
    "df12 = pd.DataFrame(data)\n",
    "empty_cols = [col for col in df12.columns if df12[col].isnull().all()]\n",
    "df12.drop(empty_cols, axis=1, inplace=True)\n",
    "df12[\"FullName\"] = \"2012 \" + df12[\"Mfr Name \"] + \" \" + df12[\"Carline\"]\n",
    "\n",
    "\n",
    "df12.dropna(subset=['# Cyl'], how='all', inplace=True)\n",
    "df12 = df12.astype({\"# Cyl\": 'int64'})\n",
    "\n",
    "df12 = df12.rename(columns={\"Comb FE (Guide) - Conventional Fuel\": \"MPG\", \"Model Yr\":\"Model Year\"})\n",
    "df12 = df12[['Model Year','FullName','MPG','Eng Displ','# Cyl']].copy()\n",
    "dataTypes = df12.dtypes.to_frame(name='Data Types') # turn data types into data frame\n",
    "dataTypes\n",
    "is_clean = df12.isnull().sum()\n",
    "print(is_clean)"
   ]
  },
  {
   "cell_type": "markdown",
   "id": "723370f0",
   "metadata": {},
   "source": [
    "### 2013"
   ]
  },
  {
   "cell_type": "code",
   "execution_count": 71,
   "id": "bde67486",
   "metadata": {},
   "outputs": [
    {
     "name": "stdout",
     "output_type": "stream",
     "text": [
      "Model Year    0\n",
      "FullName      0\n",
      "MPG           0\n",
      "Eng Displ     0\n",
      "# Cyl         0\n",
      "dtype: int64\n"
     ]
    }
   ],
   "source": [
    "data = pd.read_csv(\"../Data/2013.csv\", low_memory=False)\n",
    "df13 = pd.DataFrame(data)\n",
    "empty_cols = [col for col in df13.columns if df13[col].isnull().all()]\n",
    "df13.drop(empty_cols, axis=1, inplace=True)\n",
    "df13[\"FullName\"] = \"2013 \" + df13[\"Mfr Name\"] + \" \" + df13[\"Carline\"]\n",
    "df13 = df13.rename(columns={\"Comb FE (Guide) - Conventional Fuel\": \"MPG\"})\n",
    "df13 = df13[['Model Year','FullName','MPG','Eng Displ','# Cyl']].copy()\n",
    "dataTypes = df13.dtypes.to_frame(name='Data Types') # turn data types into data frame\n",
    "dataTypes\n",
    "is_clean = df13.isnull().sum()\n",
    "print(is_clean)"
   ]
  },
  {
   "cell_type": "markdown",
   "id": "4e372bb5",
   "metadata": {},
   "source": [
    "### 2014"
   ]
  },
  {
   "cell_type": "code",
   "execution_count": 72,
   "id": "6a584e32",
   "metadata": {
    "scrolled": true
   },
   "outputs": [
    {
     "name": "stdout",
     "output_type": "stream",
     "text": [
      "Model Year    0\n",
      "FullName      0\n",
      "MPG           0\n",
      "Eng Displ     0\n",
      "# Cyl         0\n",
      "dtype: int64\n"
     ]
    }
   ],
   "source": [
    "data = pd.read_csv(\"../Data/2014.csv\", low_memory=False)\n",
    "df14 = pd.DataFrame(data)\n",
    "empty_cols = [col for col in df14.columns if df14[col].isnull().all()]\n",
    "df14.drop(empty_cols, axis=1, inplace=True)\n",
    "df14[\"FullName\"] = \"2014 \" + df14[\"Mfr Name\"] + \" \" + df14[\"Carline\"]\n",
    "df14 = df14.rename(columns={\"Comb FE (Guide) - Conventional Fuel\": \"MPG\"})\n",
    "df14 = df14[['Model Year','FullName','MPG','Eng Displ','# Cyl']].copy()\n",
    "dataTypes = df14.dtypes.to_frame(name='Data Types') # turn data types into data frame\n",
    "dataTypes\n",
    "is_clean = df14.isnull().sum()\n",
    "print(is_clean)"
   ]
  },
  {
   "cell_type": "markdown",
   "id": "cc0fcdf6",
   "metadata": {},
   "source": [
    "### 2015"
   ]
  },
  {
   "cell_type": "code",
   "execution_count": 73,
   "id": "a39e1e32",
   "metadata": {},
   "outputs": [
    {
     "name": "stdout",
     "output_type": "stream",
     "text": [
      "Model Year    0\n",
      "FullName      0\n",
      "MPG           0\n",
      "Eng Displ     0\n",
      "# Cyl         0\n",
      "dtype: int64\n"
     ]
    }
   ],
   "source": [
    "data = pd.read_csv(\"../Data/2015.csv\", low_memory=False)\n",
    "df15 = pd.DataFrame(data)\n",
    "empty_cols = [col for col in df15.columns if df15[col].isnull().all()]\n",
    "df15.drop(empty_cols, axis=1, inplace=True)\n",
    "df15[\"FullName\"] = \"2015 \" + df15[\"Mfr Name\"] + \" \" + df15[\"Carline\"]\n",
    "df15 = df15.rename(columns={\"Comb FE (Guide) - Conventional Fuel\": \"MPG\"})\n",
    "df15 = df15[['Model Year','FullName','MPG','Eng Displ','# Cyl']].copy()\n",
    "dataTypes = df15.dtypes.to_frame(name='Data Types') # turn data types into data frame\n",
    "dataTypes\n",
    "is_clean = df15.isnull().sum()\n",
    "print(is_clean)"
   ]
  },
  {
   "cell_type": "markdown",
   "id": "b05b6b2d",
   "metadata": {},
   "source": [
    "### 2016"
   ]
  },
  {
   "cell_type": "code",
   "execution_count": 74,
   "id": "62e997e2",
   "metadata": {},
   "outputs": [
    {
     "name": "stdout",
     "output_type": "stream",
     "text": [
      "Model Year    0\n",
      "FullName      0\n",
      "MPG           0\n",
      "Eng Displ     0\n",
      "# Cyl         0\n",
      "dtype: int64\n"
     ]
    }
   ],
   "source": [
    "data = pd.read_csv(\"../Data/2016.csv\", low_memory=False)\n",
    "df16 = pd.DataFrame(data)\n",
    "empty_cols = [col for col in df16.columns if df16[col].isnull().all()]\n",
    "df16.drop(empty_cols, axis=1, inplace=True)\n",
    "df16[\"FullName\"] = \"2016 \" + df16[\"Mfr Name\"] + \" \" + df16[\"Carline\"]\n",
    "df16 = df16.rename(columns={\"Comb FE (Guide) - Conventional Fuel\": \"MPG\"})\n",
    "df16 = df16[['Model Year','FullName','MPG','Eng Displ','# Cyl']].copy()\n",
    "dataTypes = df16.dtypes.to_frame(name='Data Types') # turn data types into data frame\n",
    "dataTypes\n",
    "is_clean = df16.isnull().sum()\n",
    "print(is_clean)"
   ]
  },
  {
   "cell_type": "markdown",
   "id": "648a8eb1",
   "metadata": {},
   "source": [
    "### 2017"
   ]
  },
  {
   "cell_type": "code",
   "execution_count": 75,
   "id": "7d401d35",
   "metadata": {},
   "outputs": [
    {
     "name": "stdout",
     "output_type": "stream",
     "text": [
      "Model Year    0\n",
      "FullName      0\n",
      "MPG           0\n",
      "Eng Displ     0\n",
      "# Cyl         0\n",
      "dtype: int64\n"
     ]
    }
   ],
   "source": [
    "data = pd.read_csv(\"../Data/2017.csv\", low_memory=False)\n",
    "df17 = pd.DataFrame(data)\n",
    "empty_cols = [col for col in df17.columns if df17[col].isnull().all()]\n",
    "df17.drop(empty_cols, axis=1, inplace=True)\n",
    "df17[\"FullName\"] = \"2017 \" + df17[\"Mfr Name\"] + \" \" + df17[\"Carline\"]\n",
    "df17 = df17.rename(columns={\"Comb FE (Guide) - Conventional Fuel\": \"MPG\"})\n",
    "df17 = df17[['Model Year','FullName','MPG','Eng Displ','# Cyl']].copy()\n",
    "dataTypes = df17.dtypes.to_frame(name='Data Types') # turn data types into data frame\n",
    "dataTypes\n",
    "is_clean = df17.isnull().sum()\n",
    "print(is_clean)"
   ]
  },
  {
   "cell_type": "markdown",
   "id": "af1129bc",
   "metadata": {},
   "source": [
    "### 2018"
   ]
  },
  {
   "cell_type": "code",
   "execution_count": 76,
   "id": "471a91e4",
   "metadata": {},
   "outputs": [
    {
     "name": "stdout",
     "output_type": "stream",
     "text": [
      "Model Year    0\n",
      "FullName      0\n",
      "MPG           0\n",
      "Eng Displ     0\n",
      "# Cyl         0\n",
      "dtype: int64\n"
     ]
    }
   ],
   "source": [
    "data = pd.read_csv(\"../Data/2018.csv\", low_memory=False)\n",
    "df18 = pd.DataFrame(data)\n",
    "empty_cols = [col for col in df18.columns if df18[col].isnull().all()]\n",
    "df18.drop(empty_cols, axis=1, inplace=True)\n",
    "df18[\"FullName\"] = \"2018 \" + df18[\"Mfr Name\"] + \" \" + df18[\"Carline\"]\n",
    "df18 = df18.rename(columns={\"Comb FE (Guide) - Conventional Fuel\": \"MPG\"})\n",
    "df18 = df18[['Model Year','FullName','MPG','Eng Displ','# Cyl']].copy()\n",
    "dataTypes = df18.dtypes.to_frame(name='Data Types') # turn data types into data frame\n",
    "dataTypes\n",
    "is_clean = df18.isnull().sum()\n",
    "print(is_clean)"
   ]
  },
  {
   "cell_type": "markdown",
   "id": "918e0906",
   "metadata": {},
   "source": [
    "### 2019"
   ]
  },
  {
   "cell_type": "code",
   "execution_count": 77,
   "id": "1782d6ca",
   "metadata": {},
   "outputs": [
    {
     "name": "stdout",
     "output_type": "stream",
     "text": [
      "Model Year    0\n",
      "FullName      0\n",
      "MPG           0\n",
      "Eng Displ     0\n",
      "# Cyl         0\n",
      "dtype: int64\n"
     ]
    }
   ],
   "source": [
    "data = pd.read_csv(\"../Data/2019_1.csv\",encoding= 'unicode_escape')\n",
    "df19 = pd.DataFrame(data)\n",
    "empty_cols = [col for col in df19.columns if df19[col].isnull().all()]\n",
    "df19.drop(empty_cols, axis=1, inplace=True)\n",
    "df19[\"FullName\"] = \"2019 \" + df19[\"Mfr Name\"] + \" \" + df19[\"Carline\"]\n",
    "df19 = df19.rename(columns={\"Comb FE (Guide) - Conventional Fuel\": \"MPG\"})\n",
    "df19 = df19[['Model Year','FullName','MPG','Eng Displ','# Cyl']].copy()\n",
    "dataTypes = df19.dtypes.to_frame(name='Data Types') # turn data types into data frame\n",
    "dataTypes\n",
    "is_clean = df19.isnull().sum()\n",
    "print(is_clean)"
   ]
  },
  {
   "cell_type": "markdown",
   "id": "e16881f3",
   "metadata": {},
   "source": [
    "### 2020"
   ]
  },
  {
   "cell_type": "code",
   "execution_count": 78,
   "id": "14587b06",
   "metadata": {},
   "outputs": [
    {
     "name": "stdout",
     "output_type": "stream",
     "text": [
      "Model Year    0\n",
      "FullName      0\n",
      "MPG           0\n",
      "Eng Displ     0\n",
      "# Cyl         0\n",
      "dtype: int64\n"
     ]
    }
   ],
   "source": [
    "data = pd.read_csv(\"../Data/2020.csv\",encoding= 'unicode_escape')\n",
    "df20 = pd.DataFrame(data)\n",
    "empty_cols = [col for col in df20.columns if df20[col].isnull().all()]\n",
    "df20.drop(empty_cols, axis=1, inplace=True)\n",
    "df20[\"FullName\"] = \"2020 \" + df20[\"Mfr Name\"] + \" \" + df20[\"Carline\"]\n",
    "df20 = df20.rename(columns={\"Comb FE (Guide) - Conventional Fuel\": \"MPG\"})\n",
    "df20 = df20[['Model Year','FullName','MPG','Eng Displ','# Cyl']].copy()\n",
    "dataTypes = df20.dtypes.to_frame(name='Data Types') # turn data types into data frame\n",
    "dataTypes\n",
    "is_clean = df20.isnull().sum()\n",
    "print(is_clean)"
   ]
  },
  {
   "cell_type": "markdown",
   "id": "63ae55cf",
   "metadata": {},
   "source": [
    "### 2021"
   ]
  },
  {
   "cell_type": "code",
   "execution_count": 79,
   "id": "2d51f246",
   "metadata": {},
   "outputs": [
    {
     "name": "stdout",
     "output_type": "stream",
     "text": [
      "Model Year    0\n",
      "FullName      0\n",
      "MPG           0\n",
      "Eng Displ     0\n",
      "# Cyl         0\n",
      "dtype: int64\n"
     ]
    }
   ],
   "source": [
    "data = pd.read_csv(\"../Data/2021.csv\", encoding= 'unicode_escape')\n",
    "df21 = pd.DataFrame(data)\n",
    "empty_cols = [col for col in df21.columns if df21[col].isnull().all()]\n",
    "df21.drop(empty_cols, axis=1, inplace=True)\n",
    "df21[\"FullName\"] = \"2021 \" + df21[\"Mfr Name\"] + \" \" + df21[\"Carline\"]\n",
    "df21 = df21.rename(columns={\"Comb FE (Guide) - Conventional Fuel\": \"MPG\"})\n",
    "df21 = df21[['Model Year','FullName','MPG','Eng Displ','# Cyl']].copy()\n",
    "dataTypes = df21.dtypes.to_frame(name='Data Types') # turn data types into data frame\n",
    "dataTypes\n",
    "is_clean = df21.isnull().sum()\n",
    "print(is_clean)"
   ]
  },
  {
   "cell_type": "markdown",
   "id": "7de2b6e0",
   "metadata": {},
   "source": [
    "### 2022"
   ]
  },
  {
   "cell_type": "code",
   "execution_count": 80,
   "id": "38827f9e",
   "metadata": {},
   "outputs": [
    {
     "name": "stdout",
     "output_type": "stream",
     "text": [
      "Model Year    0\n",
      "FullName      0\n",
      "MPG           0\n",
      "Eng Displ     0\n",
      "# Cyl         0\n",
      "dtype: int64\n"
     ]
    }
   ],
   "source": [
    "data = pd.read_csv(\"../Data/2022.csv\", encoding= 'unicode_escape')\n",
    "df22 = pd.DataFrame(data)\n",
    "empty_cols = [col for col in df22.columns if df22[col].isnull().all()]\n",
    "df22.drop(empty_cols, axis=1, inplace=True)\n",
    "df22[\"FullName\"] = \"2022 \" + df22[\"Mfr Name\"] + \" \" + df22[\"Carline\"]\n",
    "df22 = df22.rename(columns={\"Comb FE (Guide) - Conventional Fuel\": \"MPG\"})\n",
    "df22 = df22[['Model Year','FullName','MPG','Eng Displ','# Cyl']].copy()\n",
    "dataTypes = df22.dtypes.to_frame(name='Data Types') # turn data types into data frame\n",
    "dataTypes\n",
    "is_clean = df22.isnull().sum()\n",
    "print(is_clean)"
   ]
  },
  {
   "cell_type": "markdown",
   "id": "17d34b7d",
   "metadata": {},
   "source": [
    "### 2023"
   ]
  },
  {
   "cell_type": "code",
   "execution_count": 81,
   "id": "bf0066ed",
   "metadata": {},
   "outputs": [
    {
     "name": "stdout",
     "output_type": "stream",
     "text": [
      "Model Year    0\n",
      "FullName      0\n",
      "MPG           0\n",
      "Eng Displ     0\n",
      "# Cyl         0\n",
      "dtype: int64\n"
     ]
    }
   ],
   "source": [
    "data = pd.read_csv(\"../Data/2023.csv\", encoding= 'unicode_escape')\n",
    "df23 = pd.DataFrame(data)\n",
    "empty_cols = [col for col in df23.columns if df23[col].isnull().all()]\n",
    "df23.drop(empty_cols, axis=1, inplace=True)\n",
    "df23[\"FullName\"] = \"2023 \" + df23[\"Mfr Name\"] + \" \" + df23[\"Carline\"]\n",
    "df23 = df23.rename(columns={\"Comb FE (Guide) - Conventional Fuel\": \"MPG\"})\n",
    "df23 = df23[['Model Year','FullName','MPG','Eng Displ','# Cyl']].copy()\n",
    "dataTypes = df23.dtypes.to_frame(name='Data Types') # turn data types into data frame\n",
    "dataTypes\n",
    "is_clean = df23.isnull().sum()\n",
    "print(is_clean)"
   ]
  },
  {
   "cell_type": "markdown",
   "id": "58d997e0",
   "metadata": {},
   "source": [
    "### 2024"
   ]
  },
  {
   "cell_type": "code",
   "execution_count": 82,
   "id": "0ad1c565",
   "metadata": {},
   "outputs": [
    {
     "name": "stdout",
     "output_type": "stream",
     "text": [
      "Model Year    0\n",
      "FullName      0\n",
      "MPG           0\n",
      "Eng Displ     0\n",
      "# Cyl         0\n",
      "dtype: int64\n"
     ]
    }
   ],
   "source": [
    "data = pd.read_csv(\"../Data/2024.csv\", encoding= 'unicode_escape')\n",
    "df24 = pd.DataFrame(data)\n",
    "empty_cols = [col for col in df24.columns if df24[col].isnull().all()]\n",
    "df24.drop(empty_cols, axis=1, inplace=True)\n",
    "df24[\"FullName\"] = \"2024 \" + df24[\"Mfr Name\"] + \" \" + df24[\"Carline\"]\n",
    "df24 = df24.rename(columns={\"Comb FE (Guide) - Conventional Fuel\": 'MPG'})\n",
    "df24 = df24[['Model Year','FullName','MPG','Eng Displ','# Cyl']].copy()\n",
    "dataTypes = df24.dtypes.to_frame(name='Data Types') # turn data types into data frame\n",
    "dataTypes\n",
    "is_clean = df24.isnull().sum()\n",
    "print(is_clean)"
   ]
  },
  {
   "cell_type": "markdown",
   "id": "d871482d",
   "metadata": {},
   "source": [
    "# Combine all dataframes"
   ]
  },
  {
   "cell_type": "code",
   "execution_count": 84,
   "id": "7abd3e6c",
   "metadata": {
    "scrolled": false
   },
   "outputs": [
    {
     "name": "stdout",
     "output_type": "stream",
     "text": [
      "                          FullName  MPG\n",
      "0         2022 BMW 228i Gran Coupe   28\n",
      "1  2022 BMW 228i xDrive Gran Coupe   27\n",
      "2              2022 BMW 230i Coupe   29\n",
      "3              2022 BMW 330i Sedan   30\n",
      "4       2022 BMW 330i xDrive Sedan   28\n",
      "(2411, 5)\n",
      "0              2022 BMW 228i Gran Coupe\n",
      "1       2022 BMW 228i xDrive Gran Coupe\n",
      "2                   2022 BMW 230i Coupe\n",
      "3                   2022 BMW 330i Sedan\n",
      "4            2022 BMW 330i xDrive Sedan\n",
      "                     ...               \n",
      "2406            2024 Toyota NX 350h AWD\n",
      "2407                2024 Toyota UX 250h\n",
      "2408                2024 Toyota UX 250h\n",
      "2409            2024 Toyota UX 250h AWD\n",
      "2410            2024 Toyota UX 250h AWD\n",
      "Name: FullName, Length: 2411, dtype: object\n"
     ]
    }
   ],
   "source": [
    "#result = pd.concat([df24, df23], axis=1, join=\"inner\")\n",
    "result = df24.merge(df23, how='outer', sort=True)\n",
    "result = result.merge(df22, how='outer', sort=True)\n",
    "print(result[['FullName','MPG']].head())\n",
    "print(result.shape)\n",
    "print(result['FullName'])\n",
    "# print(result) "
   ]
  },
  {
   "cell_type": "code",
   "execution_count": null,
   "id": "aee404f3",
   "metadata": {},
   "outputs": [
    {
     "name": "stdout",
     "output_type": "stream",
     "text": [
      "(29236, 5)\n",
      "       Model Year                 FullName  MPG  Eng Displ  # Cyl\n",
      "0            1989   1988 ACURA 2.3CL/3.0CL   23        3.0      6\n",
      "1            1989   1988 ACURA 2.3CL/3.0CL   25        2.3      4\n",
      "2            1989   1988 ACURA 2.3CL/3.0CL   27        2.3      4\n",
      "3            1989         1988 ACURA 3.2TL   22        3.2      6\n",
      "4            1989         1988 ACURA 3.5RL   20        3.5      6\n",
      "...           ...                      ...  ...        ...    ...\n",
      "29231        2024  2024 Toyota NX 350h AWD   39        2.5      4\n",
      "29232        2024      2024 Toyota UX 250h   42        2.0      4\n",
      "29233        2024      2024 Toyota UX 250h   42        2.0      4\n",
      "29234        2024  2024 Toyota UX 250h AWD   39        2.0      4\n",
      "29235        2024  2024 Toyota UX 250h AWD   39        2.0      4\n",
      "\n",
      "[29236 rows x 5 columns]\n"
     ]
    }
   ],
   "source": [
    "from functools import reduce\n",
    "data_frames = [df98, df99, df00, df01, df02, df03, df04, df05, df06, df07, df08, df09, df10, df11, df12, df13, df14, df15, df15, df16, df17, df18, df19, df20, df21, df22, df23, df24]\n",
    "df_merged = reduce(lambda  left,right: pd.merge(left,right,how='outer', sort=True), data_frames)\n",
    "print(df_merged.shape)\n",
    "print(df_merged)\n",
    "df_merged.to_csv('AllCarsCondensed.csv', index=False)"
   ]
  }
 ],
 "metadata": {
  "kernelspec": {
   "display_name": "Python 3",
   "language": "python",
   "name": "python3"
  },
  "language_info": {
   "codemirror_mode": {
    "name": "ipython",
    "version": 3
   },
   "file_extension": ".py",
   "mimetype": "text/x-python",
   "name": "python",
   "nbconvert_exporter": "python",
   "pygments_lexer": "ipython3",
   "version": "3.8.2"
  },
  "vscode": {
   "interpreter": {
    "hash": "31f2aee4e71d21fbe5cf8b01ff0e069b9275f58929596ceb00d14d90e3e16cd6"
   }
  }
 },
 "nbformat": 4,
 "nbformat_minor": 5
}
