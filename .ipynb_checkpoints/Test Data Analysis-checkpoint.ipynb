{
 "cells": [
  {
   "cell_type": "code",
   "execution_count": 1,
   "id": "a620b3db",
   "metadata": {},
   "outputs": [],
   "source": [
    "import pandas as pd\n",
    "import numpy as np\n",
    "import matplotlib.pyplot as plt\n",
    "from sklearn.linear_model import LinearRegression\n",
    "from sklearn.model_selection import train_test_split\n",
    "from sklearn.metrics import r2_score\n",
    "import seaborn as sns\n",
    "from matplotlib.animation import PillowWriter\n",
    "from statsmodels.stats.outliers_influence import variance_inflation_factor\n",
    "from sklearn import preprocessing"
   ]
  },
  {
   "cell_type": "code",
   "execution_count": 20,
   "id": "c7ca9582",
   "metadata": {
    "scrolled": false
   },
   "outputs": [
    {
     "name": "stdout",
     "output_type": "stream",
     "text": [
      "         Class  Manufacturer carline name  displ  cyl       trans drv  cty  \\\n",
      "0  TWO SEATERS         ACURA          NSX    3.0    6    Auto(L4)   R   18   \n",
      "1  TWO SEATERS         ACURA          NSX    3.2    6  Manual(M6)   R   17   \n",
      "2  TWO SEATERS  ASTON MARTIN    DB7 COUPE    3.2    6    Auto(L4)   R   14   \n",
      "3  TWO SEATERS  ASTON MARTIN    DB7 COUPE    3.2    6  Manual(M5)   R   14   \n",
      "4  TWO SEATERS  ASTON MARTIN  DB7 VOLANTE    3.2    6    Auto(L4)   R   14   \n",
      "\n",
      "   hwy  cmb  ...  2pv  2lv  4pv 4lv hpv hlv fcost   eng dscr   trans dscr  \\\n",
      "0   24   20  ...  NaN  NaN  NaN NaN NaN NaN  1050  DOHC VTEC  2MODE CLKUP   \n",
      "1   24   20  ...  NaN  NaN  NaN NaN NaN NaN  1050  DOHC VTEC          NaN   \n",
      "2   20   16  ...  NaN  NaN  NaN NaN NaN NaN  1312  ASTON-DB7        CLKUP   \n",
      "3   21   16  ...  NaN  NaN  NaN NaN NaN NaN  1312  ASTON-DB7          NaN   \n",
      "4   20   16  ...  NaN  NaN  NaN NaN NaN NaN  1312  ASTON-DB7        CLKUP   \n",
      "\n",
      "                        FullName  \n",
      "0                 1998 ACURA NSX  \n",
      "1                 1998 ACURA NSX  \n",
      "2    1998 ASTON MARTIN DB7 COUPE  \n",
      "3    1998 ASTON MARTIN DB7 COUPE  \n",
      "4  1998 ASTON MARTIN DB7 VOLANTE  \n",
      "\n",
      "[5 rows x 27 columns]\n"
     ]
    }
   ],
   "source": [
    "data = pd.read_csv(\"98guide6.csv\")\n",
    "df98 = pd.DataFrame(data)\n",
    "\n",
    "# Create a new column with the fullname of the car\n",
    "df98[\"FullName\"] = \"1998 \" + df98[\"Manufacturer\"] + \" \" + df98[\"carline name\"]\n",
    "print(df98.head())"
   ]
  },
  {
   "cell_type": "code",
   "execution_count": 21,
   "id": "5bf25794",
   "metadata": {},
   "outputs": [
    {
     "data": {
      "text/html": [
       "<div>\n",
       "<style scoped>\n",
       "    .dataframe tbody tr th:only-of-type {\n",
       "        vertical-align: middle;\n",
       "    }\n",
       "\n",
       "    .dataframe tbody tr th {\n",
       "        vertical-align: top;\n",
       "    }\n",
       "\n",
       "    .dataframe thead th {\n",
       "        text-align: right;\n",
       "    }\n",
       "</style>\n",
       "<table border=\"1\" class=\"dataframe\">\n",
       "  <thead>\n",
       "    <tr style=\"text-align: right;\">\n",
       "      <th></th>\n",
       "      <th>Data Types</th>\n",
       "    </tr>\n",
       "  </thead>\n",
       "  <tbody>\n",
       "    <tr>\n",
       "      <th>Class</th>\n",
       "      <td>object</td>\n",
       "    </tr>\n",
       "    <tr>\n",
       "      <th>Manufacturer</th>\n",
       "      <td>object</td>\n",
       "    </tr>\n",
       "    <tr>\n",
       "      <th>carline name</th>\n",
       "      <td>object</td>\n",
       "    </tr>\n",
       "    <tr>\n",
       "      <th>displ</th>\n",
       "      <td>float64</td>\n",
       "    </tr>\n",
       "    <tr>\n",
       "      <th>cyl</th>\n",
       "      <td>int64</td>\n",
       "    </tr>\n",
       "    <tr>\n",
       "      <th>trans</th>\n",
       "      <td>object</td>\n",
       "    </tr>\n",
       "    <tr>\n",
       "      <th>drv</th>\n",
       "      <td>object</td>\n",
       "    </tr>\n",
       "    <tr>\n",
       "      <th>cty</th>\n",
       "      <td>int64</td>\n",
       "    </tr>\n",
       "    <tr>\n",
       "      <th>hwy</th>\n",
       "      <td>int64</td>\n",
       "    </tr>\n",
       "    <tr>\n",
       "      <th>cmb</th>\n",
       "      <td>int64</td>\n",
       "    </tr>\n",
       "    <tr>\n",
       "      <th>ucty</th>\n",
       "      <td>float64</td>\n",
       "    </tr>\n",
       "    <tr>\n",
       "      <th>uhwy</th>\n",
       "      <td>float64</td>\n",
       "    </tr>\n",
       "    <tr>\n",
       "      <th>ucmb</th>\n",
       "      <td>float64</td>\n",
       "    </tr>\n",
       "    <tr>\n",
       "      <th>fl</th>\n",
       "      <td>object</td>\n",
       "    </tr>\n",
       "    <tr>\n",
       "      <th>G</th>\n",
       "      <td>object</td>\n",
       "    </tr>\n",
       "    <tr>\n",
       "      <th>T</th>\n",
       "      <td>object</td>\n",
       "    </tr>\n",
       "    <tr>\n",
       "      <th>S</th>\n",
       "      <td>object</td>\n",
       "    </tr>\n",
       "    <tr>\n",
       "      <th>2pv</th>\n",
       "      <td>float64</td>\n",
       "    </tr>\n",
       "    <tr>\n",
       "      <th>2lv</th>\n",
       "      <td>float64</td>\n",
       "    </tr>\n",
       "    <tr>\n",
       "      <th>4pv</th>\n",
       "      <td>float64</td>\n",
       "    </tr>\n",
       "    <tr>\n",
       "      <th>4lv</th>\n",
       "      <td>float64</td>\n",
       "    </tr>\n",
       "    <tr>\n",
       "      <th>hpv</th>\n",
       "      <td>float64</td>\n",
       "    </tr>\n",
       "    <tr>\n",
       "      <th>hlv</th>\n",
       "      <td>float64</td>\n",
       "    </tr>\n",
       "    <tr>\n",
       "      <th>fcost</th>\n",
       "      <td>int64</td>\n",
       "    </tr>\n",
       "    <tr>\n",
       "      <th>eng dscr</th>\n",
       "      <td>object</td>\n",
       "    </tr>\n",
       "    <tr>\n",
       "      <th>trans dscr</th>\n",
       "      <td>object</td>\n",
       "    </tr>\n",
       "    <tr>\n",
       "      <th>FullName</th>\n",
       "      <td>object</td>\n",
       "    </tr>\n",
       "  </tbody>\n",
       "</table>\n",
       "</div>"
      ],
      "text/plain": [
       "             Data Types\n",
       "Class            object\n",
       "Manufacturer     object\n",
       "carline name     object\n",
       "displ           float64\n",
       "cyl               int64\n",
       "trans            object\n",
       "drv              object\n",
       "cty               int64\n",
       "hwy               int64\n",
       "cmb               int64\n",
       "ucty            float64\n",
       "uhwy            float64\n",
       "ucmb            float64\n",
       "fl               object\n",
       "G                object\n",
       "T                object\n",
       "S                object\n",
       "2pv             float64\n",
       "2lv             float64\n",
       "4pv             float64\n",
       "4lv             float64\n",
       "hpv             float64\n",
       "hlv             float64\n",
       "fcost             int64\n",
       "eng dscr         object\n",
       "trans dscr       object\n",
       "FullName         object"
      ]
     },
     "execution_count": 21,
     "metadata": {},
     "output_type": "execute_result"
    }
   ],
   "source": [
    "dataTypes = df98.dtypes.to_frame(name='Data Types') # turn data types into data frame\n",
    "\n",
    "dataTypes # prints data types"
   ]
  },
  {
   "cell_type": "code",
   "execution_count": 22,
   "id": "a12952c6",
   "metadata": {
    "scrolled": false
   },
   "outputs": [
    {
     "name": "stdout",
     "output_type": "stream",
     "text": [
      "Class             0\n",
      "Manufacturer      0\n",
      "carline name      0\n",
      "displ             0\n",
      "cyl               0\n",
      "trans             0\n",
      "drv               0\n",
      "cty               0\n",
      "hwy               0\n",
      "cmb               0\n",
      "ucty              0\n",
      "uhwy              0\n",
      "ucmb              0\n",
      "fl                0\n",
      "G               771\n",
      "T               728\n",
      "S               794\n",
      "2pv             657\n",
      "2lv             657\n",
      "4pv             518\n",
      "4lv             518\n",
      "hpv             711\n",
      "hlv             711\n",
      "fcost             0\n",
      "eng dscr        633\n",
      "trans dscr      299\n",
      "FullName          0\n",
      "dtype: int64\n"
     ]
    }
   ],
   "source": [
    "is_clean = df98.isnull().sum() # finds any missing values for each column and sums it\n",
    "\n",
    "print(is_clean) # print results"
   ]
  },
  {
   "cell_type": "markdown",
   "id": "e177e8b4",
   "metadata": {},
   "source": [
    "# Fill in the rest of the data"
   ]
  },
  {
   "cell_type": "markdown",
   "id": "af452f15",
   "metadata": {},
   "source": [
    "### 99"
   ]
  },
  {
   "cell_type": "code",
   "execution_count": 25,
   "id": "a7aabe0a",
   "metadata": {
    "scrolled": false
   },
   "outputs": [
    {
     "name": "stdout",
     "output_type": "stream",
     "text": [
      "         Class Manufacturer carline name  displ  cyl       trans drv  cty  \\\n",
      "0  TWO SEATERS        ACURA          NSX    3.0    6    Auto(L4)   R   18   \n",
      "1  TWO SEATERS        ACURA          NSX    3.2    6  Manual(M6)   R   17   \n",
      "2  TWO SEATERS          BMW      M COUPE    3.2    6  Manual(M5)   R   19   \n",
      "3  TWO SEATERS          BMW   M ROADSTER    3.2    6  Manual(M5)   R   19   \n",
      "4  TWO SEATERS          BMW     Z3 COUPE    2.8    6    Auto(L4)   R   19   \n",
      "\n",
      "   hwy  cmb  ...  2pv  2lv  4pv 4lv hpv hlv fcost   eng dscr   trans dscr  \\\n",
      "0   24   20  ...  NaN  NaN  NaN NaN NaN NaN   975  DOHC-VTEC  2MODE CLKUP   \n",
      "1   24   20  ...  NaN  NaN  NaN NaN NaN NaN   975  DOHC-VTEC          NaN   \n",
      "2   26   22  ...  NaN  NaN  NaN NaN NaN NaN   785        NaN          NaN   \n",
      "3   26   22  ...  NaN  NaN  NaN NaN NaN NaN   785        NaN          NaN   \n",
      "4   26   22  ...  NaN  NaN  NaN NaN NaN NaN   785        NaN          NaN   \n",
      "\n",
      "              FullName  \n",
      "0       1999 ACURA NSX  \n",
      "1       1999 ACURA NSX  \n",
      "2     1999 BMW M COUPE  \n",
      "3  1999 BMW M ROADSTER  \n",
      "4    1999 BMW Z3 COUPE  \n",
      "\n",
      "[5 rows x 27 columns]\n"
     ]
    }
   ],
   "source": [
    "data = pd.read_csv(\"Data\\99guide6.csv\")\n",
    "df99 = pd.DataFrame(data)\n",
    "\n",
    "# Create a new column with the fullname of the car\n",
    "df99[\"FullName\"] = \"1999 \" + df99[\"Manufacturer\"] + \" \" + df99[\"carline name\"]\n",
    "print(df99.head())"
   ]
  },
  {
   "cell_type": "markdown",
   "id": "b6c330db",
   "metadata": {},
   "source": [
    "### 2000"
   ]
  },
  {
   "cell_type": "code",
   "execution_count": 38,
   "id": "3cf4e848",
   "metadata": {},
   "outputs": [
    {
     "name": "stdout",
     "output_type": "stream",
     "text": [
      "         Class Manufacturer carline name  displ  cyl       trans drv  cty  \\\n",
      "0  TWO SEATERS        ACURA          NSX    3.0    6    Auto(L4)   R   17   \n",
      "1  TWO SEATERS        ACURA          NSX    3.2    6  Manual(M6)   R   17   \n",
      "2  TWO SEATERS          BMW      M COUPE    3.2    6  Manual(M5)   R   19   \n",
      "3  TWO SEATERS          BMW     Z3 COUPE    2.8    6    Auto(L4)   R   19   \n",
      "4  TWO SEATERS          BMW     Z3 COUPE    2.8    6  Manual(M5)   R   19   \n",
      "\n",
      "   hwy  cmb  ...  4pv  4lv  hpv hlv fcost   eng dscr trans dscr  vpc  cls  \\\n",
      "0   24   20  ...  NaN  NaN  NaN NaN  1012  DOHC-VTEC      2MODE    4    1   \n",
      "1   24   20  ...  NaN  NaN  NaN NaN  1012  DOHC-VTEC        NaN    4    1   \n",
      "2   26   21  ...  NaN  NaN  NaN NaN   964        NaN        NaN    4    1   \n",
      "3   26   22  ...  NaN  NaN  NaN NaN   921        NaN        NaN    4    1   \n",
      "4   26   21  ...  NaN  NaN  NaN NaN   964        NaN        NaN    4    1   \n",
      "\n",
      "            FullName  \n",
      "0     2000 ACURA NSX  \n",
      "1     2000 ACURA NSX  \n",
      "2   2000 BMW M COUPE  \n",
      "3  2000 BMW Z3 COUPE  \n",
      "4  2000 BMW Z3 COUPE  \n",
      "\n",
      "[5 rows x 29 columns]\n",
      "Empty cmb rows: 0\n"
     ]
    }
   ],
   "source": [
    "data = pd.read_csv(\"Data\\\\2000.csv\")\n",
    "df00 = pd.DataFrame(data)\n",
    "df00[\"FullName\"] = \"2000 \" + df00[\"Manufacturer\"] + \" \" + df00[\"carline name\"]\n",
    "print(df00.head())\n",
    "is_clean = df00[\"cmb\"].isnull().sum()\n",
    "print(\"Empty cmb rows:\",is_clean)"
   ]
  },
  {
   "cell_type": "markdown",
   "id": "0445ea6c",
   "metadata": {},
   "source": [
    "### 2001"
   ]
  },
  {
   "cell_type": "code",
   "execution_count": 39,
   "id": "c4264343",
   "metadata": {},
   "outputs": [
    {
     "name": "stdout",
     "output_type": "stream",
     "text": [
      "         Class Manufacturer         carline name  displ  cyl       trans drv  \\\n",
      "0  TWO SEATERS        ACURA                  NSX    3.0    6    Auto(S4)   R   \n",
      "1  TWO SEATERS        ACURA                  NSX    3.2    6  Manual(M6)   R   \n",
      "2  TWO SEATERS         AUDI          TT ROADSTER    1.8    4  Manual(M5)   F   \n",
      "3  TWO SEATERS         AUDI  TT ROADSTER QUATTRO    1.8    4  Manual(M6)   4   \n",
      "4  TWO SEATERS          BMW             Z3 COUPE    3.0    6  Manual(M5)   R   \n",
      "\n",
      "   cty  hwy  cmb  ...  4pv  4lv  hpv hlv fcost   eng dscr trans dscr  vpc  \\\n",
      "0   17   24   20  ...  NaN  NaN  NaN NaN  1162  DOHC-VTEC      2MODE    4   \n",
      "1   17   24   19  ...  NaN  NaN  NaN NaN  1223  DOHC-VTEC        NaN    4   \n",
      "2   22   30   25  ...  NaN  NaN  NaN NaN   930        NaN        NaN    5   \n",
      "3   20   28   23  ...  NaN  NaN  NaN NaN  1011        NaN        NaN    5   \n",
      "4   21   28   24  ...  NaN  NaN  NaN NaN   970        NaN        NaN    4   \n",
      "\n",
      "   cls                       FullName  \n",
      "0    1                 2001 ACURA NSX  \n",
      "1    1                 2001 ACURA NSX  \n",
      "2    1          2001 AUDI TT ROADSTER  \n",
      "3    1  2001 AUDI TT ROADSTER QUATTRO  \n",
      "4    1              2001 BMW Z3 COUPE  \n",
      "\n",
      "[5 rows x 29 columns]\n",
      "Empty cmb rows: 0\n"
     ]
    }
   ],
   "source": [
    "data = pd.read_csv(\"Data\\\\2001.csv\")\n",
    "df01 = pd.DataFrame(data)\n",
    "df01[\"FullName\"] = \"2001 \" + df01[\"Manufacturer\"] + \" \" + df01[\"carline name\"]\n",
    "print(df01.head())\n",
    "is_clean = df01[\"cmb\"].isnull().sum()\n",
    "print(\"Empty cmb rows:\",is_clean)"
   ]
  },
  {
   "cell_type": "markdown",
   "id": "c7ed7003",
   "metadata": {},
   "source": [
    "### 2002"
   ]
  },
  {
   "cell_type": "code",
   "execution_count": 40,
   "id": "1d5769c2",
   "metadata": {
    "scrolled": false
   },
   "outputs": [
    {
     "name": "stdout",
     "output_type": "stream",
     "text": [
      "         Class  Manufacturer           carline name  displ  cyl       trans  \\\n",
      "0  TWO SEATERS         ACURA                    NSX    3.0    6    Auto(S4)   \n",
      "1  TWO SEATERS         ACURA                    NSX    3.2    6  Manual(M6)   \n",
      "2  TWO SEATERS  ASTON MARTIN  ASTON MARTIN VANQUISH    5.9   12    Auto(S6)   \n",
      "3  TWO SEATERS          AUDI            TT ROADSTER    1.8    4  Manual(M5)   \n",
      "4  TWO SEATERS          AUDI    TT ROADSTER QUATTRO    1.8    4  Manual(M6)   \n",
      "\n",
      "  drv  bidx  cty  hwy  ...  4pv  4lv  hpv  hlv fcost   eng dscr trans dscr  \\\n",
      "0   R    60   17   24  ...  NaN  NaN  NaN  NaN  1238  DOHC-VTEC      2MODE   \n",
      "1   R    65   17   24  ...  NaN  NaN  NaN  NaN  1302  DOHC-VTEC        NaN   \n",
      "2   R     1   12   19  ...  NaN  NaN  NaN  NaN  1651    GUZZLER      CLKUP   \n",
      "3   F    18   22   31  ...  NaN  NaN  NaN  NaN   953        NaN        NaN   \n",
      "4   4    18   20   28  ...  NaN  NaN  NaN  NaN  1077        NaN        NaN   \n",
      "\n",
      "   vpc  cls                                 FullName  \n",
      "0  4.0    1                           2002 ACURA NSX  \n",
      "1  4.0    1                           2002 ACURA NSX  \n",
      "2  4.0    1  2002 ASTON MARTIN ASTON MARTIN VANQUISH  \n",
      "3  5.0    1                    2002 AUDI TT ROADSTER  \n",
      "4  5.0    1            2002 AUDI TT ROADSTER QUATTRO  \n",
      "\n",
      "[5 rows x 30 columns]\n",
      "Empty cmb rows: 0\n"
     ]
    }
   ],
   "source": [
    "data = pd.read_csv(\"Data\\\\2002.csv\")\n",
    "df02 = pd.DataFrame(data)\n",
    "df02[\"FullName\"] = \"2002 \" + df02[\"Manufacturer\"] + \" \" + df02[\"carline name\"]\n",
    "print(df02.head())\n",
    "is_clean = df02[\"cmb\"].isnull().sum()\n",
    "print(\"Empty cmb rows:\",is_clean)"
   ]
  },
  {
   "cell_type": "markdown",
   "id": "1ed3e929",
   "metadata": {},
   "source": [
    "### 2003"
   ]
  },
  {
   "cell_type": "code",
   "execution_count": 41,
   "id": "ad820228",
   "metadata": {},
   "outputs": [
    {
     "name": "stdout",
     "output_type": "stream",
     "text": [
      "         Class Manufacturer            carline name  displ  cyl       trans  \\\n",
      "0  TWO SEATERS        ACURA                     NSX    3.0    6    Auto(S4)   \n",
      "1  TWO SEATERS        ACURA                     NSX    3.2    6  Manual(M6)   \n",
      "2  TWO SEATERS       ALPINA  BMW/ALPINA ROADSTER V8    4.8    8    Auto(L5)   \n",
      "3  TWO SEATERS         AUDI             TT ROADSTER    1.8    4    Auto(S6)   \n",
      "4  TWO SEATERS         AUDI     TT ROADSTER QUATTRO    1.8    4  Manual(M6)   \n",
      "\n",
      "  drv  bidx  cty  hwy  ...  4pv  4lv  hpv  hlv fcost eng dscr    trans dscr  \\\n",
      "0   R    55   17   24  ...  NaN  NaN  NaN  NaN  1238           2MODE CLKUP    \n",
      "1   R    75   17   24  ...  NaN  NaN  NaN  NaN  1302                    NaN   \n",
      "2   R    48   14   21  ...  NaN  NaN  NaN  NaN  1455  GUZZLER  2MODE CLKUP    \n",
      "3   F    18   20   28  ...  NaN  NaN  NaN  NaN  1077           3MODE CLKUP    \n",
      "4   4    18   20   29  ...  NaN  NaN  NaN  NaN  1077                    NaN   \n",
      "\n",
      "   vpc  cls                            FullName  \n",
      "0  4.0    1                      2003 ACURA NSX  \n",
      "1  4.0    1                      2003 ACURA NSX  \n",
      "2  4.0    1  2003 ALPINA BMW/ALPINA ROADSTER V8  \n",
      "3  5.0    1               2003 AUDI TT ROADSTER  \n",
      "4  5.0    1       2003 AUDI TT ROADSTER QUATTRO  \n",
      "\n",
      "[5 rows x 30 columns]\n",
      "Empty cmb rows: 0\n"
     ]
    }
   ],
   "source": [
    "data = pd.read_csv(\"Data\\\\2003.csv\")\n",
    "df03 = pd.DataFrame(data)\n",
    "df03[\"FullName\"] = \"2003 \" + df03[\"Manufacturer\"] + \" \" + df03[\"carline name\"]\n",
    "print(df03.head())\n",
    "is_clean = df03[\"cmb\"].isnull().sum()\n",
    "print(\"Empty cmb rows:\",is_clean)"
   ]
  },
  {
   "cell_type": "markdown",
   "id": "dea0db4f",
   "metadata": {},
   "source": [
    "### 2004"
   ]
  },
  {
   "cell_type": "code",
   "execution_count": 42,
   "id": "318874ea",
   "metadata": {},
   "outputs": [
    {
     "name": "stdout",
     "output_type": "stream",
     "text": [
      "         Class Manufacturer         carline name  displ  cyl       trans drv  \\\n",
      "0  TWO SEATERS        ACURA                  NSX    3.0    6    Auto(S4)   R   \n",
      "1  TWO SEATERS        ACURA                  NSX    3.2    6  Manual(M6)   R   \n",
      "2  TWO SEATERS         AUDI          TT ROADSTER    1.8    4    Auto(S6)   F   \n",
      "3  TWO SEATERS         AUDI  TT ROADSTER QUATTRO    1.8    4  Manual(M6)   4   \n",
      "4  TWO SEATERS         AUDI  TT ROADSTER QUATTRO    3.2    6    Auto(S6)   4   \n",
      "\n",
      "   bidx  cty  hwy  ...  4pv  4lv  hpv  hlv fcost eng dscr    trans dscr  vpc  \\\n",
      "0    65   17   24  ...  NaN  NaN  NaN  NaN  1200     DOHC  2MODE CLKUP   4.0   \n",
      "1    75   17   24  ...  NaN  NaN  NaN  NaN  1200     DOHC           NaN  4.0   \n",
      "2    18   20   28  ...  NaN  NaN  NaN  NaN  1044           3MODE CLKUP   5.0   \n",
      "3    18   20   28  ...  NaN  NaN  NaN  NaN  1044                    NaN  5.0   \n",
      "4     9   22   27  ...  NaN  NaN  NaN  NaN  1001                 3MODE   5.0   \n",
      "\n",
      "   cls                       FullName  \n",
      "0    1                 2004 ACURA NSX  \n",
      "1    1                 2004 ACURA NSX  \n",
      "2    1          2004 AUDI TT ROADSTER  \n",
      "3    1  2004 AUDI TT ROADSTER QUATTRO  \n",
      "4    1  2004 AUDI TT ROADSTER QUATTRO  \n",
      "\n",
      "[5 rows x 30 columns]\n",
      "Empty cmb rows: 0\n"
     ]
    }
   ],
   "source": [
    "data = pd.read_csv(\"Data\\\\2004.csv\")\n",
    "df04 = pd.DataFrame(data)\n",
    "df04[\"FullName\"] = \"2004 \" + df04[\"Manufacturer\"] + \" \" + df04[\"carline name\"]\n",
    "print(df04.head())\n",
    "is_clean = df04[\"cmb\"].isnull().sum()\n",
    "print(\"Empty cmb rows:\",is_clean)"
   ]
  },
  {
   "cell_type": "markdown",
   "id": "30bfda85",
   "metadata": {},
   "source": [
    "### 2005"
   ]
  },
  {
   "cell_type": "code",
   "execution_count": 43,
   "id": "197e8a43",
   "metadata": {},
   "outputs": [
    {
     "name": "stdout",
     "output_type": "stream",
     "text": [
      "         Class Manufacturer         carline name  displ  cyl       trans drv  \\\n",
      "0  TWO SEATERS        ACURA                  NSX    3.0    6    Auto(S4)   R   \n",
      "1  TWO SEATERS        ACURA                  NSX    3.2    6  Manual(M6)   R   \n",
      "2  TWO SEATERS         AUDI          TT ROADSTER    1.8    4    Auto(S6)   F   \n",
      "3  TWO SEATERS         AUDI  TT ROADSTER QUATTRO    1.8    4  Manual(M6)   4   \n",
      "4  TWO SEATERS         AUDI  TT ROADSTER QUATTRO    3.2    6    Auto(S6)   4   \n",
      "\n",
      "   bidx  cty  hwy  ...  4pv  4lv  hpv  hlv fcost eng dscr    trans dscr  vpc  \\\n",
      "0    62   17   24  ...  NaN  NaN  NaN  NaN  1462     DOHC  2MODE CLKUP   4.0   \n",
      "1    71   17   24  ...  NaN  NaN  NaN  NaN  1462     DOHC           NaN  4.0   \n",
      "2    13   20   28  ...  NaN  NaN  NaN  NaN  1272           3MODE CLKUP   5.0   \n",
      "3    13   20   29  ...  NaN  NaN  NaN  NaN  1272                    NaN  5.0   \n",
      "4    15   22   27  ...  NaN  NaN  NaN  NaN  1220                 3MODE   5.0   \n",
      "\n",
      "   cls                       FullName  \n",
      "0    1                 2005 ACURA NSX  \n",
      "1    1                 2005 ACURA NSX  \n",
      "2    1          2005 AUDI TT ROADSTER  \n",
      "3    1  2005 AUDI TT ROADSTER QUATTRO  \n",
      "4    1  2005 AUDI TT ROADSTER QUATTRO  \n",
      "\n",
      "[5 rows x 30 columns]\n",
      "Empty cmb rows: 0\n"
     ]
    }
   ],
   "source": [
    "data = pd.read_csv(\"Data\\\\2005.csv\")\n",
    "df05 = pd.DataFrame(data)\n",
    "df05[\"FullName\"] = \"2005 \" + df05[\"Manufacturer\"] + \" \" + df05[\"carline name\"]\n",
    "print(df05.head())\n",
    "is_clean = df05[\"cmb\"].isnull().sum()\n",
    "print(\"Empty cmb rows:\",is_clean)"
   ]
  },
  {
   "cell_type": "markdown",
   "id": "7a054ea4",
   "metadata": {},
   "source": [
    "### 2006"
   ]
  },
  {
   "cell_type": "code",
   "execution_count": null,
   "id": "69ec4c76",
   "metadata": {},
   "outputs": [],
   "source": [
    "data = pd.read_csv(\"Data\\\\2006.csv\")\n",
    "df06 = pd.DataFrame(data)\n",
    "df06[\"FullName\"] = \"2006 \" + df06[\"Manufacturer\"] + \" \" + df06[\"carline name\"]\n",
    "print(df06.head())\n",
    "is_clean = df06[\"cmb\"].isnull().sum()\n",
    "print(\"Empty cmb rows:\",is_clean)"
   ]
  },
  {
   "cell_type": "markdown",
   "id": "4ba4ce83",
   "metadata": {},
   "source": [
    "### 2007"
   ]
  },
  {
   "cell_type": "code",
   "execution_count": 46,
   "id": "91ed5ee0",
   "metadata": {},
   "outputs": [
    {
     "name": "stdout",
     "output_type": "stream",
     "text": [
      "         CLASS           MFR        CAR LINE  DISPLACEMENT  NUMB CYL  \\\n",
      "0  TWO SEATERS  ASTON MARTIN      V8 VANTAGE           4.3         8   \n",
      "1  TWO SEATERS  ASTON MARTIN  V8 VANTAGE ASM           4.3         8   \n",
      "2  TWO SEATERS           BMW         Z4 3.0I           3.0         6   \n",
      "3  TWO SEATERS           BMW         Z4 3.0I           3.0         6   \n",
      "4  TWO SEATERS           BMW        Z4 3.0SI           3.0         6   \n",
      "\n",
      "        TRANS DRIVE SYS  INDEX NUMB  CITY MPG (GUIDE)  HWY MPG (GUIDE)  ...  \\\n",
      "0  Manual(M6)         R          11                14               20  ...   \n",
      "1    Auto(S6)         R          12                15               21  ...   \n",
      "2  Manual(M6)         R          30                20               30  ...   \n",
      "3    Auto(S6)         R          30                21               30  ...   \n",
      "4  Manual(M6)         R          30                20               30  ...   \n",
      "\n",
      "   AVG 4D LUGG VOL  AVG HB PAS VOL  AVG HB LUGG VOL  ANL FL CST ENG BLK TXT  \\\n",
      "0              NaN             NaN              NaN        2672               \n",
      "1              NaN             NaN              NaN        2514               \n",
      "2              NaN             NaN              NaN        1783               \n",
      "3              NaN             NaN              NaN        1783               \n",
      "4              NaN             NaN              NaN        1783               \n",
      "\n",
      "  TRANS DESC TXT VLVS PER CYL CLS  5C CODE                          FullName  \n",
      "0            NaN          4.0   1      NaN      2007 ASTON MARTIN V8 VANTAGE  \n",
      "1         4MODE           4.0   1      NaN  2007 ASTON MARTIN V8 VANTAGE ASM  \n",
      "2            NaN          4.0   1      NaN                  2007 BMW Z4 3.0I  \n",
      "3   3MODE CLKUP           4.0   1      NaN                  2007 BMW Z4 3.0I  \n",
      "4            NaN          4.0   1      NaN                 2007 BMW Z4 3.0SI  \n",
      "\n",
      "[5 rows x 31 columns]\n",
      "Empty cmb rows: 0\n"
     ]
    }
   ],
   "source": [
    "data = pd.read_csv(\"Data\\\\2007.csv\")\n",
    "df07 = pd.DataFrame(data)\n",
    "df07[\"FullName\"] = \"2007 \" + df07[\"MFR\"] + \" \" + df07[\"CAR LINE\"]\n",
    "print(df07.head())\n",
    "is_clean = df07[\"COMB MPG (GUIDE)\"].isnull().sum()\n",
    "print(\"Empty cmb rows:\",is_clean)"
   ]
  },
  {
   "cell_type": "markdown",
   "id": "dc4b3491",
   "metadata": {},
   "source": [
    "### 2008"
   ]
  },
  {
   "cell_type": "code",
   "execution_count": 55,
   "id": "dea38c32",
   "metadata": {},
   "outputs": [
    {
     "name": "stdout",
     "output_type": "stream",
     "text": [
      "                       FullName  COMB MPG (GUIDE)\n",
      "0  2008 ASTON MARTIN V8 VANTAGE                15\n",
      "1  2008 ASTON MARTIN V8 VANTAGE                15\n",
      "2                  2008 AUDI R8                15\n",
      "3                  2008 AUDI R8                15\n",
      "4         2008 AUDI TT ROADSTER                25\n",
      "Empty cmb rows: 0\n"
     ]
    }
   ],
   "source": [
    "data = pd.read_csv(\"Data\\\\2008.csv\")\n",
    "df08 = pd.DataFrame(data)\n",
    "df08[\"FullName\"] = \"2008 \" + df08[\"MFR\"] + \" \" + df08[\"CAR LINE\"]\n",
    "print(df08[['FullName', 'COMB MPG (GUIDE)']].head())\n",
    "is_clean = df08[\"COMB MPG (GUIDE)\"].isnull().sum()\n",
    "print(\"Empty cmb rows:\",is_clean)"
   ]
  },
  {
   "cell_type": "markdown",
   "id": "69997ae6",
   "metadata": {},
   "source": [
    "### 2009"
   ]
  },
  {
   "cell_type": "code",
   "execution_count": 48,
   "id": "f452c465",
   "metadata": {
    "scrolled": false
   },
   "outputs": [
    {
     "name": "stdout",
     "output_type": "stream",
     "text": [
      "         CLASS           MFR    CAR LINE  DISPLACEMENT  NUMB CYL       TRANS  \\\n",
      "0  TWO SEATERS  ASTON MARTIN   DBS COUPE           5.9        12    Auto(S6)   \n",
      "1  TWO SEATERS  ASTON MARTIN   DBS COUPE           5.9        12  Manual(M6)   \n",
      "2  TWO SEATERS  ASTON MARTIN  V8 VANTAGE           4.7         8    Auto(S6)   \n",
      "3  TWO SEATERS  ASTON MARTIN  V8 VANTAGE           4.7         8  Manual(M6)   \n",
      "4  TWO SEATERS          AUDI          R8           4.2         8  Manual(M6)   \n",
      "\n",
      "  DRIVE SYS  INDEX NUMB  CITY MPG (GUIDE)  HWY MPG (GUIDE)  ...  Unnamed: 141  \\\n",
      "0         R         6.0                12               18  ...           NaN   \n",
      "1         R         1.0                11               17  ...           NaN   \n",
      "2         R         5.0                13               19  ...           NaN   \n",
      "3         R         4.0                12               19  ...           NaN   \n",
      "4         4        26.0                12               19  ...           NaN   \n",
      "\n",
      "  Unnamed: 142 Unnamed: 143 Unnamed: 144 Unnamed: 145 Unnamed: 146  \\\n",
      "0          NaN          NaN          NaN          NaN          NaN   \n",
      "1          NaN          NaN          NaN          NaN          NaN   \n",
      "2          NaN          NaN          NaN          NaN          NaN   \n",
      "3          NaN          NaN          NaN          NaN          NaN   \n",
      "4          NaN          NaN          NaN          NaN          NaN   \n",
      "\n",
      "  Unnamed: 147 Unnamed: 148  Unnamed: 149                      FullName  \n",
      "0          NaN          NaN           NaN   2009 ASTON MARTIN DBS COUPE  \n",
      "1          NaN          NaN           NaN   2009 ASTON MARTIN DBS COUPE  \n",
      "2          NaN          NaN           NaN  2009 ASTON MARTIN V8 VANTAGE  \n",
      "3          NaN          NaN           NaN  2009 ASTON MARTIN V8 VANTAGE  \n",
      "4          NaN          NaN           NaN                  2009 AUDI R8  \n",
      "\n",
      "[5 rows x 151 columns]\n",
      "Empty cmb rows: 0\n"
     ]
    }
   ],
   "source": [
    "data = pd.read_csv(\"Data\\\\2009.csv\")\n",
    "df09 = pd.DataFrame(data)\n",
    "df09[\"FullName\"] = \"2009 \" + df09[\"MFR\"] + \" \" + df09[\"CAR LINE\"]\n",
    "print(df09.head())\n",
    "is_clean = df09[\"COMB MPG (GUIDE)\"].isnull().sum()\n",
    "print(\"Empty cmb rows:\",is_clean)"
   ]
  },
  {
   "cell_type": "markdown",
   "id": "ccea4f7d",
   "metadata": {},
   "source": [
    "### 2010"
   ]
  },
  {
   "cell_type": "code",
   "execution_count": 56,
   "id": "c0dfe898",
   "metadata": {},
   "outputs": [
    {
     "ename": "KeyError",
     "evalue": "\"['Comb FE (Guide) - Conventional Fuel'] not in index\"",
     "output_type": "error",
     "traceback": [
      "\u001b[1;31m---------------------------------------------------------------------------\u001b[0m",
      "\u001b[1;31mKeyError\u001b[0m                                  Traceback (most recent call last)",
      "\u001b[1;32m~\\AppData\\Local\\Temp\\ipykernel_7056\\3231008650.py\u001b[0m in \u001b[0;36m<module>\u001b[1;34m\u001b[0m\n\u001b[0;32m      4\u001b[0m \u001b[0mdf10\u001b[0m\u001b[1;33m.\u001b[0m\u001b[0mdrop\u001b[0m\u001b[1;33m(\u001b[0m\u001b[0mempty_cols\u001b[0m\u001b[1;33m,\u001b[0m \u001b[0maxis\u001b[0m\u001b[1;33m=\u001b[0m\u001b[1;36m1\u001b[0m\u001b[1;33m,\u001b[0m \u001b[0minplace\u001b[0m\u001b[1;33m=\u001b[0m\u001b[1;32mTrue\u001b[0m\u001b[1;33m)\u001b[0m\u001b[1;33m\u001b[0m\u001b[1;33m\u001b[0m\u001b[0m\n\u001b[0;32m      5\u001b[0m \u001b[0mdf10\u001b[0m\u001b[1;33m[\u001b[0m\u001b[1;34m\"FullName\"\u001b[0m\u001b[1;33m]\u001b[0m \u001b[1;33m=\u001b[0m \u001b[1;34m\"2010 \"\u001b[0m \u001b[1;33m+\u001b[0m \u001b[0mdf10\u001b[0m\u001b[1;33m[\u001b[0m\u001b[1;34m\"Mfr Name\"\u001b[0m\u001b[1;33m]\u001b[0m \u001b[1;33m+\u001b[0m \u001b[1;34m\" \"\u001b[0m \u001b[1;33m+\u001b[0m \u001b[0mdf10\u001b[0m\u001b[1;33m[\u001b[0m\u001b[1;34m\"Carline\"\u001b[0m\u001b[1;33m]\u001b[0m\u001b[1;33m\u001b[0m\u001b[1;33m\u001b[0m\u001b[0m\n\u001b[1;32m----> 6\u001b[1;33m \u001b[0mprint\u001b[0m\u001b[1;33m(\u001b[0m\u001b[0mdf\u001b[0m\u001b[1;33m[\u001b[0m\u001b[1;33m[\u001b[0m\u001b[1;34m'FullName'\u001b[0m\u001b[1;33m,\u001b[0m \u001b[1;34m'Comb FE (Guide) - Conventional Fuel'\u001b[0m\u001b[1;33m]\u001b[0m\u001b[1;33m]\u001b[0m\u001b[1;33m.\u001b[0m\u001b[0mhead\u001b[0m\u001b[1;33m(\u001b[0m\u001b[1;33m)\u001b[0m\u001b[1;33m)\u001b[0m\u001b[1;33m\u001b[0m\u001b[1;33m\u001b[0m\u001b[0m\n\u001b[0m\u001b[0;32m      7\u001b[0m \u001b[0mis_clean\u001b[0m \u001b[1;33m=\u001b[0m \u001b[0mdf10\u001b[0m\u001b[1;33m[\u001b[0m\u001b[1;34m\"Comb FE (Guide) - Conventional Fuel\"\u001b[0m\u001b[1;33m]\u001b[0m\u001b[1;33m.\u001b[0m\u001b[0misnull\u001b[0m\u001b[1;33m(\u001b[0m\u001b[1;33m)\u001b[0m\u001b[1;33m.\u001b[0m\u001b[0msum\u001b[0m\u001b[1;33m(\u001b[0m\u001b[1;33m)\u001b[0m\u001b[1;33m\u001b[0m\u001b[1;33m\u001b[0m\u001b[0m\n\u001b[0;32m      8\u001b[0m \u001b[0mprint\u001b[0m\u001b[1;33m(\u001b[0m\u001b[1;34m\"Empty cmb rows:\"\u001b[0m\u001b[1;33m,\u001b[0m\u001b[0mis_clean\u001b[0m\u001b[1;33m)\u001b[0m\u001b[1;33m\u001b[0m\u001b[1;33m\u001b[0m\u001b[0m\n",
      "\u001b[1;32m~\\anaconda3\\lib\\site-packages\\pandas\\core\\frame.py\u001b[0m in \u001b[0;36m__getitem__\u001b[1;34m(self, key)\u001b[0m\n\u001b[0;32m   3509\u001b[0m             \u001b[1;32mif\u001b[0m \u001b[0mis_iterator\u001b[0m\u001b[1;33m(\u001b[0m\u001b[0mkey\u001b[0m\u001b[1;33m)\u001b[0m\u001b[1;33m:\u001b[0m\u001b[1;33m\u001b[0m\u001b[1;33m\u001b[0m\u001b[0m\n\u001b[0;32m   3510\u001b[0m                 \u001b[0mkey\u001b[0m \u001b[1;33m=\u001b[0m \u001b[0mlist\u001b[0m\u001b[1;33m(\u001b[0m\u001b[0mkey\u001b[0m\u001b[1;33m)\u001b[0m\u001b[1;33m\u001b[0m\u001b[1;33m\u001b[0m\u001b[0m\n\u001b[1;32m-> 3511\u001b[1;33m             \u001b[0mindexer\u001b[0m \u001b[1;33m=\u001b[0m \u001b[0mself\u001b[0m\u001b[1;33m.\u001b[0m\u001b[0mcolumns\u001b[0m\u001b[1;33m.\u001b[0m\u001b[0m_get_indexer_strict\u001b[0m\u001b[1;33m(\u001b[0m\u001b[0mkey\u001b[0m\u001b[1;33m,\u001b[0m \u001b[1;34m\"columns\"\u001b[0m\u001b[1;33m)\u001b[0m\u001b[1;33m[\u001b[0m\u001b[1;36m1\u001b[0m\u001b[1;33m]\u001b[0m\u001b[1;33m\u001b[0m\u001b[1;33m\u001b[0m\u001b[0m\n\u001b[0m\u001b[0;32m   3512\u001b[0m \u001b[1;33m\u001b[0m\u001b[0m\n\u001b[0;32m   3513\u001b[0m         \u001b[1;31m# take() does not accept boolean indexers\u001b[0m\u001b[1;33m\u001b[0m\u001b[1;33m\u001b[0m\u001b[0m\n",
      "\u001b[1;32m~\\anaconda3\\lib\\site-packages\\pandas\\core\\indexes\\base.py\u001b[0m in \u001b[0;36m_get_indexer_strict\u001b[1;34m(self, key, axis_name)\u001b[0m\n\u001b[0;32m   5794\u001b[0m             \u001b[0mkeyarr\u001b[0m\u001b[1;33m,\u001b[0m \u001b[0mindexer\u001b[0m\u001b[1;33m,\u001b[0m \u001b[0mnew_indexer\u001b[0m \u001b[1;33m=\u001b[0m \u001b[0mself\u001b[0m\u001b[1;33m.\u001b[0m\u001b[0m_reindex_non_unique\u001b[0m\u001b[1;33m(\u001b[0m\u001b[0mkeyarr\u001b[0m\u001b[1;33m)\u001b[0m\u001b[1;33m\u001b[0m\u001b[1;33m\u001b[0m\u001b[0m\n\u001b[0;32m   5795\u001b[0m \u001b[1;33m\u001b[0m\u001b[0m\n\u001b[1;32m-> 5796\u001b[1;33m         \u001b[0mself\u001b[0m\u001b[1;33m.\u001b[0m\u001b[0m_raise_if_missing\u001b[0m\u001b[1;33m(\u001b[0m\u001b[0mkeyarr\u001b[0m\u001b[1;33m,\u001b[0m \u001b[0mindexer\u001b[0m\u001b[1;33m,\u001b[0m \u001b[0maxis_name\u001b[0m\u001b[1;33m)\u001b[0m\u001b[1;33m\u001b[0m\u001b[1;33m\u001b[0m\u001b[0m\n\u001b[0m\u001b[0;32m   5797\u001b[0m \u001b[1;33m\u001b[0m\u001b[0m\n\u001b[0;32m   5798\u001b[0m         \u001b[0mkeyarr\u001b[0m \u001b[1;33m=\u001b[0m \u001b[0mself\u001b[0m\u001b[1;33m.\u001b[0m\u001b[0mtake\u001b[0m\u001b[1;33m(\u001b[0m\u001b[0mindexer\u001b[0m\u001b[1;33m)\u001b[0m\u001b[1;33m\u001b[0m\u001b[1;33m\u001b[0m\u001b[0m\n",
      "\u001b[1;32m~\\anaconda3\\lib\\site-packages\\pandas\\core\\indexes\\base.py\u001b[0m in \u001b[0;36m_raise_if_missing\u001b[1;34m(self, key, indexer, axis_name)\u001b[0m\n\u001b[0;32m   5857\u001b[0m \u001b[1;33m\u001b[0m\u001b[0m\n\u001b[0;32m   5858\u001b[0m             \u001b[0mnot_found\u001b[0m \u001b[1;33m=\u001b[0m \u001b[0mlist\u001b[0m\u001b[1;33m(\u001b[0m\u001b[0mensure_index\u001b[0m\u001b[1;33m(\u001b[0m\u001b[0mkey\u001b[0m\u001b[1;33m)\u001b[0m\u001b[1;33m[\u001b[0m\u001b[0mmissing_mask\u001b[0m\u001b[1;33m.\u001b[0m\u001b[0mnonzero\u001b[0m\u001b[1;33m(\u001b[0m\u001b[1;33m)\u001b[0m\u001b[1;33m[\u001b[0m\u001b[1;36m0\u001b[0m\u001b[1;33m]\u001b[0m\u001b[1;33m]\u001b[0m\u001b[1;33m.\u001b[0m\u001b[0munique\u001b[0m\u001b[1;33m(\u001b[0m\u001b[1;33m)\u001b[0m\u001b[1;33m)\u001b[0m\u001b[1;33m\u001b[0m\u001b[1;33m\u001b[0m\u001b[0m\n\u001b[1;32m-> 5859\u001b[1;33m             \u001b[1;32mraise\u001b[0m \u001b[0mKeyError\u001b[0m\u001b[1;33m(\u001b[0m\u001b[1;34mf\"{not_found} not in index\"\u001b[0m\u001b[1;33m)\u001b[0m\u001b[1;33m\u001b[0m\u001b[1;33m\u001b[0m\u001b[0m\n\u001b[0m\u001b[0;32m   5860\u001b[0m \u001b[1;33m\u001b[0m\u001b[0m\n\u001b[0;32m   5861\u001b[0m     \u001b[1;33m@\u001b[0m\u001b[0moverload\u001b[0m\u001b[1;33m\u001b[0m\u001b[1;33m\u001b[0m\u001b[0m\n",
      "\u001b[1;31mKeyError\u001b[0m: \"['Comb FE (Guide) - Conventional Fuel'] not in index\""
     ]
    }
   ],
   "source": [
    "data = pd.read_csv(\"Data\\\\2010.csv\", low_memory=False)\n",
    "df10 = pd.DataFrame(data)\n",
    "empty_cols = [col for col in df10.columns if df10[col].isnull().all()]\n",
    "df10.drop(empty_cols, axis=1, inplace=True)\n",
    "df10[\"FullName\"] = \"2010 \" + df10[\"Mfr Name\"] + \" \" + df10[\"Carline\"]\n",
    "print(df[['FullName', 'Comb FE (Guide) - Conventional Fuel']].head())\n",
    "is_clean = df10[\"Comb FE (Guide) - Conventional Fuel\"].isnull().sum()\n",
    "print(\"Empty cmb rows:\",is_clean)"
   ]
  },
  {
   "cell_type": "markdown",
   "id": "6f751637",
   "metadata": {},
   "source": [
    "### 2009"
   ]
  },
  {
   "cell_type": "code",
   "execution_count": null,
   "id": "c63ad034",
   "metadata": {},
   "outputs": [],
   "source": [
    "data = pd.read_csv(\"Data\\\\2010.csv\", low_memory=False)\n",
    "df10 = pd.DataFrame(data)\n",
    "empty_cols = [col for col in df10.columns if df10[col].isnull().all()]\n",
    "df10.drop(empty_cols, axis=1, inplace=True)\n",
    "df10[\"FullName\"] = \"2010 \" + df10[\"Mfr Name\"] + \" \" + df10[\"Carline\"]\n",
    "print(df10.head())\n",
    "is_clean = df10[\"Comb FE (Guide) - Conventional Fuel\"].isnull().sum()\n",
    "print(\"Empty cmb rows:\",is_clean)"
   ]
  },
  {
   "cell_type": "markdown",
   "id": "93c8eacc",
   "metadata": {},
   "source": [
    "### 2009"
   ]
  },
  {
   "cell_type": "code",
   "execution_count": null,
   "id": "ae946351",
   "metadata": {},
   "outputs": [],
   "source": [
    "data = pd.read_csv(\"Data\\\\2009.csv\")\n",
    "df09 = pd.DataFrame(data)\n",
    "df09[\"FullName\"] = \"2009 \" + df09[\"MFR\"] + \" \" + df09[\"CAR LINE\"]\n",
    "print(df09.head())\n",
    "is_clean = df09[\"COMB MPG (GUIDE)\"].isnull().sum()\n",
    "print(\"Empty cmb rows:\",is_clean)"
   ]
  },
  {
   "cell_type": "markdown",
   "id": "3451dab0",
   "metadata": {},
   "source": [
    "### 2009"
   ]
  },
  {
   "cell_type": "code",
   "execution_count": null,
   "id": "ade45603",
   "metadata": {},
   "outputs": [],
   "source": [
    "data = pd.read_csv(\"Data\\\\2009.csv\")\n",
    "df09 = pd.DataFrame(data)\n",
    "df09[\"FullName\"] = \"2009 \" + df09[\"MFR\"] + \" \" + df09[\"CAR LINE\"]\n",
    "print(df09.head())\n",
    "is_clean = df09[\"COMB MPG (GUIDE)\"].isnull().sum()\n",
    "print(\"Empty cmb rows:\",is_clean)"
   ]
  },
  {
   "cell_type": "markdown",
   "id": "a9d002ff",
   "metadata": {},
   "source": [
    "### 2009"
   ]
  },
  {
   "cell_type": "code",
   "execution_count": null,
   "id": "b94a6f67",
   "metadata": {},
   "outputs": [],
   "source": [
    "data = pd.read_csv(\"Data\\\\2009.csv\")\n",
    "df09 = pd.DataFrame(data)\n",
    "df09[\"FullName\"] = \"2009 \" + df09[\"MFR\"] + \" \" + df09[\"CAR LINE\"]\n",
    "print(df09.head())\n",
    "is_clean = df09[\"COMB MPG (GUIDE)\"].isnull().sum()\n",
    "print(\"Empty cmb rows:\",is_clean)"
   ]
  },
  {
   "cell_type": "markdown",
   "id": "6f2ab9b3",
   "metadata": {},
   "source": [
    "### 2009"
   ]
  },
  {
   "cell_type": "code",
   "execution_count": null,
   "id": "3bb260b2",
   "metadata": {},
   "outputs": [],
   "source": [
    "data = pd.read_csv(\"Data\\\\2009.csv\")\n",
    "df09 = pd.DataFrame(data)\n",
    "df09[\"FullName\"] = \"2009 \" + df09[\"MFR\"] + \" \" + df09[\"CAR LINE\"]\n",
    "print(df09.head())\n",
    "is_clean = df09[\"COMB MPG (GUIDE)\"].isnull().sum()\n",
    "print(\"Empty cmb rows:\",is_clean)"
   ]
  },
  {
   "cell_type": "markdown",
   "id": "c8db4ed1",
   "metadata": {},
   "source": [
    "### 2009"
   ]
  },
  {
   "cell_type": "code",
   "execution_count": null,
   "id": "e77f5928",
   "metadata": {},
   "outputs": [],
   "source": [
    "data = pd.read_csv(\"Data\\\\2009.csv\")\n",
    "df09 = pd.DataFrame(data)\n",
    "df09[\"FullName\"] = \"2009 \" + df09[\"MFR\"] + \" \" + df09[\"CAR LINE\"]\n",
    "print(df09.head())\n",
    "is_clean = df09[\"COMB MPG (GUIDE)\"].isnull().sum()\n",
    "print(\"Empty cmb rows:\",is_clean)"
   ]
  },
  {
   "cell_type": "markdown",
   "id": "9df51f9e",
   "metadata": {},
   "source": [
    "### 2009"
   ]
  },
  {
   "cell_type": "code",
   "execution_count": null,
   "id": "ace9cd26",
   "metadata": {},
   "outputs": [],
   "source": [
    "data = pd.read_csv(\"Data\\\\2009.csv\")\n",
    "df09 = pd.DataFrame(data)\n",
    "df09[\"FullName\"] = \"2009 \" + df09[\"MFR\"] + \" \" + df09[\"CAR LINE\"]\n",
    "print(df09.head())\n",
    "is_clean = df09[\"COMB MPG (GUIDE)\"].isnull().sum()\n",
    "print(\"Empty cmb rows:\",is_clean)"
   ]
  },
  {
   "cell_type": "markdown",
   "id": "5bb070c4",
   "metadata": {},
   "source": [
    "### 2009"
   ]
  },
  {
   "cell_type": "code",
   "execution_count": null,
   "id": "02d9ce53",
   "metadata": {},
   "outputs": [],
   "source": [
    "data = pd.read_csv(\"Data\\\\2009.csv\")\n",
    "df09 = pd.DataFrame(data)\n",
    "df09[\"FullName\"] = \"2009 \" + df09[\"MFR\"] + \" \" + df09[\"CAR LINE\"]\n",
    "print(df09.head())\n",
    "is_clean = df09[\"COMB MPG (GUIDE)\"].isnull().sum()\n",
    "print(\"Empty cmb rows:\",is_clean)"
   ]
  },
  {
   "cell_type": "markdown",
   "id": "20ede06a",
   "metadata": {},
   "source": [
    "### 2009"
   ]
  },
  {
   "cell_type": "code",
   "execution_count": null,
   "id": "fb8ac216",
   "metadata": {},
   "outputs": [],
   "source": [
    "data = pd.read_csv(\"Data\\\\2009.csv\")\n",
    "df09 = pd.DataFrame(data)\n",
    "df09[\"FullName\"] = \"2009 \" + df09[\"MFR\"] + \" \" + df09[\"CAR LINE\"]\n",
    "print(df09.head())\n",
    "is_clean = df09[\"COMB MPG (GUIDE)\"].isnull().sum()\n",
    "print(\"Empty cmb rows:\",is_clean)"
   ]
  },
  {
   "cell_type": "code",
   "execution_count": null,
   "id": "92cbae97",
   "metadata": {},
   "outputs": [],
   "source": []
  }
 ],
 "metadata": {
  "kernelspec": {
   "display_name": "Python 3 (ipykernel)",
   "language": "python",
   "name": "python3"
  },
  "language_info": {
   "codemirror_mode": {
    "name": "ipython",
    "version": 3
   },
   "file_extension": ".py",
   "mimetype": "text/x-python",
   "name": "python",
   "nbconvert_exporter": "python",
   "pygments_lexer": "ipython3",
   "version": "3.9.13"
  }
 },
 "nbformat": 4,
 "nbformat_minor": 5
}
