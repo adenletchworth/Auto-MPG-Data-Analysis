{
 "cells": [
  {
   "cell_type": "markdown",
   "metadata": {},
   "source": [
    "**Data Analysis Project: MPG and Model Year in Automobiles**"
   ]
  },
  {
   "cell_type": "code",
   "execution_count": 193,
   "metadata": {},
   "outputs": [],
   "source": [
    "import pandas as pd\n",
    "import numpy as np\n",
    "import matplotlib.pyplot as plt\n",
    "from sklearn.linear_model import LinearRegression\n",
    "from sklearn.model_selection import train_test_split\n",
    "from sklearn.metrics import r2_score\n",
    "import seaborn as sns\n",
    "from matplotlib.animation import PillowWriter\n",
    "from statsmodels.stats.outliers_influence import variance_inflation_factor\n",
    "from sklearn import preprocessing"
   ]
  },
  {
   "cell_type": "markdown",
   "metadata": {},
   "source": [
    "**Importing Data**\n",
    "\n",
    "\n",
    "\n",
    "<br>\n",
    "We need to import our dataset, using the correct delimeters and labeling our columns accordingly."
   ]
  },
  {
   "cell_type": "code",
   "execution_count": 194,
   "metadata": {},
   "outputs": [],
   "source": [
    "data = pd.read_csv('../auto-mpg.data', delimiter='\\s+', header=None, names=['MPG', 'Cylinders', 'Displacement', 'Horsepower', 'Weight', 'Acceleration', 'Model Year', 'Origin', 'Name']) # importing our data\n",
    "\n",
    "df = pd.DataFrame(data) # getting copy of data dataframe"
   ]
  },
  {
   "cell_type": "markdown",
   "metadata": {},
   "source": [
    "**Exploring Data**\n"
   ]
  },
  {
   "cell_type": "code",
   "execution_count": 195,
   "metadata": {},
   "outputs": [
    {
     "data": {
      "text/plain": [
       "(398, 9)"
      ]
     },
     "execution_count": 195,
     "metadata": {},
     "output_type": "execute_result"
    }
   ],
   "source": [
    "df.shape # gets shape of our data"
   ]
  },
  {
   "attachments": {},
   "cell_type": "markdown",
   "metadata": {},
   "source": [
    "We can see here that our data has 9 columns and 398 rows."
   ]
  },
  {
   "cell_type": "code",
   "execution_count": 196,
   "metadata": {},
   "outputs": [
    {
     "name": "stdout",
     "output_type": "stream",
     "text": [
      "    MPG  Cylinders  Displacement Horsepower  Weight  Acceleration  Model Year   \n",
      "0  18.0          8         307.0      130.0  3504.0          12.0          70  \\\n",
      "1  15.0          8         350.0      165.0  3693.0          11.5          70   \n",
      "2  18.0          8         318.0      150.0  3436.0          11.0          70   \n",
      "3  16.0          8         304.0      150.0  3433.0          12.0          70   \n",
      "4  17.0          8         302.0      140.0  3449.0          10.5          70   \n",
      "\n",
      "   Origin                       Name  \n",
      "0       1  chevrolet chevelle malibu  \n",
      "1       1          buick skylark 320  \n",
      "2       1         plymouth satellite  \n",
      "3       1              amc rebel sst  \n",
      "4       1                ford torino  \n"
     ]
    }
   ],
   "source": [
    "print(df.head()) # pritns first 5 values"
   ]
  },
  {
   "cell_type": "code",
   "execution_count": 197,
   "metadata": {},
   "outputs": [
    {
     "data": {
      "text/html": [
       "<div>\n",
       "<style scoped>\n",
       "    .dataframe tbody tr th:only-of-type {\n",
       "        vertical-align: middle;\n",
       "    }\n",
       "\n",
       "    .dataframe tbody tr th {\n",
       "        vertical-align: top;\n",
       "    }\n",
       "\n",
       "    .dataframe thead th {\n",
       "        text-align: right;\n",
       "    }\n",
       "</style>\n",
       "<table border=\"1\" class=\"dataframe\">\n",
       "  <thead>\n",
       "    <tr style=\"text-align: right;\">\n",
       "      <th></th>\n",
       "      <th>Data Types</th>\n",
       "    </tr>\n",
       "  </thead>\n",
       "  <tbody>\n",
       "    <tr>\n",
       "      <th>MPG</th>\n",
       "      <td>float64</td>\n",
       "    </tr>\n",
       "    <tr>\n",
       "      <th>Cylinders</th>\n",
       "      <td>int64</td>\n",
       "    </tr>\n",
       "    <tr>\n",
       "      <th>Displacement</th>\n",
       "      <td>float64</td>\n",
       "    </tr>\n",
       "    <tr>\n",
       "      <th>Horsepower</th>\n",
       "      <td>object</td>\n",
       "    </tr>\n",
       "    <tr>\n",
       "      <th>Weight</th>\n",
       "      <td>float64</td>\n",
       "    </tr>\n",
       "    <tr>\n",
       "      <th>Acceleration</th>\n",
       "      <td>float64</td>\n",
       "    </tr>\n",
       "    <tr>\n",
       "      <th>Model Year</th>\n",
       "      <td>int64</td>\n",
       "    </tr>\n",
       "    <tr>\n",
       "      <th>Origin</th>\n",
       "      <td>int64</td>\n",
       "    </tr>\n",
       "    <tr>\n",
       "      <th>Name</th>\n",
       "      <td>object</td>\n",
       "    </tr>\n",
       "  </tbody>\n",
       "</table>\n",
       "</div>"
      ],
      "text/plain": [
       "             Data Types\n",
       "MPG             float64\n",
       "Cylinders         int64\n",
       "Displacement    float64\n",
       "Horsepower       object\n",
       "Weight          float64\n",
       "Acceleration    float64\n",
       "Model Year        int64\n",
       "Origin            int64\n",
       "Name             object"
      ]
     },
     "execution_count": 197,
     "metadata": {},
     "output_type": "execute_result"
    }
   ],
   "source": [
    "dataTypes = df.dtypes.to_frame(name='Data Types') # turn data types into data frame\n",
    "\n",
    "dataTypes # prints data types\n",
    "\n",
    "# dataTypes.to_csv('dtypes.csv') get data types for tableau visualization\n"
   ]
  },
  {
   "cell_type": "markdown",
   "metadata": {},
   "source": [
    "We can see here that Horsepower appears to be a float when we got the first 5 entries. However checking the data type it is an object.\n",
    "\n",
    "\n",
    "<br>\n",
    "Missing values could be causing this discrepancy so it is important to investigate it."
   ]
  },
  {
   "cell_type": "code",
   "execution_count": 198,
   "metadata": {},
   "outputs": [
    {
     "name": "stdout",
     "output_type": "stream",
     "text": [
      "MPG             0\n",
      "Cylinders       0\n",
      "Displacement    0\n",
      "Horsepower      0\n",
      "Weight          0\n",
      "Acceleration    0\n",
      "Model Year      0\n",
      "Origin          0\n",
      "Name            0\n",
      "dtype: int64\n"
     ]
    }
   ],
   "source": [
    "is_clean = df.isnull().sum() # finds any missing values for each column and sums it\n",
    "\n",
    "print(is_clean) # print results"
   ]
  },
  {
   "cell_type": "markdown",
   "metadata": {},
   "source": [
    "We can see that checking for missing values didn't produce any results. This means something else must be causing the data type confusion.\n",
    "\n",
    "\n",
    "<br>\n",
    "At this point it would be useful to check all the unique values in Horsepower"
   ]
  },
  {
   "cell_type": "code",
   "execution_count": 199,
   "metadata": {},
   "outputs": [
    {
     "name": "stdout",
     "output_type": "stream",
     "text": [
      "['130.0' '165.0' '150.0' '140.0' '198.0' '220.0' '215.0' '225.0' '190.0'\n",
      " '170.0' '160.0' '95.00' '97.00' '85.00' '88.00' '46.00' '87.00' '90.00'\n",
      " '113.0' '200.0' '210.0' '193.0' '?' '100.0' '105.0' '175.0' '153.0'\n",
      " '180.0' '110.0' '72.00' '86.00' '70.00' '76.00' '65.00' '69.00' '60.00'\n",
      " '80.00' '54.00' '208.0' '155.0' '112.0' '92.00' '145.0' '137.0' '158.0'\n",
      " '167.0' '94.00' '107.0' '230.0' '49.00' '75.00' '91.00' '122.0' '67.00'\n",
      " '83.00' '78.00' '52.00' '61.00' '93.00' '148.0' '129.0' '96.00' '71.00'\n",
      " '98.00' '115.0' '53.00' '81.00' '79.00' '120.0' '152.0' '102.0' '108.0'\n",
      " '68.00' '58.00' '149.0' '89.00' '63.00' '48.00' '66.00' '139.0' '103.0'\n",
      " '125.0' '133.0' '138.0' '135.0' '142.0' '77.00' '62.00' '132.0' '84.00'\n",
      " '64.00' '74.00' '116.0' '82.00']\n"
     ]
    }
   ],
   "source": [
    "\n",
    "print(df['Horsepower'].unique()) # gets all unique values"
   ]
  },
  {
   "cell_type": "markdown",
   "metadata": {},
   "source": [
    "We can see in the midst of these numbers is a '?'. This is likely what the dataset uses for missing values.\n",
    "\n",
    "\n",
    "<br>\n",
    "We should replace these '?' with something better."
   ]
  },
  {
   "cell_type": "code",
   "execution_count": 200,
   "metadata": {},
   "outputs": [],
   "source": [
    "df = df.replace('?',np.nan) # replaces '?' with NaN"
   ]
  },
  {
   "cell_type": "markdown",
   "metadata": {},
   "source": [
    "Now that we replaced our off data we can see how many missing values there actually is."
   ]
  },
  {
   "cell_type": "code",
   "execution_count": 201,
   "metadata": {},
   "outputs": [
    {
     "data": {
      "text/html": [
       "<div>\n",
       "<style scoped>\n",
       "    .dataframe tbody tr th:only-of-type {\n",
       "        vertical-align: middle;\n",
       "    }\n",
       "\n",
       "    .dataframe tbody tr th {\n",
       "        vertical-align: top;\n",
       "    }\n",
       "\n",
       "    .dataframe thead th {\n",
       "        text-align: right;\n",
       "    }\n",
       "</style>\n",
       "<table border=\"1\" class=\"dataframe\">\n",
       "  <thead>\n",
       "    <tr style=\"text-align: right;\">\n",
       "      <th></th>\n",
       "      <th>Missing Values</th>\n",
       "    </tr>\n",
       "  </thead>\n",
       "  <tbody>\n",
       "    <tr>\n",
       "      <th>MPG</th>\n",
       "      <td>0</td>\n",
       "    </tr>\n",
       "    <tr>\n",
       "      <th>Cylinders</th>\n",
       "      <td>0</td>\n",
       "    </tr>\n",
       "    <tr>\n",
       "      <th>Displacement</th>\n",
       "      <td>0</td>\n",
       "    </tr>\n",
       "    <tr>\n",
       "      <th>Horsepower</th>\n",
       "      <td>6</td>\n",
       "    </tr>\n",
       "    <tr>\n",
       "      <th>Weight</th>\n",
       "      <td>0</td>\n",
       "    </tr>\n",
       "    <tr>\n",
       "      <th>Acceleration</th>\n",
       "      <td>0</td>\n",
       "    </tr>\n",
       "    <tr>\n",
       "      <th>Model Year</th>\n",
       "      <td>0</td>\n",
       "    </tr>\n",
       "    <tr>\n",
       "      <th>Origin</th>\n",
       "      <td>0</td>\n",
       "    </tr>\n",
       "    <tr>\n",
       "      <th>Name</th>\n",
       "      <td>0</td>\n",
       "    </tr>\n",
       "  </tbody>\n",
       "</table>\n",
       "</div>"
      ],
      "text/plain": [
       "              Missing Values\n",
       "MPG                        0\n",
       "Cylinders                  0\n",
       "Displacement               0\n",
       "Horsepower                 6\n",
       "Weight                     0\n",
       "Acceleration               0\n",
       "Model Year                 0\n",
       "Origin                     0\n",
       "Name                       0"
      ]
     },
     "execution_count": 201,
     "metadata": {},
     "output_type": "execute_result"
    }
   ],
   "source": [
    "is_clean = df.isnull().sum() # checks for missing values (nan)\n",
    "\n",
    "clean_table = is_clean.to_frame(name='Missing Values') # turns into pandas table\n",
    "\n",
    "clean_table # print table\n",
    "\n",
    "# clean_table.to_csv('missingValues.csv') get missing values for tableau visualization"
   ]
  },
  {
   "cell_type": "markdown",
   "metadata": {},
   "source": [
    "We can see that we have 6 missing values in Horsepower. We can either drop the rows containing the missing data or fill it in with an educated number. Since we already have a relatively small dataset and unlikely to use Horsepower at this point, we will fill it in with the mean."
   ]
  },
  {
   "cell_type": "code",
   "execution_count": 202,
   "metadata": {},
   "outputs": [
    {
     "data": {
      "text/plain": [
       "0"
      ]
     },
     "execution_count": 202,
     "metadata": {},
     "output_type": "execute_result"
    }
   ],
   "source": [
    "df['Horsepower'] = pd.to_numeric(df['Horsepower']) # turn horsepower into numeric column\n",
    "\n",
    "horse_mean = df['Horsepower'].mean() # get the mean of the column\n",
    "\n",
    "df['Horsepower'].fillna(horse_mean, inplace=True) # fill in missing values with mean\n",
    "\n",
    "df['Horsepower'].isnull().sum() # check if missing values still exist\n"
   ]
  },
  {
   "cell_type": "markdown",
   "metadata": {},
   "source": [
    "We can see that Horsepower no longer has any missing values."
   ]
  },
  {
   "cell_type": "code",
   "execution_count": 203,
   "metadata": {},
   "outputs": [
    {
     "data": {
      "text/html": [
       "<div>\n",
       "<style scoped>\n",
       "    .dataframe tbody tr th:only-of-type {\n",
       "        vertical-align: middle;\n",
       "    }\n",
       "\n",
       "    .dataframe tbody tr th {\n",
       "        vertical-align: top;\n",
       "    }\n",
       "\n",
       "    .dataframe thead th {\n",
       "        text-align: right;\n",
       "    }\n",
       "</style>\n",
       "<table border=\"1\" class=\"dataframe\">\n",
       "  <thead>\n",
       "    <tr style=\"text-align: right;\">\n",
       "      <th></th>\n",
       "      <th>MPG</th>\n",
       "      <th>Cylinders</th>\n",
       "      <th>Displacement</th>\n",
       "      <th>Horsepower</th>\n",
       "      <th>Weight</th>\n",
       "      <th>Acceleration</th>\n",
       "      <th>Model Year</th>\n",
       "      <th>Origin</th>\n",
       "    </tr>\n",
       "  </thead>\n",
       "  <tbody>\n",
       "    <tr>\n",
       "      <th>count</th>\n",
       "      <td>398.000000</td>\n",
       "      <td>398.000000</td>\n",
       "      <td>398.000000</td>\n",
       "      <td>398.000000</td>\n",
       "      <td>398.000000</td>\n",
       "      <td>398.000000</td>\n",
       "      <td>398.000000</td>\n",
       "      <td>398.000000</td>\n",
       "    </tr>\n",
       "    <tr>\n",
       "      <th>mean</th>\n",
       "      <td>23.514573</td>\n",
       "      <td>5.454774</td>\n",
       "      <td>193.425879</td>\n",
       "      <td>104.469388</td>\n",
       "      <td>2970.424623</td>\n",
       "      <td>15.568090</td>\n",
       "      <td>76.010050</td>\n",
       "      <td>1.572864</td>\n",
       "    </tr>\n",
       "    <tr>\n",
       "      <th>std</th>\n",
       "      <td>7.815984</td>\n",
       "      <td>1.701004</td>\n",
       "      <td>104.269838</td>\n",
       "      <td>38.199187</td>\n",
       "      <td>846.841774</td>\n",
       "      <td>2.757689</td>\n",
       "      <td>3.697627</td>\n",
       "      <td>0.802055</td>\n",
       "    </tr>\n",
       "    <tr>\n",
       "      <th>min</th>\n",
       "      <td>9.000000</td>\n",
       "      <td>3.000000</td>\n",
       "      <td>68.000000</td>\n",
       "      <td>46.000000</td>\n",
       "      <td>1613.000000</td>\n",
       "      <td>8.000000</td>\n",
       "      <td>70.000000</td>\n",
       "      <td>1.000000</td>\n",
       "    </tr>\n",
       "    <tr>\n",
       "      <th>25%</th>\n",
       "      <td>17.500000</td>\n",
       "      <td>4.000000</td>\n",
       "      <td>104.250000</td>\n",
       "      <td>76.000000</td>\n",
       "      <td>2223.750000</td>\n",
       "      <td>13.825000</td>\n",
       "      <td>73.000000</td>\n",
       "      <td>1.000000</td>\n",
       "    </tr>\n",
       "    <tr>\n",
       "      <th>50%</th>\n",
       "      <td>23.000000</td>\n",
       "      <td>4.000000</td>\n",
       "      <td>148.500000</td>\n",
       "      <td>95.000000</td>\n",
       "      <td>2803.500000</td>\n",
       "      <td>15.500000</td>\n",
       "      <td>76.000000</td>\n",
       "      <td>1.000000</td>\n",
       "    </tr>\n",
       "    <tr>\n",
       "      <th>75%</th>\n",
       "      <td>29.000000</td>\n",
       "      <td>8.000000</td>\n",
       "      <td>262.000000</td>\n",
       "      <td>125.000000</td>\n",
       "      <td>3608.000000</td>\n",
       "      <td>17.175000</td>\n",
       "      <td>79.000000</td>\n",
       "      <td>2.000000</td>\n",
       "    </tr>\n",
       "    <tr>\n",
       "      <th>max</th>\n",
       "      <td>46.600000</td>\n",
       "      <td>8.000000</td>\n",
       "      <td>455.000000</td>\n",
       "      <td>230.000000</td>\n",
       "      <td>5140.000000</td>\n",
       "      <td>24.800000</td>\n",
       "      <td>82.000000</td>\n",
       "      <td>3.000000</td>\n",
       "    </tr>\n",
       "  </tbody>\n",
       "</table>\n",
       "</div>"
      ],
      "text/plain": [
       "              MPG   Cylinders  Displacement  Horsepower       Weight   \n",
       "count  398.000000  398.000000    398.000000  398.000000   398.000000  \\\n",
       "mean    23.514573    5.454774    193.425879  104.469388  2970.424623   \n",
       "std      7.815984    1.701004    104.269838   38.199187   846.841774   \n",
       "min      9.000000    3.000000     68.000000   46.000000  1613.000000   \n",
       "25%     17.500000    4.000000    104.250000   76.000000  2223.750000   \n",
       "50%     23.000000    4.000000    148.500000   95.000000  2803.500000   \n",
       "75%     29.000000    8.000000    262.000000  125.000000  3608.000000   \n",
       "max     46.600000    8.000000    455.000000  230.000000  5140.000000   \n",
       "\n",
       "       Acceleration  Model Year      Origin  \n",
       "count    398.000000  398.000000  398.000000  \n",
       "mean      15.568090   76.010050    1.572864  \n",
       "std        2.757689    3.697627    0.802055  \n",
       "min        8.000000   70.000000    1.000000  \n",
       "25%       13.825000   73.000000    1.000000  \n",
       "50%       15.500000   76.000000    1.000000  \n",
       "75%       17.175000   79.000000    2.000000  \n",
       "max       24.800000   82.000000    3.000000  "
      ]
     },
     "execution_count": 203,
     "metadata": {},
     "output_type": "execute_result"
    }
   ],
   "source": [
    "\n",
    "temp = pd.DataFrame(df.describe()) # turns our describe statistics into data frame\n",
    "\n",
    "temp # prints data frame\n",
    "\n",
    "#file = temp.to_csv('describe.csv') turn into csv to create tableau visualization"
   ]
  },
  {
   "cell_type": "markdown",
   "metadata": {},
   "source": [
    "\n",
    "Now that we've explored our data, it's time to take a closer look at our dependent variable (MPG). We have chose this as our dependent variable as we are predicting fuel efficiency over time. That makes MPG a function of Model Year. Model Year also fits as our independent variable because of its discrete natural ordering."
   ]
  },
  {
   "cell_type": "code",
   "execution_count": 204,
   "metadata": {},
   "outputs": [
    {
     "data": {
      "image/png": "[encoded data removed]",
      "text/plain": [
       "<Figure size 800x600 with 1 Axes>"
      ]
     },
     "metadata": {},
     "output_type": "display_data"
    }
   ],
   "source": [
    "y = df['MPG'] # Define independent variable (MPG)\n",
    "\n",
    "plt.figure(figsize=(8,6)) # change the size of plot\n",
    "\n",
    "colors = sns.color_palette('muted') # get muted color pallete\n",
    "\n",
    "sns.histplot(y,kde=True,color=colors[0]) # graph plot with kde line\n",
    "\n",
    "plt.xlabel(\"MPG\", fontsize=14) # label x axis\n",
    "plt.ylabel(\"Frequency\", fontsize=14) # label y axis\n",
    "plt.title(\"Distribution of MPG\", fontsize=16) # give title\n",
    "\n",
    "# plt.savefig('mpgdist.jpg',dpi=300) turn plot into jpg\n",
    "\n",
    "plt.show() # shows plot"
   ]
  },
  {
   "cell_type": "markdown",
   "metadata": {},
   "source": [
    "We can see from this visualization that or data is positively skewed and unimodal.\n",
    "\n",
    "<br>\n",
    "It would be useful to get a numerical understanding of our skew and find out our kurtosis"
   ]
  },
  {
   "cell_type": "code",
   "execution_count": 205,
   "metadata": {},
   "outputs": [
    {
     "name": "stdout",
     "output_type": "stream",
     "text": [
      "Skewness: 0.457066\n",
      "Kurtosis: -0.510781\n"
     ]
    }
   ],
   "source": [
    "print(\"Skewness: %f\" % df['MPG'].skew()) # prints skew\n",
    "print(\"Kurtosis: %f\" % df['MPG'].kurt()) # prints kurtosis"
   ]
  },
  {
   "cell_type": "markdown",
   "metadata": {},
   "source": [
    "We have a slight positive skew meaning that our data tends to fall slightly above the median. The negative kurtosis indicates that we have few or no extreme outliers.\n",
    "\n"
   ]
  },
  {
   "cell_type": "code",
   "execution_count": 206,
   "metadata": {},
   "outputs": [
    {
     "name": "stdout",
     "output_type": "stream",
     "text": [
      "[70 71 72 73 74 75 76 77 78 79 80 81 82]\n"
     ]
    }
   ],
   "source": [
    "x=df['Model Year'] # initialize independent variable \n",
    "\n",
    "print(x.unique()) # check unique values "
   ]
  },
  {
   "attachments": {},
   "cell_type": "markdown",
   "metadata": {},
   "source": [
    "Since we have a relatively small dataset..."
   ]
  },
  {
   "cell_type": "code",
   "execution_count": 207,
   "metadata": {},
   "outputs": [],
   "source": [
    "filepath = '../AllCarsCondensed.csv'\n",
    "secondData = pd.read_csv(filepath)"
   ]
  },
  {
   "cell_type": "code",
   "execution_count": 208,
   "metadata": {},
   "outputs": [
    {
     "data": {
      "text/html": [
       "<div>\n",
       "<style scoped>\n",
       "    .dataframe tbody tr th:only-of-type {\n",
       "        vertical-align: middle;\n",
       "    }\n",
       "\n",
       "    .dataframe tbody tr th {\n",
       "        vertical-align: top;\n",
       "    }\n",
       "\n",
       "    .dataframe thead th {\n",
       "        text-align: right;\n",
       "    }\n",
       "</style>\n",
       "<table border=\"1\" class=\"dataframe\">\n",
       "  <thead>\n",
       "    <tr style=\"text-align: right;\">\n",
       "      <th></th>\n",
       "      <th>Model Year</th>\n",
       "      <th>FullName</th>\n",
       "      <th>MPG</th>\n",
       "      <th>Eng Displ</th>\n",
       "      <th># Cyl</th>\n",
       "    </tr>\n",
       "  </thead>\n",
       "  <tbody>\n",
       "    <tr>\n",
       "      <th>0</th>\n",
       "      <td>1988</td>\n",
       "      <td>1988 ACURA 2.3CL/3.0CL</td>\n",
       "      <td>23</td>\n",
       "      <td>3.0</td>\n",
       "      <td>6</td>\n",
       "    </tr>\n",
       "    <tr>\n",
       "      <th>1</th>\n",
       "      <td>1988</td>\n",
       "      <td>1988 ACURA 2.3CL/3.0CL</td>\n",
       "      <td>25</td>\n",
       "      <td>2.3</td>\n",
       "      <td>4</td>\n",
       "    </tr>\n",
       "    <tr>\n",
       "      <th>2</th>\n",
       "      <td>1988</td>\n",
       "      <td>1988 ACURA 2.3CL/3.0CL</td>\n",
       "      <td>27</td>\n",
       "      <td>2.3</td>\n",
       "      <td>4</td>\n",
       "    </tr>\n",
       "    <tr>\n",
       "      <th>3</th>\n",
       "      <td>1988</td>\n",
       "      <td>1988 ACURA 3.2TL</td>\n",
       "      <td>22</td>\n",
       "      <td>3.2</td>\n",
       "      <td>6</td>\n",
       "    </tr>\n",
       "    <tr>\n",
       "      <th>4</th>\n",
       "      <td>1988</td>\n",
       "      <td>1988 ACURA 3.5RL</td>\n",
       "      <td>20</td>\n",
       "      <td>3.5</td>\n",
       "      <td>6</td>\n",
       "    </tr>\n",
       "  </tbody>\n",
       "</table>\n",
       "</div>"
      ],
      "text/plain": [
       "   Model Year                FullName  MPG  Eng Displ  # Cyl\n",
       "0        1988  1988 ACURA 2.3CL/3.0CL   23        3.0      6\n",
       "1        1988  1988 ACURA 2.3CL/3.0CL   25        2.3      4\n",
       "2        1988  1988 ACURA 2.3CL/3.0CL   27        2.3      4\n",
       "3        1988        1988 ACURA 3.2TL   22        3.2      6\n",
       "4        1988        1988 ACURA 3.5RL   20        3.5      6"
      ]
     },
     "execution_count": 208,
     "metadata": {},
     "output_type": "execute_result"
    }
   ],
   "source": [
    "secondData.head()"
   ]
  },
  {
   "attachments": {},
   "cell_type": "markdown",
   "metadata": {},
   "source": []
  },
  {
   "cell_type": "code",
   "execution_count": 209,
   "metadata": {},
   "outputs": [],
   "source": [
    "secondData = secondData.rename(columns={'FullName' : 'Name','Eng Displ': 'Displacement', '# Cyl': 'Cylinders'})"
   ]
  },
  {
   "cell_type": "code",
   "execution_count": 210,
   "metadata": {},
   "outputs": [
    {
     "data": {
      "text/plain": [
       "MPG             float64\n",
       "Cylinders         int64\n",
       "Displacement    float64\n",
       "Horsepower      float64\n",
       "Weight          float64\n",
       "Acceleration    float64\n",
       "Model Year        int64\n",
       "Origin            int64\n",
       "Name             object\n",
       "dtype: object"
      ]
     },
     "execution_count": 210,
     "metadata": {},
     "output_type": "execute_result"
    }
   ],
   "source": [
    "df.dtypes"
   ]
  },
  {
   "cell_type": "code",
   "execution_count": 211,
   "metadata": {},
   "outputs": [
    {
     "data": {
      "text/plain": [
       "Model Year        int64\n",
       "Name             object\n",
       "MPG               int64\n",
       "Displacement    float64\n",
       "Cylinders         int64\n",
       "dtype: object"
      ]
     },
     "execution_count": 211,
     "metadata": {},
     "output_type": "execute_result"
    }
   ],
   "source": [
    "secondData.dtypes"
   ]
  },
  {
   "cell_type": "code",
   "execution_count": 224,
   "metadata": {},
   "outputs": [],
   "source": [
    "secondData['MPG'] = secondData['MPG'].astype(float)"
   ]
  },
  {
   "cell_type": "code",
   "execution_count": 225,
   "metadata": {},
   "outputs": [
    {
     "data": {
      "text/html": [
       "<div>\n",
       "<style scoped>\n",
       "    .dataframe tbody tr th:only-of-type {\n",
       "        vertical-align: middle;\n",
       "    }\n",
       "\n",
       "    .dataframe tbody tr th {\n",
       "        vertical-align: top;\n",
       "    }\n",
       "\n",
       "    .dataframe thead th {\n",
       "        text-align: right;\n",
       "    }\n",
       "</style>\n",
       "<table border=\"1\" class=\"dataframe\">\n",
       "  <thead>\n",
       "    <tr style=\"text-align: right;\">\n",
       "      <th></th>\n",
       "      <th>MPG</th>\n",
       "      <th>Cylinders</th>\n",
       "      <th>Displacement</th>\n",
       "      <th>Horsepower</th>\n",
       "      <th>Weight</th>\n",
       "      <th>Acceleration</th>\n",
       "      <th>Model Year</th>\n",
       "      <th>Origin</th>\n",
       "      <th>Name</th>\n",
       "    </tr>\n",
       "  </thead>\n",
       "  <tbody>\n",
       "  </tbody>\n",
       "</table>\n",
       "</div>"
      ],
      "text/plain": [
       "Empty DataFrame\n",
       "Columns: [MPG, Cylinders, Displacement, Horsepower, Weight, Acceleration, Model Year, Origin, Name]\n",
       "Index: []"
      ]
     },
     "execution_count": 225,
     "metadata": {},
     "output_type": "execute_result"
    }
   ],
   "source": [
    "df.merge(secondData)"
   ]
  },
  {
   "cell_type": "code",
   "execution_count": 239,
   "metadata": {},
   "outputs": [
    {
     "data": {
      "image/png": "[encoded data removed]",
      "text/plain": [
       "<Figure size 800x600 with 1 Axes>"
      ]
     },
     "metadata": {},
     "output_type": "display_data"
    }
   ],
   "source": [
    "fig = plt.figure(1,figsize=(8,6))\n",
    "\n",
    "scatter = plt.scatter([],[],c='lightblue',alpha=.8) # empty scatter plot\n",
    "\n",
    "#plt.xticks([]) #Removes number labels\n",
    "#plt.yticks([])\n",
    "\n",
    "plt.gca().spines['top'].set_visible(False) # Removes spines (the top and right border of our graph)\n",
    "plt.gca().spines['right'].set_visible(False)\n",
    "\n",
    "plt.xlim(68,84) # Scales our graph\n",
    "plt.ylim(5,50)\n",
    "\n",
    "plt.xlabel('Model Year',fontsize=14) # Gives our axes a label\n",
    "plt.ylabel('MPG',fontsize=14)\n",
    "\n",
    "plt.title('MPG vs Model Year',fontsize=16) # Gives our plot a title\n",
    "\n",
    "writer = PillowWriter(fps=2) # Creates our animation object with a slow speed of 2 fps\n",
    "\n",
    "x_list = [] # define empty x list\n",
    "y_list = [] # define empty y list\n",
    "\n",
    "x_set = sorted(set(x)) # find all unique values\n",
    "\"\"\"\"\n",
    "with writer.saving(fig,'Model_Year_vs_MPG.gif',100): # creates gif file\n",
    "    for year in x_set: # for every unique year (ordered)\n",
    "\n",
    "        y_values = df.loc[df['Model Year'] == year, 'MPG'].tolist() # get all the y values corresponding to that year (x)\n",
    "\n",
    "        x_list.extend([year]*len(y_values)) # add the year (x) to the list for every y value associated with it\n",
    "        y_list.extend(y_values) # add y values to list\n",
    "\n",
    "        scatter.set_offsets(np.column_stack((x_list,y_list))) # creates scatterplot with those lists\n",
    "\n",
    "        writer.grab_frame() # adds this frame to the gif \n",
    "\n",
    "\"\"\"\n",
    "plt.annotate('Peak MPG/Outlier', xy=(80, 46.6), xytext=(74, 46), fontsize=12,arrowprops=dict(facecolor='black',shrink=.1)) # adds the Peak MPG arrow\n",
    "\n",
    "# plt.savefig('mpgvsyear.jpg',dpi=300) turns plot into jpg\n",
    "\n",
    "plt.show() # displays graph"
   ]
  },
  {
   "cell_type": "markdown",
   "metadata": {},
   "source": [
    "We can see in the graph there seems to be a slight positive trend, with no obvious outliers. We will now investigate this further since a visualization can only give us a rough idea of what is going on "
   ]
  },
  {
   "cell_type": "code",
   "execution_count": 240,
   "metadata": {},
   "outputs": [
    {
     "name": "stdout",
     "output_type": "stream",
     "text": [
      "The correlation coefficient is 0.5792671330833096\n"
     ]
    }
   ],
   "source": [
    "r = x.corr(y,method='pearson') # calculates our correlation using pearson correlation\n",
    "\n",
    "print(f\"The correlation coefficient is {r}\") # prints correlation coefficient"
   ]
  },
  {
   "cell_type": "code",
   "execution_count": 241,
   "metadata": {},
   "outputs": [
    {
     "name": "stdout",
     "output_type": "stream",
     "text": [
      "The outliers are [46.6]\n"
     ]
    }
   ],
   "source": [
    "Q1 = y.quantile(0.25) # Calculate our quartiles\n",
    "Q3 = y.quantile(0.75)\n",
    "\n",
    "IQR = Q3 - Q1 # Get our IQR\n",
    "\n",
    "upper = Q3 + (1.5 * IQR) # Find our lower and upper outlier bounds\n",
    "lower = Q1 - (1.5 * IQR)\n",
    "\n",
    "outliers = df['MPG'][(y < lower) | (y > upper)].values # search for outliers\n",
    "\n",
    "print(f\"The outliers are {outliers}\") # prints outliers"
   ]
  },
  {
   "cell_type": "markdown",
   "metadata": {},
   "source": [
    "Our correlation analysis would also indicate that we have a slight positive correlation. We also checked for outliers which resulted in one small outliers which shouldn't affect our analysis. \n",
    "\n",
    "\n",
    "\n",
    "<br>\n",
    "We are now going to implement a Simple Linear Regression because we are predicting a relationship between two variables, therefore being the most appropriate. This will give us further insight to the relation between our variables and help us identify any issues with our data."
   ]
  },
  {
   "cell_type": "code",
   "execution_count": 242,
   "metadata": {},
   "outputs": [],
   "source": [
    "x_arr = np.array(x) # create numpy arrays for x and y\n",
    "y_arr = np.array(y)\n",
    "\n",
    "x_arr = preprocessing.scale(x_arr) # standardize x array\n",
    "\n",
    "X_train, X_test, y_train, y_test = train_test_split(x_arr,y_arr,test_size=.3) # get training sample\n",
    "\n",
    "lm = LinearRegression() # creating object \n",
    "\n",
    "lm.fit(X_train.reshape(-1,1),y_train) # fit our data\n",
    "\n",
    "simpleAcc = lm.score(X_test.reshape(-1,1),y_test) # calculate accuracy"
   ]
  },
  {
   "cell_type": "markdown",
   "metadata": {},
   "source": [
    "We now are using our graph from before and adding a linear regression line using our predicted y values. This provides a great medium for us to see our predicted values."
   ]
  },
  {
   "cell_type": "code",
   "execution_count": 243,
   "metadata": {},
   "outputs": [
    {
     "data": {
      "image/png": "[encoded data removed]",
      "text/plain": [
       "<Figure size 640x480 with 1 Axes>"
      ]
     },
     "metadata": {},
     "output_type": "display_data"
    }
   ],
   "source": [
    "\n",
    "scatter = plt.scatter([],[],c='lightblue',alpha=.8,label='Data Points') # initialize empty scatter plot\n",
    "\n",
    "linReg, = plt.plot([],[],c='coral',label='Linear Regression',linestyle='--') # intitialize empty line plot\n",
    "\n",
    "fig = plt.figure(1,figsize=(8,6)) #changes the physical size of the plot\n",
    "\n",
    "plt.xticks([]) #Removes number labels\n",
    "plt.yticks([])\n",
    "\n",
    "plt.gca().spines['top'].set_visible(False) # Removes spines\n",
    "plt.gca().spines['right'].set_visible(False)\n",
    "\n",
    "plt.xlim(68,84) # Scales our graph\n",
    "plt.ylim(5,50)\n",
    "\n",
    "plt.xlabel('Model Year',fontsize=14) # Gives our axes a label\n",
    "plt.ylabel('MPG',fontsize=14)\n",
    "\n",
    "plt.title('MPG vs Model Year w/ Linear Regression Line',fontsize=16) # gives a plot title\n",
    "\n",
    "plt.legend() # adds legend\n",
    "\n",
    "writer = PillowWriter(fps=200) # initalize pillow writer object\n",
    "\n",
    "x_list = [] # create our empty lists\n",
    "y_list = []\n",
    "\"\"\"\"\"\n",
    "with writer.saving(fig,'Model_Year_vs_MPG_LinReg.gif',100): # start our gif\n",
    "    for i in range(len(x)):  # for all of our data points\n",
    "\n",
    "        x_list.append(x[i]) # add our next data to lists\n",
    "        y_list.append(y[i])\n",
    "\n",
    "        x_arr = np.array(x_list) # turns lists into numpy arrays\n",
    "        y_arr = np.array(y_list)\n",
    "\n",
    "        x_arr = preprocessing.scale(x_arr)\n",
    "\n",
    "        if i > 1:\n",
    "            X_train, X_test, y_train, y_test = train_test_split(x_arr,y_arr,test_size=.3) # get our training sample\n",
    "\n",
    "            lm.fit(X_train.reshape(-1,1),y_train) # fit our sample\n",
    "        else:\n",
    "            X_train = 0\n",
    "\n",
    "        predict_y = lm.predict(x_arr.reshape(-1,1)) # get prediction\n",
    "\n",
    "        scatter.set_offsets(np.column_stack((x_list,y_list))) # add points to scatter plot\n",
    "        linReg.set_data(x_list,predict_y) # add points to linear regression line\n",
    "\n",
    "        writer.grab_frame() # capture the frame\n",
    "\n",
    "    for i in range(1000): # adds pause at the end\n",
    "        writer.grab_frame()\n",
    "\"\"\"\n",
    "\n",
    "# plt.savefig('simpleReg.jpg',dpi=300) turns plot into jpg\n",
    "\n",
    "plt.show() # shows plot"
   ]
  },
  {
   "cell_type": "markdown",
   "metadata": {},
   "source": [
    "This graph provides a great visual for seeing our predicted values versus our actual values. However there is obviously a lot of variability in this graph. It would be beneficial to use a more robust regression analysis.\n",
    "\n",
    "\n",
    "\n",
    "\n",
    "<br>\n",
    "Considering all of this variability with our Simple Linear Regression, we should find a model that fits our data better. A good fit would be a Multiple Linear Regression as it is just a slight step up. \n",
    "<br>\n",
    "\n",
    "For this model we want to add a feature, however this feature needs to follow two conditions:<br>\n",
    "    &emsp; 1. It should have a strong correlation with MPG<br>\n",
    "    &emsp; 2. It shouldn't be linearly correlated with Model Year \n"
   ]
  },
  {
   "cell_type": "code",
   "execution_count": 244,
   "metadata": {},
   "outputs": [
    {
     "data": {
      "image/png": "[encoded data removed]",
      "text/plain": [
       "<Figure size 1000x800 with 2 Axes>"
      ]
     },
     "metadata": {},
     "output_type": "display_data"
    }
   ],
   "source": [
    "numerical_data = df.drop('Name',axis=1) # get our numerical data by dropping name\n",
    "\n",
    "r_matrix = numerical_data.corr() # get correlation matrix\n",
    "\n",
    "plt.figure(figsize=(10,8))\n",
    "\n",
    "sns.heatmap(r_matrix,annot=True,cmap='coolwarm') # make heatmap for our correlation matrix\n",
    "\n",
    "plt.xticks(rotation=30)\n",
    "\n",
    "# plt.savefig('corrmatrix.jpg',dpi=300) saves plot as jpg\n",
    "\n",
    "plt.show() # show plot\n"
   ]
  },
  {
   "cell_type": "markdown",
   "metadata": {},
   "source": [
    "From this heatmap we can see which variables are strongly correlated with MPG. We can see that {Cylinders, Displacement, Horsepower and Weight} are potential candidates.\n",
    "\n",
    "\n",
    "<br>\n",
    "Since they satisfy (1.), We know need to check if they satisfy (2.). We can do this by checking for multicollinearity, which is evaluted using a metric called VIF. We are looking at the lowest values as they indicate less multicollinearity. The VIF can be analyzed as 1 : not correlated, 1-5 : moderately correlated and 5+ : highly correlated. Ideally we will find a value close to 1."
   ]
  },
  {
   "cell_type": "code",
   "execution_count": 245,
   "metadata": {},
   "outputs": [
    {
     "data": {
      "text/html": [
       "<div>\n",
       "<style scoped>\n",
       "    .dataframe tbody tr th:only-of-type {\n",
       "        vertical-align: middle;\n",
       "    }\n",
       "\n",
       "    .dataframe tbody tr th {\n",
       "        vertical-align: top;\n",
       "    }\n",
       "\n",
       "    .dataframe thead tr th {\n",
       "        text-align: left;\n",
       "    }\n",
       "</style>\n",
       "<table border=\"1\" class=\"dataframe\">\n",
       "  <thead>\n",
       "    <tr>\n",
       "      <th></th>\n",
       "      <th colspan=\"4\" halign=\"left\">Model Year</th>\n",
       "    </tr>\n",
       "    <tr>\n",
       "      <th></th>\n",
       "      <th>Weight</th>\n",
       "      <th>Cylinders</th>\n",
       "      <th>Horsepower</th>\n",
       "      <th>Displacement</th>\n",
       "    </tr>\n",
       "  </thead>\n",
       "  <tbody>\n",
       "    <tr>\n",
       "      <th>0</th>\n",
       "      <td>11.767195</td>\n",
       "      <td>9.985874</td>\n",
       "      <td>7.543748</td>\n",
       "      <td>4.141533</td>\n",
       "    </tr>\n",
       "  </tbody>\n",
       "</table>\n",
       "</div>"
      ],
      "text/plain": [
       "  Model Year                                  \n",
       "      Weight Cylinders Horsepower Displacement\n",
       "0  11.767195  9.985874   7.543748     4.141533"
      ]
     },
     "execution_count": 245,
     "metadata": {},
     "output_type": "execute_result"
    }
   ],
   "source": [
    "X_var = [df[['Model Year','Weight']],df[['Model Year','Cylinders']],df[['Model Year','Horsepower']],df[['Model Year','Displacement']]] # get all of our correlated variables\n",
    "\n",
    "vif_data = {} # get empty list\n",
    "\n",
    "for X_vars in X_var: # for each of the correlated variables\n",
    "    value = [variance_inflation_factor(X_vars.values, i) for i in range(len(X_vars.columns))]\n",
    "    vif_data[tuple(X_vars.columns)] = value # add the name of the variables\n",
    "\n",
    "\n",
    "vif_data=pd.DataFrame(vif_data) # turn into Data Frame\n",
    "vif_data = vif_data.drop(index=vif_data.index[1]) # drop duplicate\n",
    "\n",
    "vif_data # print table\n",
    "\n",
    "# vif_data.to_csv('vifTable.csv') get csv file to make tableau visualization"
   ]
  },
  {
   "cell_type": "markdown",
   "metadata": {},
   "source": [
    "From this table we can see that Displacement has the lowest VIF score which is our best candidate for a Multiple Linear Regression.\n",
    "\n",
    "\n",
    "<br>\n",
    "We already know that Displacement and MPG have a strong correlation from our Correlation Matrix Heatmap. However, it is still useful to visualize it so we can see any possible outliers and analzye our curve type."
   ]
  },
  {
   "cell_type": "code",
   "execution_count": 246,
   "metadata": {},
   "outputs": [
    {
     "data": {
      "image/png": "[encoded data removed]",
      "text/plain": [
       "<Figure size 640x480 with 1 Axes>"
      ]
     },
     "metadata": {},
     "output_type": "display_data"
    }
   ],
   "source": [
    "displacement = df['Displacement'] # get displacement column\n",
    "\n",
    "plt.scatter(displacement,y,c='lightblue',alpha=.8)\n",
    "\n",
    "fig = plt.figure(1,figsize=(8,6)) #changes the physical size of the plot\n",
    "\n",
    "plt.xticks([]) #Removes number labels\n",
    "plt.yticks([])\n",
    "\n",
    "plt.gca().spines['top'].set_visible(False) # Removes spines\n",
    "plt.gca().spines['right'].set_visible(False)\n",
    "\n",
    "plt.xlabel('Displacement',fontsize=14) # Gives our axes a label\n",
    "plt.ylabel('MPG',fontsize=14)\n",
    "\n",
    "plt.title('MPG vs Displacement',fontsize=16) # Give our plot a title\n",
    "\n",
    "# plt.savefig('mpgvsdisp.jpg',dpi=300) turns plot into jpg\n",
    "\n",
    "plt.show() # show plot\n"
   ]
  },
  {
   "cell_type": "markdown",
   "metadata": {},
   "source": [
    "With this visualization we see that there seems to be a strong negative correlation, possibly exponential decay, between MPG and Weight. We can also see some possible outliers. We will repeat our previous analysis and check more concretely for outliers and understand our correlation."
   ]
  },
  {
   "cell_type": "code",
   "execution_count": 247,
   "metadata": {},
   "outputs": [
    {
     "name": "stdout",
     "output_type": "stream",
     "text": [
      "The outliers are []\n"
     ]
    }
   ],
   "source": [
    "Q1 = displacement.quantile(0.25) # Calculate our quartiles\n",
    "Q3 = displacement.quantile(0.75)\n",
    "\n",
    "IQR = Q3 - Q1 # Get our IQR\n",
    "\n",
    "upper = Q3 + (1.5 * IQR) # Find our lower and upper outlier bounds\n",
    "lower = Q1 - (1.5 * IQR)\n",
    "\n",
    "outliers = df['Displacement'][(displacement < lower) | (displacement > upper)].values # search for outliers\n",
    "\n",
    "print(f\"The outliers are {outliers}\") # print outliers"
   ]
  },
  {
   "cell_type": "code",
   "execution_count": 248,
   "metadata": {},
   "outputs": [],
   "source": [
    "multiple_x = df[['Model Year', 'Displacement']].values # creating an x intercept with Model Year and Weight\n",
    "\n",
    "x_arr = np.array(multiple_x) # create numpy arrays for x and y\n",
    "y_arr = np.array(y)\n",
    "\n",
    "x_arr = preprocessing.scale(x_arr)\n",
    "\n",
    "multiLM = LinearRegression() # Creating LinearRegression instance\n",
    "\n",
    "X_train, X_test, y_train, y_test = train_test_split(x_arr,y_arr,test_size=.3)\n",
    "\n",
    "multiLM.fit(X_test,y_test) # Fitting our x and y\n",
    "\n",
    "multiPred_y = multiLM.predict(x_arr) # getting our prediction array\n",
    "\n",
    "multiAcc = multiLM.score(X_train,y_train) # get our models accuracy"
   ]
  },
  {
   "cell_type": "code",
   "execution_count": 249,
   "metadata": {},
   "outputs": [
    {
     "data": {
      "image/png": "[encoded data removed]",
      "text/plain": [
       "<Figure size 800x600 with 1 Axes>"
      ]
     },
     "metadata": {},
     "output_type": "display_data"
    }
   ],
   "source": [
    "\n",
    "fig = plt.figure(1,figsize=(8,6)) #changes the physical size of the plot\n",
    "\n",
    "plt.xticks([]) #Removes number labels\n",
    "plt.yticks([])\n",
    "\n",
    "plt.gca().spines['top'].set_visible(False) # Removes spines\n",
    "plt.gca().spines['right'].set_visible(False)\n",
    "\n",
    "plt.xlim(68,84) # Scales our graph\n",
    "plt.ylim(0,50)\n",
    "\n",
    "plt.xlabel('Model Year',fontsize=12) # Gives our axes a label\n",
    "plt.ylabel('MPG',fontsize=12)\n",
    "\n",
    "plt.title('MPG vs Model Year w/ Linear Regression',fontsize=14) # gives a plot title\n",
    "\n",
    "scatter = plt.scatter([], [], c='lightblue', alpha=.5, label='Original Data') # plot original data\n",
    "linReg = plt.scatter([],[],c='coral', alpha=1.0, label='Linear Regression',marker='*') # plot linear regression line\n",
    "\n",
    "x_list = x.tolist() # create list of Model Year\n",
    "y_list = y.tolist() # create list of MPG\n",
    "\n",
    "writer= PillowWriter(fps=500) # initialize pillow writer\n",
    "\n",
    "\"\"\"with writer.saving(fig,'Model_Year_vs_MPG_MultiLinReg.gif',100): # create gif\n",
    "    for i in x: # for every data\n",
    "        x_list.pop() # remove end element from our lists\n",
    "        y_list.pop()\n",
    "\n",
    "        scatter.set_offsets(np.column_stack((x_list,y_list))) # update plot\n",
    "        if(len(x_list) % 5 == 0): # grab every other 5 frames\n",
    "            writer.grab_frame()\n",
    "\n",
    "    for i in range(len(x)): # for every data\n",
    "        x_list.append(x[i]) # add first Model Year data\n",
    "        y_list.append(multiPred_y[i]) # add first predicted y\n",
    "        \n",
    "        linReg.set_offsets(np.column_stack((x_list,y_list))) # add to plot\n",
    "        if(i % 5 == 0): # grav every other 5 frames\n",
    "            writer.grab_frame()\n",
    "\n",
    "    for t in range(1000): # creates pause\n",
    "        scatter.set_offsets(np.column_stack((x,y))) # shows compelete graphs overlapped\n",
    "        linReg.set_offsets(np.column_stack((x_list,multiPred_y)))\n",
    "        writer.grab_frame() \n",
    "\"\"\"\n",
    "\n",
    "plt.legend() # add legend\n",
    "plt.grid() # add grid\n",
    "\n",
    "# plt.savefig('multiLinReg.jpg',dpi=300) turns plot into jpg\n",
    "\n",
    "plt.show() # shows plot"
   ]
  },
  {
   "cell_type": "markdown",
   "metadata": {},
   "source": [
    "From this data visualization we can obviously tell this fits the data much better than our Simple Linear Regression. We will now calculate the variation between the two too get an understanding of the magnitude. We will use R^2 score because it is a better for comparing correlation between two different things. This is because the score is more intituitive then the regular R score."
   ]
  },
  {
   "cell_type": "code",
   "execution_count": 250,
   "metadata": {},
   "outputs": [
    {
     "name": "stdout",
     "output_type": "stream",
     "text": [
      "The R^2 score for our Simple Linear Regression 0.3153882531193609\n",
      "The R^2 score for our Multiple Linear Regression 0.7191225567065276\n",
      "The Multiple Linear Regression explains our variation more by a magnitude of 228.0118392470282%\n"
     ]
    }
   ],
   "source": [
    "\n",
    "\n",
    "# r2 score for our simple linear regression\n",
    "print(f\"The R^2 score for our Simple Linear Regression {simpleAcc}\")\n",
    "\n",
    "# r2 score for our multiple linear regression\n",
    "print(f\"The R^2 score for our Multiple Linear Regression {multiAcc}\")\n",
    "\n",
    "r2_Improvement = (multiAcc / simpleAcc) * 100\n",
    "print(f\"The Multiple Linear Regression explains our variation more by a magnitude of {r2_Improvement}%\")\n",
    "\n"
   ]
  }
 ],
 "metadata": {
  "kernelspec": {
   "display_name": "Python 3 (ipykernel)",
   "language": "python",
   "name": "python3"
  },
  "language_info": {
   "codemirror_mode": {
    "name": "ipython",
    "version": 3
   },
   "file_extension": ".py",
   "mimetype": "text/x-python",
   "name": "python",
   "nbconvert_exporter": "python",
   "pygments_lexer": "ipython3",
   "version": "3.8.2"
  },
  "vscode": {
   "interpreter": {
    "hash": "31f2aee4e71d21fbe5cf8b01ff0e069b9275f58929596ceb00d14d90e3e16cd6"
   }
  }
 },
 "nbformat": 4,
 "nbformat_minor": 2
}
