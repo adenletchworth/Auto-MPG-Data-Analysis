{
 "cells": [
  {
   "cell_type": "markdown",
   "metadata": {},
   "source": [
    "**Data Analysis Project: MPG and Model Year in Automobiles**"
   ]
  },
  {
   "cell_type": "code",
   "execution_count": 452,
   "metadata": {},
   "outputs": [],
   "source": [
    "import pandas as pd\n",
    "import numpy as np\n",
    "import matplotlib.pyplot as plt\n",
    "from sklearn.linear_model import LinearRegression\n",
    "from sklearn.model_selection import train_test_split\n",
    "from sklearn.metrics import r2_score\n",
    "import seaborn as sns\n",
    "from matplotlib.animation import PillowWriter\n",
    "from statsmodels.stats.outliers_influence import variance_inflation_factor\n",
    "from sklearn import preprocessing"
   ]
  },
  {
   "cell_type": "markdown",
   "metadata": {},
   "source": [
    "**Importing Data**\n",
    "\n",
    "\n",
    "\n",
    "<br>\n",
    "We need to import our dataset, using the correct delimeters and labeling our columns accordingly."
   ]
  },
  {
   "cell_type": "code",
   "execution_count": 453,
   "metadata": {},
   "outputs": [],
   "source": [
    "data = pd.read_csv('../auto-mpg.data', delimiter='\\s+', header=None, names=['MPG', 'Cylinders', 'Displacement', 'Horsepower', 'Weight', 'Acceleration', 'Model Year', 'Origin', 'Name']) # importing our data\n",
    "\n",
    "df = pd.DataFrame(data) # getting copy of data dataframe"
   ]
  },
  {
   "cell_type": "markdown",
   "metadata": {},
   "source": [
    "**Exploring Data**\n"
   ]
  },
  {
   "cell_type": "code",
   "execution_count": 454,
   "metadata": {},
   "outputs": [
    {
     "data": {
      "text/plain": [
       "(398, 9)"
      ]
     },
     "execution_count": 454,
     "metadata": {},
     "output_type": "execute_result"
    }
   ],
   "source": [
    "df.shape # gets shape of our data"
   ]
  },
  {
   "attachments": {},
   "cell_type": "markdown",
   "metadata": {},
   "source": [
    "We can see here that our data has 9 columns and 398 rows."
   ]
  },
  {
   "cell_type": "code",
   "execution_count": 455,
   "metadata": {},
   "outputs": [
    {
     "name": "stdout",
     "output_type": "stream",
     "text": [
      "    MPG  Cylinders  Displacement Horsepower  Weight  Acceleration  Model Year   \n",
      "0  18.0          8         307.0      130.0  3504.0          12.0          70  \\\n",
      "1  15.0          8         350.0      165.0  3693.0          11.5          70   \n",
      "2  18.0          8         318.0      150.0  3436.0          11.0          70   \n",
      "3  16.0          8         304.0      150.0  3433.0          12.0          70   \n",
      "4  17.0          8         302.0      140.0  3449.0          10.5          70   \n",
      "\n",
      "   Origin                       Name  \n",
      "0       1  chevrolet chevelle malibu  \n",
      "1       1          buick skylark 320  \n",
      "2       1         plymouth satellite  \n",
      "3       1              amc rebel sst  \n",
      "4       1                ford torino  \n"
     ]
    }
   ],
   "source": [
    "print(df.head()) # pritns first 5 values"
   ]
  },
  {
   "cell_type": "code",
   "execution_count": 456,
   "metadata": {},
   "outputs": [
    {
     "data": {
      "text/html": [
       "<div>\n",
       "<style scoped>\n",
       "    .dataframe tbody tr th:only-of-type {\n",
       "        vertical-align: middle;\n",
       "    }\n",
       "\n",
       "    .dataframe tbody tr th {\n",
       "        vertical-align: top;\n",
       "    }\n",
       "\n",
       "    .dataframe thead th {\n",
       "        text-align: right;\n",
       "    }\n",
       "</style>\n",
       "<table border=\"1\" class=\"dataframe\">\n",
       "  <thead>\n",
       "    <tr style=\"text-align: right;\">\n",
       "      <th></th>\n",
       "      <th>Data Types</th>\n",
       "    </tr>\n",
       "  </thead>\n",
       "  <tbody>\n",
       "    <tr>\n",
       "      <th>MPG</th>\n",
       "      <td>float64</td>\n",
       "    </tr>\n",
       "    <tr>\n",
       "      <th>Cylinders</th>\n",
       "      <td>int64</td>\n",
       "    </tr>\n",
       "    <tr>\n",
       "      <th>Displacement</th>\n",
       "      <td>float64</td>\n",
       "    </tr>\n",
       "    <tr>\n",
       "      <th>Horsepower</th>\n",
       "      <td>object</td>\n",
       "    </tr>\n",
       "    <tr>\n",
       "      <th>Weight</th>\n",
       "      <td>float64</td>\n",
       "    </tr>\n",
       "    <tr>\n",
       "      <th>Acceleration</th>\n",
       "      <td>float64</td>\n",
       "    </tr>\n",
       "    <tr>\n",
       "      <th>Model Year</th>\n",
       "      <td>int64</td>\n",
       "    </tr>\n",
       "    <tr>\n",
       "      <th>Origin</th>\n",
       "      <td>int64</td>\n",
       "    </tr>\n",
       "    <tr>\n",
       "      <th>Name</th>\n",
       "      <td>object</td>\n",
       "    </tr>\n",
       "  </tbody>\n",
       "</table>\n",
       "</div>"
      ],
      "text/plain": [
       "             Data Types\n",
       "MPG             float64\n",
       "Cylinders         int64\n",
       "Displacement    float64\n",
       "Horsepower       object\n",
       "Weight          float64\n",
       "Acceleration    float64\n",
       "Model Year        int64\n",
       "Origin            int64\n",
       "Name             object"
      ]
     },
     "execution_count": 456,
     "metadata": {},
     "output_type": "execute_result"
    }
   ],
   "source": [
    "dataTypes = df.dtypes.to_frame(name='Data Types') # turn data types into data frame\n",
    "\n",
    "dataTypes # prints data types\n",
    "\n",
    "# dataTypes.to_csv('dtypes.csv') get data types for tableau visualization\n"
   ]
  },
  {
   "cell_type": "markdown",
   "metadata": {},
   "source": [
    "We can see here that Horsepower appears to be a float when we got the first 5 entries. However checking the data type it is an object.\n",
    "\n",
    "\n",
    "<br>\n",
    "Missing values could be causing this discrepancy so it is important to investigate it."
   ]
  },
  {
   "cell_type": "code",
   "execution_count": 457,
   "metadata": {},
   "outputs": [
    {
     "name": "stdout",
     "output_type": "stream",
     "text": [
      "MPG             0\n",
      "Cylinders       0\n",
      "Displacement    0\n",
      "Horsepower      0\n",
      "Weight          0\n",
      "Acceleration    0\n",
      "Model Year      0\n",
      "Origin          0\n",
      "Name            0\n",
      "dtype: int64\n"
     ]
    }
   ],
   "source": [
    "is_clean = df.isnull().sum() # finds any missing values for each column and sums it\n",
    "\n",
    "print(is_clean) # print results"
   ]
  },
  {
   "cell_type": "markdown",
   "metadata": {},
   "source": [
    "We can see that checking for missing values didn't produce any results. This means something else must be causing the data type confusion.\n",
    "\n",
    "\n",
    "<br>\n",
    "At this point it would be useful to check all the unique values in Horsepower"
   ]
  },
  {
   "cell_type": "code",
   "execution_count": 458,
   "metadata": {},
   "outputs": [
    {
     "name": "stdout",
     "output_type": "stream",
     "text": [
      "['130.0' '165.0' '150.0' '140.0' '198.0' '220.0' '215.0' '225.0' '190.0'\n",
      " '170.0' '160.0' '95.00' '97.00' '85.00' '88.00' '46.00' '87.00' '90.00'\n",
      " '113.0' '200.0' '210.0' '193.0' '?' '100.0' '105.0' '175.0' '153.0'\n",
      " '180.0' '110.0' '72.00' '86.00' '70.00' '76.00' '65.00' '69.00' '60.00'\n",
      " '80.00' '54.00' '208.0' '155.0' '112.0' '92.00' '145.0' '137.0' '158.0'\n",
      " '167.0' '94.00' '107.0' '230.0' '49.00' '75.00' '91.00' '122.0' '67.00'\n",
      " '83.00' '78.00' '52.00' '61.00' '93.00' '148.0' '129.0' '96.00' '71.00'\n",
      " '98.00' '115.0' '53.00' '81.00' '79.00' '120.0' '152.0' '102.0' '108.0'\n",
      " '68.00' '58.00' '149.0' '89.00' '63.00' '48.00' '66.00' '139.0' '103.0'\n",
      " '125.0' '133.0' '138.0' '135.0' '142.0' '77.00' '62.00' '132.0' '84.00'\n",
      " '64.00' '74.00' '116.0' '82.00']\n"
     ]
    }
   ],
   "source": [
    "\n",
    "print(df['Horsepower'].unique()) # gets all unique values"
   ]
  },
  {
   "cell_type": "markdown",
   "metadata": {},
   "source": [
    "We can see in the midst of these numbers is a '?'. This is likely what the dataset uses for missing values.\n",
    "\n",
    "\n",
    "<br>\n",
    "We should replace these '?' with something better."
   ]
  },
  {
   "cell_type": "code",
   "execution_count": 459,
   "metadata": {},
   "outputs": [],
   "source": [
    "df = df.replace('?',np.nan) # replaces '?' with NaN"
   ]
  },
  {
   "cell_type": "markdown",
   "metadata": {},
   "source": [
    "Now that we replaced our off data we can see how many missing values there actually is."
   ]
  },
  {
   "cell_type": "code",
   "execution_count": 460,
   "metadata": {},
   "outputs": [
    {
     "data": {
      "text/html": [
       "<div>\n",
       "<style scoped>\n",
       "    .dataframe tbody tr th:only-of-type {\n",
       "        vertical-align: middle;\n",
       "    }\n",
       "\n",
       "    .dataframe tbody tr th {\n",
       "        vertical-align: top;\n",
       "    }\n",
       "\n",
       "    .dataframe thead th {\n",
       "        text-align: right;\n",
       "    }\n",
       "</style>\n",
       "<table border=\"1\" class=\"dataframe\">\n",
       "  <thead>\n",
       "    <tr style=\"text-align: right;\">\n",
       "      <th></th>\n",
       "      <th>Missing Values</th>\n",
       "    </tr>\n",
       "  </thead>\n",
       "  <tbody>\n",
       "    <tr>\n",
       "      <th>MPG</th>\n",
       "      <td>0</td>\n",
       "    </tr>\n",
       "    <tr>\n",
       "      <th>Cylinders</th>\n",
       "      <td>0</td>\n",
       "    </tr>\n",
       "    <tr>\n",
       "      <th>Displacement</th>\n",
       "      <td>0</td>\n",
       "    </tr>\n",
       "    <tr>\n",
       "      <th>Horsepower</th>\n",
       "      <td>6</td>\n",
       "    </tr>\n",
       "    <tr>\n",
       "      <th>Weight</th>\n",
       "      <td>0</td>\n",
       "    </tr>\n",
       "    <tr>\n",
       "      <th>Acceleration</th>\n",
       "      <td>0</td>\n",
       "    </tr>\n",
       "    <tr>\n",
       "      <th>Model Year</th>\n",
       "      <td>0</td>\n",
       "    </tr>\n",
       "    <tr>\n",
       "      <th>Origin</th>\n",
       "      <td>0</td>\n",
       "    </tr>\n",
       "    <tr>\n",
       "      <th>Name</th>\n",
       "      <td>0</td>\n",
       "    </tr>\n",
       "  </tbody>\n",
       "</table>\n",
       "</div>"
      ],
      "text/plain": [
       "              Missing Values\n",
       "MPG                        0\n",
       "Cylinders                  0\n",
       "Displacement               0\n",
       "Horsepower                 6\n",
       "Weight                     0\n",
       "Acceleration               0\n",
       "Model Year                 0\n",
       "Origin                     0\n",
       "Name                       0"
      ]
     },
     "execution_count": 460,
     "metadata": {},
     "output_type": "execute_result"
    }
   ],
   "source": [
    "is_clean = df.isnull().sum() # checks for missing values (nan)\n",
    "\n",
    "clean_table = is_clean.to_frame(name='Missing Values') # turns into pandas table\n",
    "\n",
    "clean_table # print table\n",
    "\n",
    "# clean_table.to_csv('missingValues.csv') get missing values for tableau visualization"
   ]
  },
  {
   "cell_type": "markdown",
   "metadata": {},
   "source": [
    "We can see that we have 6 missing values in Horsepower. We can either drop the rows containing the missing data or fill it in with an educated number. Since we already have a relatively small dataset and unlikely to use Horsepower at this point, we will fill it in with the mean."
   ]
  },
  {
   "cell_type": "code",
   "execution_count": 461,
   "metadata": {},
   "outputs": [
    {
     "data": {
      "text/plain": [
       "0"
      ]
     },
     "execution_count": 461,
     "metadata": {},
     "output_type": "execute_result"
    }
   ],
   "source": [
    "df['Horsepower'] = pd.to_numeric(df['Horsepower']) # turn horsepower into numeric column\n",
    "\n",
    "horse_mean = df['Horsepower'].mean() # get the mean of the column\n",
    "\n",
    "df['Horsepower'].fillna(horse_mean, inplace=True) # fill in missing values with mean\n",
    "\n",
    "df['Horsepower'].isnull().sum() # check if missing values still exist\n"
   ]
  },
  {
   "cell_type": "markdown",
   "metadata": {},
   "source": [
    "We can see that Horsepower no longer has any missing values."
   ]
  },
  {
   "cell_type": "code",
   "execution_count": 462,
   "metadata": {},
   "outputs": [],
   "source": [
    "filepath = '../AllCarsCondensed.csv'\n",
    "secondData = pd.read_csv(filepath)"
   ]
  },
  {
   "cell_type": "code",
   "execution_count": 463,
   "metadata": {},
   "outputs": [
    {
     "data": {
      "text/html": [
       "<div>\n",
       "<style scoped>\n",
       "    .dataframe tbody tr th:only-of-type {\n",
       "        vertical-align: middle;\n",
       "    }\n",
       "\n",
       "    .dataframe tbody tr th {\n",
       "        vertical-align: top;\n",
       "    }\n",
       "\n",
       "    .dataframe thead th {\n",
       "        text-align: right;\n",
       "    }\n",
       "</style>\n",
       "<table border=\"1\" class=\"dataframe\">\n",
       "  <thead>\n",
       "    <tr style=\"text-align: right;\">\n",
       "      <th></th>\n",
       "      <th>Model Year</th>\n",
       "      <th>FullName</th>\n",
       "      <th>MPG</th>\n",
       "      <th>Eng Displ</th>\n",
       "      <th># Cyl</th>\n",
       "    </tr>\n",
       "  </thead>\n",
       "  <tbody>\n",
       "    <tr>\n",
       "      <th>0</th>\n",
       "      <td>1988</td>\n",
       "      <td>1988 ACURA 2.3CL/3.0CL</td>\n",
       "      <td>23</td>\n",
       "      <td>3.0</td>\n",
       "      <td>6</td>\n",
       "    </tr>\n",
       "    <tr>\n",
       "      <th>1</th>\n",
       "      <td>1988</td>\n",
       "      <td>1988 ACURA 2.3CL/3.0CL</td>\n",
       "      <td>25</td>\n",
       "      <td>2.3</td>\n",
       "      <td>4</td>\n",
       "    </tr>\n",
       "    <tr>\n",
       "      <th>2</th>\n",
       "      <td>1988</td>\n",
       "      <td>1988 ACURA 2.3CL/3.0CL</td>\n",
       "      <td>27</td>\n",
       "      <td>2.3</td>\n",
       "      <td>4</td>\n",
       "    </tr>\n",
       "    <tr>\n",
       "      <th>3</th>\n",
       "      <td>1988</td>\n",
       "      <td>1988 ACURA 3.2TL</td>\n",
       "      <td>22</td>\n",
       "      <td>3.2</td>\n",
       "      <td>6</td>\n",
       "    </tr>\n",
       "    <tr>\n",
       "      <th>4</th>\n",
       "      <td>1988</td>\n",
       "      <td>1988 ACURA 3.5RL</td>\n",
       "      <td>20</td>\n",
       "      <td>3.5</td>\n",
       "      <td>6</td>\n",
       "    </tr>\n",
       "  </tbody>\n",
       "</table>\n",
       "</div>"
      ],
      "text/plain": [
       "   Model Year                FullName  MPG  Eng Displ  # Cyl\n",
       "0        1988  1988 ACURA 2.3CL/3.0CL   23        3.0      6\n",
       "1        1988  1988 ACURA 2.3CL/3.0CL   25        2.3      4\n",
       "2        1988  1988 ACURA 2.3CL/3.0CL   27        2.3      4\n",
       "3        1988        1988 ACURA 3.2TL   22        3.2      6\n",
       "4        1988        1988 ACURA 3.5RL   20        3.5      6"
      ]
     },
     "execution_count": 463,
     "metadata": {},
     "output_type": "execute_result"
    }
   ],
   "source": [
    "secondData.head()"
   ]
  },
  {
   "cell_type": "code",
   "execution_count": 464,
   "metadata": {},
   "outputs": [],
   "source": [
    "secondData = secondData.rename(columns={'FullName' : 'Name','Eng Displ': 'Displacement', '# Cyl': 'Cylinders'})"
   ]
  },
  {
   "cell_type": "code",
   "execution_count": 465,
   "metadata": {},
   "outputs": [
    {
     "data": {
      "text/plain": [
       "MPG             float64\n",
       "Cylinders         int64\n",
       "Displacement    float64\n",
       "Horsepower      float64\n",
       "Weight          float64\n",
       "Acceleration    float64\n",
       "Model Year        int64\n",
       "Origin            int64\n",
       "Name             object\n",
       "dtype: object"
      ]
     },
     "execution_count": 465,
     "metadata": {},
     "output_type": "execute_result"
    }
   ],
   "source": [
    "df.dtypes"
   ]
  },
  {
   "cell_type": "code",
   "execution_count": 466,
   "metadata": {},
   "outputs": [
    {
     "data": {
      "text/plain": [
       "Model Year        int64\n",
       "Name             object\n",
       "MPG               int64\n",
       "Displacement    float64\n",
       "Cylinders         int64\n",
       "dtype: object"
      ]
     },
     "execution_count": 466,
     "metadata": {},
     "output_type": "execute_result"
    }
   ],
   "source": [
    "secondData.dtypes"
   ]
  },
  {
   "cell_type": "code",
   "execution_count": 467,
   "metadata": {},
   "outputs": [],
   "source": [
    "secondData['MPG'] = secondData['MPG'].astype(float)"
   ]
  },
  {
   "cell_type": "code",
   "execution_count": 468,
   "metadata": {},
   "outputs": [],
   "source": [
    "df = df.merge(secondData,how='inner')\n",
    "df = df.drop(['Horsepower','Weight','Acceleration','Origin'],axis=1)\n",
    "\n",
    "df.to_csv"
   ]
  },
  {
   "cell_type": "code",
   "execution_count": 469,
   "metadata": {},
   "outputs": [
    {
     "data": {
      "text/html": [
       "<div>\n",
       "<style scoped>\n",
       "    .dataframe tbody tr th:only-of-type {\n",
       "        vertical-align: middle;\n",
       "    }\n",
       "\n",
       "    .dataframe tbody tr th {\n",
       "        vertical-align: top;\n",
       "    }\n",
       "\n",
       "    .dataframe thead th {\n",
       "        text-align: right;\n",
       "    }\n",
       "</style>\n",
       "<table border=\"1\" class=\"dataframe\">\n",
       "  <thead>\n",
       "    <tr style=\"text-align: right;\">\n",
       "      <th></th>\n",
       "      <th>MPG</th>\n",
       "      <th>Cylinders</th>\n",
       "      <th>Displacement</th>\n",
       "      <th>Model Year</th>\n",
       "    </tr>\n",
       "  </thead>\n",
       "  <tbody>\n",
       "    <tr>\n",
       "      <th>count</th>\n",
       "      <td>0.0</td>\n",
       "      <td>0.0</td>\n",
       "      <td>0.0</td>\n",
       "      <td>0.0</td>\n",
       "    </tr>\n",
       "    <tr>\n",
       "      <th>mean</th>\n",
       "      <td>NaN</td>\n",
       "      <td>NaN</td>\n",
       "      <td>NaN</td>\n",
       "      <td>NaN</td>\n",
       "    </tr>\n",
       "    <tr>\n",
       "      <th>std</th>\n",
       "      <td>NaN</td>\n",
       "      <td>NaN</td>\n",
       "      <td>NaN</td>\n",
       "      <td>NaN</td>\n",
       "    </tr>\n",
       "    <tr>\n",
       "      <th>min</th>\n",
       "      <td>NaN</td>\n",
       "      <td>NaN</td>\n",
       "      <td>NaN</td>\n",
       "      <td>NaN</td>\n",
       "    </tr>\n",
       "    <tr>\n",
       "      <th>25%</th>\n",
       "      <td>NaN</td>\n",
       "      <td>NaN</td>\n",
       "      <td>NaN</td>\n",
       "      <td>NaN</td>\n",
       "    </tr>\n",
       "    <tr>\n",
       "      <th>50%</th>\n",
       "      <td>NaN</td>\n",
       "      <td>NaN</td>\n",
       "      <td>NaN</td>\n",
       "      <td>NaN</td>\n",
       "    </tr>\n",
       "    <tr>\n",
       "      <th>75%</th>\n",
       "      <td>NaN</td>\n",
       "      <td>NaN</td>\n",
       "      <td>NaN</td>\n",
       "      <td>NaN</td>\n",
       "    </tr>\n",
       "    <tr>\n",
       "      <th>max</th>\n",
       "      <td>NaN</td>\n",
       "      <td>NaN</td>\n",
       "      <td>NaN</td>\n",
       "      <td>NaN</td>\n",
       "    </tr>\n",
       "  </tbody>\n",
       "</table>\n",
       "</div>"
      ],
      "text/plain": [
       "       MPG  Cylinders  Displacement  Model Year\n",
       "count  0.0        0.0           0.0         0.0\n",
       "mean   NaN        NaN           NaN         NaN\n",
       "std    NaN        NaN           NaN         NaN\n",
       "min    NaN        NaN           NaN         NaN\n",
       "25%    NaN        NaN           NaN         NaN\n",
       "50%    NaN        NaN           NaN         NaN\n",
       "75%    NaN        NaN           NaN         NaN\n",
       "max    NaN        NaN           NaN         NaN"
      ]
     },
     "execution_count": 469,
     "metadata": {},
     "output_type": "execute_result"
    }
   ],
   "source": [
    "\n",
    "temp = pd.DataFrame(df.describe()) # turns our describe statistics into data frame\n",
    "\n",
    "temp # prints data frame\n",
    "\n",
    "#file = temp.to_csv('describe.csv') turn into csv to create tableau visualization"
   ]
  },
  {
   "cell_type": "markdown",
   "metadata": {},
   "source": [
    "\n",
    "Now that we've explored our data, it's time to take a closer look at our dependent variable (MPG). We have chose this as our dependent variable as we are predicting fuel efficiency over time. That makes MPG a function of Model Year. Model Year also fits as our independent variable because of its discrete natural ordering."
   ]
  },
  {
   "cell_type": "code",
   "execution_count": 470,
   "metadata": {},
   "outputs": [
    {
     "data": {
      "image/png": "[encoded data removed]",
      "text/plain": [
       "<Figure size 800x600 with 1 Axes>"
      ]
     },
     "metadata": {},
     "output_type": "display_data"
    }
   ],
   "source": [
    "y = df['MPG'] # Define independent variable (MPG)\n",
    "\n",
    "plt.figure(figsize=(8,6)) # change the size of plot\n",
    "\n",
    "colors = sns.color_palette('muted') # get muted color pallete\n",
    "\n",
    "sns.histplot(y,kde=True,color=colors[0]) # graph plot with kde line\n",
    "\n",
    "plt.xlabel(\"MPG\", fontsize=14) # label x axis\n",
    "plt.ylabel(\"Frequency\", fontsize=14) # label y axis\n",
    "plt.title(\"Distribution of MPG\", fontsize=16) # give title\n",
    "\n",
    "# plt.savefig('mpgdist.jpg',dpi=300) turn plot into jpg\n",
    "\n",
    "plt.show() # shows plot"
   ]
  },
  {
   "cell_type": "markdown",
   "metadata": {},
   "source": [
    "We can see from this visualization that or data is positively skewed and unimodal.\n",
    "\n",
    "<br>\n",
    "It would be useful to get a numerical understanding of our skew and find out our kurtosis"
   ]
  },
  {
   "cell_type": "code",
   "execution_count": 471,
   "metadata": {},
   "outputs": [
    {
     "name": "stdout",
     "output_type": "stream",
     "text": [
      "Skewness: nan\n",
      "Kurtosis: nan\n"
     ]
    }
   ],
   "source": [
    "print(\"Skewness: %f\" % df['MPG'].skew()) # prints skew\n",
    "print(\"Kurtosis: %f\" % df['MPG'].kurt()) # prints kurtosis"
   ]
  },
  {
   "cell_type": "markdown",
   "metadata": {},
   "source": [
    "We have a slight positive skew meaning that our data tends to fall slightly above the median. The negative kurtosis indicates that we have few or no extreme outliers.\n",
    "\n"
   ]
  },
  {
   "cell_type": "code",
   "execution_count": 472,
   "metadata": {},
   "outputs": [
    {
     "name": "stdout",
     "output_type": "stream",
     "text": [
      "[]\n"
     ]
    }
   ],
   "source": [
    "x=df['Model Year'] # initialize independent variable \n",
    "\n",
    "print(x.unique()) # check unique values "
   ]
  },
  {
   "attachments": {},
   "cell_type": "markdown",
   "metadata": {},
   "source": [
    "Since we have a relatively small dataset..."
   ]
  },
  {
   "cell_type": "code",
   "execution_count": 473,
   "metadata": {},
   "outputs": [
    {
     "data": {
      "image/png": "[encoded data removed]",
      "text/plain": [
       "<Figure size 800x600 with 1 Axes>"
      ]
     },
     "metadata": {},
     "output_type": "display_data"
    }
   ],
   "source": [
    "fig = plt.figure(1,figsize=(8,6))\n",
    "\n",
    "scatter = plt.scatter([],[],c='lightblue',alpha=.8) # empty scatter plot\n",
    "\n",
    "#plt.xticks([]) #Removes number labels\n",
    "#plt.yticks([])\n",
    "\n",
    "plt.gca().spines['top'].set_visible(False) # Removes spines (the top and right border of our graph)\n",
    "plt.gca().spines['right'].set_visible(False)\n",
    "\n",
    "plt.xlim(68,84) # Scales our graph\n",
    "plt.ylim(5,50)\n",
    "\n",
    "plt.xlabel('Model Year',fontsize=14) # Gives our axes a label\n",
    "plt.ylabel('MPG',fontsize=14)\n",
    "\n",
    "plt.title('MPG vs Model Year',fontsize=16) # Gives our plot a title\n",
    "\n",
    "writer = PillowWriter(fps=2) # Creates our animation object with a slow speed of 2 fps\n",
    "\n",
    "x_list = [] # define empty x list\n",
    "y_list = [] # define empty y list\n",
    "\n",
    "x_set = sorted(set(x)) # find all unique values\n",
    "\"\"\"\"\n",
    "with writer.saving(fig,'Model_Year_vs_MPG.gif',100): # creates gif file\n",
    "    for year in x_set: # for every unique year (ordered)\n",
    "\n",
    "        y_values = df.loc[df['Model Year'] == year, 'MPG'].tolist() # get all the y values corresponding to that year (x)\n",
    "\n",
    "        x_list.extend([year]*len(y_values)) # add the year (x) to the list for every y value associated with it\n",
    "        y_list.extend(y_values) # add y values to list\n",
    "\n",
    "        scatter.set_offsets(np.column_stack((x_list,y_list))) # creates scatterplot with those lists\n",
    "\n",
    "        writer.grab_frame() # adds this frame to the gif \n",
    "\n",
    "\"\"\"\n",
    "plt.annotate('Peak MPG/Outlier', xy=(80, 46.6), xytext=(74, 46), fontsize=12,arrowprops=dict(facecolor='black',shrink=.1)) # adds the Peak MPG arrow\n",
    "\n",
    "# plt.savefig('mpgvsyear.jpg',dpi=300) turns plot into jpg\n",
    "\n",
    "plt.show() # displays graph"
   ]
  },
  {
   "cell_type": "markdown",
   "metadata": {},
   "source": [
    "We can see in the graph there seems to be a slight positive trend, with no obvious outliers. We will now investigate this further since a visualization can only give us a rough idea of what is going on "
   ]
  },
  {
   "cell_type": "code",
   "execution_count": 474,
   "metadata": {},
   "outputs": [
    {
     "name": "stdout",
     "output_type": "stream",
     "text": [
      "The correlation coefficient is nan\n"
     ]
    }
   ],
   "source": [
    "r = x.corr(y,method='pearson') # calculates our correlation using pearson correlation\n",
    "\n",
    "print(f\"The correlation coefficient is {r}\") # prints correlation coefficient"
   ]
  },
  {
   "cell_type": "code",
   "execution_count": 475,
   "metadata": {},
   "outputs": [
    {
     "name": "stdout",
     "output_type": "stream",
     "text": [
      "The outliers are []\n"
     ]
    }
   ],
   "source": [
    "Q1 = y.quantile(0.25) # Calculate our quartiles\n",
    "Q3 = y.quantile(0.75)\n",
    "\n",
    "IQR = Q3 - Q1 # Get our IQR\n",
    "\n",
    "upper = Q3 + (1.5 * IQR) # Find our lower and upper outlier bounds\n",
    "lower = Q1 - (1.5 * IQR)\n",
    "\n",
    "outliers = df['MPG'][(y < lower) | (y > upper)].values # search for outliers\n",
    "\n",
    "print(f\"The outliers are {outliers}\") # prints outliers"
   ]
  },
  {
   "cell_type": "markdown",
   "metadata": {},
   "source": [
    "Our correlation analysis would also indicate that we have a slight positive correlation. We also checked for outliers which resulted in one small outliers which shouldn't affect our analysis. \n",
    "\n",
    "\n",
    "\n",
    "<br>\n",
    "We are now going to implement a Simple Linear Regression because we are predicting a relationship between two variables, therefore being the most appropriate. This will give us further insight to the relation between our variables and help us identify any issues with our data."
   ]
  },
  {
   "cell_type": "code",
   "execution_count": 476,
   "metadata": {},
   "outputs": [
    {
     "ename": "ValueError",
     "evalue": "Found array with 0 sample(s) (shape=(0,)) while a minimum of 1 is required by the scale function.",
     "output_type": "error",
     "traceback": [
      "\u001b[0;31m---------------------------------------------------------------------------\u001b[0m",
      "\u001b[0;31mValueError\u001b[0m                                Traceback (most recent call last)",
      "Cell \u001b[0;32mIn[476], line 4\u001b[0m\n\u001b[1;32m      1\u001b[0m x_arr \u001b[39m=\u001b[39m np\u001b[39m.\u001b[39marray(x) \u001b[39m# create numpy arrays for x and y\u001b[39;00m\n\u001b[1;32m      2\u001b[0m y_arr \u001b[39m=\u001b[39m np\u001b[39m.\u001b[39marray(y)\n\u001b[0;32m----> 4\u001b[0m x_arr \u001b[39m=\u001b[39m preprocessing\u001b[39m.\u001b[39;49mscale(x_arr) \u001b[39m# standardize x array\u001b[39;00m\n\u001b[1;32m      6\u001b[0m X_train, X_test, y_train, y_test \u001b[39m=\u001b[39m train_test_split(x_arr,y_arr,test_size\u001b[39m=\u001b[39m\u001b[39m.3\u001b[39m) \u001b[39m# get training sample\u001b[39;00m\n\u001b[1;32m      8\u001b[0m lm \u001b[39m=\u001b[39m LinearRegression() \u001b[39m# creating object \u001b[39;00m\n",
      "File \u001b[0;32m~/Library/Python/3.8/lib/python/site-packages/sklearn/preprocessing/_data.py:199\u001b[0m, in \u001b[0;36mscale\u001b[0;34m(X, axis, with_mean, with_std, copy)\u001b[0m\n\u001b[1;32m    123\u001b[0m \u001b[39mdef\u001b[39;00m \u001b[39mscale\u001b[39m(X, \u001b[39m*\u001b[39m, axis\u001b[39m=\u001b[39m\u001b[39m0\u001b[39m, with_mean\u001b[39m=\u001b[39m\u001b[39mTrue\u001b[39;00m, with_std\u001b[39m=\u001b[39m\u001b[39mTrue\u001b[39;00m, copy\u001b[39m=\u001b[39m\u001b[39mTrue\u001b[39;00m):\n\u001b[1;32m    124\u001b[0m \u001b[39m    \u001b[39m\u001b[39m\"\"\"Standardize a dataset along any axis.\u001b[39;00m\n\u001b[1;32m    125\u001b[0m \n\u001b[1;32m    126\u001b[0m \u001b[39m    Center to the mean and component wise scale to unit variance.\u001b[39;00m\n\u001b[0;32m   (...)\u001b[0m\n\u001b[1;32m    197\u001b[0m \u001b[39m        leaking: `pipe = make_pipeline(StandardScaler(), LogisticRegression())`.\u001b[39;00m\n\u001b[1;32m    198\u001b[0m \u001b[39m    \"\"\"\u001b[39;00m  \u001b[39m# noqa\u001b[39;00m\n\u001b[0;32m--> 199\u001b[0m     X \u001b[39m=\u001b[39m check_array(\n\u001b[1;32m    200\u001b[0m         X,\n\u001b[1;32m    201\u001b[0m         accept_sparse\u001b[39m=\u001b[39;49m\u001b[39m\"\u001b[39;49m\u001b[39mcsc\u001b[39;49m\u001b[39m\"\u001b[39;49m,\n\u001b[1;32m    202\u001b[0m         copy\u001b[39m=\u001b[39;49mcopy,\n\u001b[1;32m    203\u001b[0m         ensure_2d\u001b[39m=\u001b[39;49m\u001b[39mFalse\u001b[39;49;00m,\n\u001b[1;32m    204\u001b[0m         estimator\u001b[39m=\u001b[39;49m\u001b[39m\"\u001b[39;49m\u001b[39mthe scale function\u001b[39;49m\u001b[39m\"\u001b[39;49m,\n\u001b[1;32m    205\u001b[0m         dtype\u001b[39m=\u001b[39;49mFLOAT_DTYPES,\n\u001b[1;32m    206\u001b[0m         force_all_finite\u001b[39m=\u001b[39;49m\u001b[39m\"\u001b[39;49m\u001b[39mallow-nan\u001b[39;49m\u001b[39m\"\u001b[39;49m,\n\u001b[1;32m    207\u001b[0m     )\n\u001b[1;32m    208\u001b[0m     \u001b[39mif\u001b[39;00m sparse\u001b[39m.\u001b[39missparse(X):\n\u001b[1;32m    209\u001b[0m         \u001b[39mif\u001b[39;00m with_mean:\n",
      "File \u001b[0;32m~/Library/Python/3.8/lib/python/site-packages/sklearn/utils/validation.py:931\u001b[0m, in \u001b[0;36mcheck_array\u001b[0;34m(array, accept_sparse, accept_large_sparse, dtype, order, copy, force_all_finite, ensure_2d, allow_nd, ensure_min_samples, ensure_min_features, estimator, input_name)\u001b[0m\n\u001b[1;32m    929\u001b[0m     n_samples \u001b[39m=\u001b[39m _num_samples(array)\n\u001b[1;32m    930\u001b[0m     \u001b[39mif\u001b[39;00m n_samples \u001b[39m<\u001b[39m ensure_min_samples:\n\u001b[0;32m--> 931\u001b[0m         \u001b[39mraise\u001b[39;00m \u001b[39mValueError\u001b[39;00m(\n\u001b[1;32m    932\u001b[0m             \u001b[39m\"\u001b[39m\u001b[39mFound array with \u001b[39m\u001b[39m%d\u001b[39;00m\u001b[39m sample(s) (shape=\u001b[39m\u001b[39m%s\u001b[39;00m\u001b[39m) while a\u001b[39m\u001b[39m\"\u001b[39m\n\u001b[1;32m    933\u001b[0m             \u001b[39m\"\u001b[39m\u001b[39m minimum of \u001b[39m\u001b[39m%d\u001b[39;00m\u001b[39m is required\u001b[39m\u001b[39m%s\u001b[39;00m\u001b[39m.\u001b[39m\u001b[39m\"\u001b[39m\n\u001b[1;32m    934\u001b[0m             \u001b[39m%\u001b[39m (n_samples, array\u001b[39m.\u001b[39mshape, ensure_min_samples, context)\n\u001b[1;32m    935\u001b[0m         )\n\u001b[1;32m    937\u001b[0m \u001b[39mif\u001b[39;00m ensure_min_features \u001b[39m>\u001b[39m \u001b[39m0\u001b[39m \u001b[39mand\u001b[39;00m array\u001b[39m.\u001b[39mndim \u001b[39m==\u001b[39m \u001b[39m2\u001b[39m:\n\u001b[1;32m    938\u001b[0m     n_features \u001b[39m=\u001b[39m array\u001b[39m.\u001b[39mshape[\u001b[39m1\u001b[39m]\n",
      "\u001b[0;31mValueError\u001b[0m: Found array with 0 sample(s) (shape=(0,)) while a minimum of 1 is required by the scale function."
     ]
    }
   ],
   "source": [
    "x_arr = np.array(x) # create numpy arrays for x and y\n",
    "y_arr = np.array(y)\n",
    "\n",
    "x_arr = preprocessing.scale(x_arr) # standardize x array\n",
    "\n",
    "X_train, X_test, y_train, y_test = train_test_split(x_arr,y_arr,test_size=.3) # get training sample\n",
    "\n",
    "lm = LinearRegression() # creating object \n",
    "\n",
    "lm.fit(X_train.reshape(-1,1),y_train) # fit our data\n",
    "\n",
    "simpleAcc = lm.score(X_test.reshape(-1,1),y_test) # calculate accuracy"
   ]
  },
  {
   "cell_type": "markdown",
   "metadata": {},
   "source": [
    "We now are using our graph from before and adding a linear regression line using our predicted y values. This provides a great medium for us to see our predicted values."
   ]
  },
  {
   "cell_type": "code",
   "execution_count": null,
   "metadata": {},
   "outputs": [
    {
     "data": {
      "image/png": "[encoded data removed]",
      "text/plain": [
       "<Figure size 640x480 with 1 Axes>"
      ]
     },
     "metadata": {},
     "output_type": "display_data"
    }
   ],
   "source": [
    "\n",
    "scatter = plt.scatter([],[],c='lightblue',alpha=.8,label='Data Points') # initialize empty scatter plot\n",
    "\n",
    "linReg, = plt.plot([],[],c='coral',label='Linear Regression',linestyle='--') # intitialize empty line plot\n",
    "\n",
    "fig = plt.figure(1,figsize=(8,6)) #changes the physical size of the plot\n",
    "\n",
    "plt.xticks([]) #Removes number labels\n",
    "plt.yticks([])\n",
    "\n",
    "plt.gca().spines['top'].set_visible(False) # Removes spines\n",
    "plt.gca().spines['right'].set_visible(False)\n",
    "\n",
    "plt.xlim(68,84) # Scales our graph\n",
    "plt.ylim(5,50)\n",
    "\n",
    "plt.xlabel('Model Year',fontsize=14) # Gives our axes a label\n",
    "plt.ylabel('MPG',fontsize=14)\n",
    "\n",
    "plt.title('MPG vs Model Year w/ Linear Regression Line',fontsize=16) # gives a plot title\n",
    "\n",
    "plt.legend() # adds legend\n",
    "\n",
    "writer = PillowWriter(fps=200) # initalize pillow writer object\n",
    "\n",
    "x_list = [] # create our empty lists\n",
    "y_list = []\n",
    "\"\"\"\"\"\n",
    "with writer.saving(fig,'Model_Year_vs_MPG_LinReg.gif',100): # start our gif\n",
    "    for i in range(len(x)):  # for all of our data points\n",
    "\n",
    "        x_list.append(x[i]) # add our next data to lists\n",
    "        y_list.append(y[i])\n",
    "\n",
    "        x_arr = np.array(x_list) # turns lists into numpy arrays\n",
    "        y_arr = np.array(y_list)\n",
    "\n",
    "        x_arr = preprocessing.scale(x_arr)\n",
    "\n",
    "        if i > 1:\n",
    "            X_train, X_test, y_train, y_test = train_test_split(x_arr,y_arr,test_size=.3) # get our training sample\n",
    "\n",
    "            lm.fit(X_train.reshape(-1,1),y_train) # fit our sample\n",
    "        else:\n",
    "            X_train = 0\n",
    "\n",
    "        predict_y = lm.predict(x_arr.reshape(-1,1)) # get prediction\n",
    "\n",
    "        scatter.set_offsets(np.column_stack((x_list,y_list))) # add points to scatter plot\n",
    "        linReg.set_data(x_list,predict_y) # add points to linear regression line\n",
    "\n",
    "        writer.grab_frame() # capture the frame\n",
    "\n",
    "    for i in range(1000): # adds pause at the end\n",
    "        writer.grab_frame()\n",
    "\"\"\"\n",
    "\n",
    "# plt.savefig('simpleReg.jpg',dpi=300) turns plot into jpg\n",
    "\n",
    "plt.show() # shows plot"
   ]
  },
  {
   "cell_type": "markdown",
   "metadata": {},
   "source": [
    "This graph provides a great visual for seeing our predicted values versus our actual values. However there is obviously a lot of variability in this graph. It would be beneficial to use a more robust regression analysis.\n",
    "\n",
    "\n",
    "\n",
    "\n",
    "<br>\n",
    "Considering all of this variability with our Simple Linear Regression, we should find a model that fits our data better. A good fit would be a Multiple Linear Regression as it is just a slight step up. \n",
    "<br>\n",
    "\n",
    "For this model we want to add a feature, however this feature needs to follow two conditions:<br>\n",
    "    &emsp; 1. It should have a strong correlation with MPG<br>\n",
    "    &emsp; 2. It shouldn't be linearly correlated with Model Year \n"
   ]
  },
  {
   "cell_type": "code",
   "execution_count": null,
   "metadata": {},
   "outputs": [
    {
     "name": "stderr",
     "output_type": "stream",
     "text": [
      "/Users/adenletchworth/Library/Python/3.8/lib/python/site-packages/seaborn/matrix.py:202: RuntimeWarning: All-NaN slice encountered\n",
      "  vmin = np.nanmin(calc_data)\n",
      "/Users/adenletchworth/Library/Python/3.8/lib/python/site-packages/seaborn/matrix.py:207: RuntimeWarning: All-NaN slice encountered\n",
      "  vmax = np.nanmax(calc_data)\n"
     ]
    },
    {
     "data": {
      "image/png": "[encoded data removed]",
      "text/plain": [
       "<Figure size 1000x800 with 2 Axes>"
      ]
     },
     "metadata": {},
     "output_type": "display_data"
    }
   ],
   "source": [
    "numerical_data = df.drop('Name',axis=1) # get our numerical data by dropping name\n",
    "\n",
    "r_matrix = numerical_data.corr() # get correlation matrix\n",
    "\n",
    "plt.figure(figsize=(10,8))\n",
    "\n",
    "sns.heatmap(r_matrix,annot=True,cmap='coolwarm') # make heatmap for our correlation matrix\n",
    "\n",
    "plt.xticks(rotation=30)\n",
    "\n",
    "# plt.savefig('corrmatrix.jpg',dpi=300) saves plot as jpg\n",
    "\n",
    "plt.show() # show plot\n"
   ]
  },
  {
   "cell_type": "markdown",
   "metadata": {},
   "source": [
    "From this heatmap we can see which variables are strongly correlated with MPG. We can see that {Cylinders, Displacement, Horsepower and Weight} are potential candidates.\n",
    "\n",
    "\n",
    "<br>\n",
    "Since they satisfy (1.), We know need to check if they satisfy (2.). We can do this by checking for multicollinearity, which is evaluted using a metric called VIF. We are looking at the lowest values as they indicate less multicollinearity. The VIF can be analyzed as 1 : not correlated, 1-5 : moderately correlated and 5+ : highly correlated. Ideally we will find a value close to 1."
   ]
  },
  {
   "cell_type": "code",
   "execution_count": null,
   "metadata": {},
   "outputs": [
    {
     "ename": "ValueError",
     "evalue": "zero-size array to reduction operation maximum which has no identity",
     "output_type": "error",
     "traceback": [
      "\u001b[0;31m---------------------------------------------------------------------------\u001b[0m",
      "\u001b[0;31mValueError\u001b[0m                                Traceback (most recent call last)",
      "Cell \u001b[0;32mIn[314], line 6\u001b[0m\n\u001b[1;32m      3\u001b[0m vif_data \u001b[39m=\u001b[39m {} \u001b[39m# get empty list\u001b[39;00m\n\u001b[1;32m      5\u001b[0m \u001b[39mfor\u001b[39;00m X_vars \u001b[39min\u001b[39;00m X_var: \u001b[39m# for each of the correlated variables\u001b[39;00m\n\u001b[0;32m----> 6\u001b[0m     value \u001b[39m=\u001b[39m [variance_inflation_factor(X_vars\u001b[39m.\u001b[39mvalues, i) \u001b[39mfor\u001b[39;00m i \u001b[39min\u001b[39;00m \u001b[39mrange\u001b[39m(\u001b[39mlen\u001b[39m(X_vars\u001b[39m.\u001b[39mcolumns))]\n\u001b[1;32m      7\u001b[0m     vif_data[\u001b[39mtuple\u001b[39m(X_vars\u001b[39m.\u001b[39mcolumns)] \u001b[39m=\u001b[39m value \u001b[39m# add the name of the variables\u001b[39;00m\n\u001b[1;32m     10\u001b[0m vif_data\u001b[39m=\u001b[39mpd\u001b[39m.\u001b[39mDataFrame(vif_data) \u001b[39m# turn into Data Frame\u001b[39;00m\n",
      "Cell \u001b[0;32mIn[314], line 6\u001b[0m, in \u001b[0;36m<listcomp>\u001b[0;34m(.0)\u001b[0m\n\u001b[1;32m      3\u001b[0m vif_data \u001b[39m=\u001b[39m {} \u001b[39m# get empty list\u001b[39;00m\n\u001b[1;32m      5\u001b[0m \u001b[39mfor\u001b[39;00m X_vars \u001b[39min\u001b[39;00m X_var: \u001b[39m# for each of the correlated variables\u001b[39;00m\n\u001b[0;32m----> 6\u001b[0m     value \u001b[39m=\u001b[39m [variance_inflation_factor(X_vars\u001b[39m.\u001b[39;49mvalues, i) \u001b[39mfor\u001b[39;00m i \u001b[39min\u001b[39;00m \u001b[39mrange\u001b[39m(\u001b[39mlen\u001b[39m(X_vars\u001b[39m.\u001b[39mcolumns))]\n\u001b[1;32m      7\u001b[0m     vif_data[\u001b[39mtuple\u001b[39m(X_vars\u001b[39m.\u001b[39mcolumns)] \u001b[39m=\u001b[39m value \u001b[39m# add the name of the variables\u001b[39;00m\n\u001b[1;32m     10\u001b[0m vif_data\u001b[39m=\u001b[39mpd\u001b[39m.\u001b[39mDataFrame(vif_data) \u001b[39m# turn into Data Frame\u001b[39;00m\n",
      "File \u001b[0;32m~/Library/Python/3.8/lib/python/site-packages/statsmodels/stats/outliers_influence.py:194\u001b[0m, in \u001b[0;36mvariance_inflation_factor\u001b[0;34m(exog, exog_idx)\u001b[0m\n\u001b[1;32m    192\u001b[0m mask \u001b[39m=\u001b[39m np\u001b[39m.\u001b[39marange(k_vars) \u001b[39m!=\u001b[39m exog_idx\n\u001b[1;32m    193\u001b[0m x_noti \u001b[39m=\u001b[39m exog[:, mask]\n\u001b[0;32m--> 194\u001b[0m r_squared_i \u001b[39m=\u001b[39m OLS(x_i, x_noti)\u001b[39m.\u001b[39mfit()\u001b[39m.\u001b[39mrsquared\n\u001b[1;32m    195\u001b[0m vif \u001b[39m=\u001b[39m \u001b[39m1.\u001b[39m \u001b[39m/\u001b[39m (\u001b[39m1.\u001b[39m \u001b[39m-\u001b[39m r_squared_i)\n\u001b[1;32m    196\u001b[0m \u001b[39mreturn\u001b[39;00m vif\n",
      "File \u001b[0;32m~/Library/Python/3.8/lib/python/site-packages/statsmodels/regression/linear_model.py:906\u001b[0m, in \u001b[0;36mOLS.__init__\u001b[0;34m(self, endog, exog, missing, hasconst, **kwargs)\u001b[0m\n\u001b[1;32m    903\u001b[0m     msg \u001b[39m=\u001b[39m (\u001b[39m\"\u001b[39m\u001b[39mWeights are not supported in OLS and will be ignored\u001b[39m\u001b[39m\"\u001b[39m\n\u001b[1;32m    904\u001b[0m            \u001b[39m\"\u001b[39m\u001b[39mAn exception will be raised in the next version.\u001b[39m\u001b[39m\"\u001b[39m)\n\u001b[1;32m    905\u001b[0m     warnings\u001b[39m.\u001b[39mwarn(msg, ValueWarning)\n\u001b[0;32m--> 906\u001b[0m \u001b[39msuper\u001b[39;49m(OLS, \u001b[39mself\u001b[39;49m)\u001b[39m.\u001b[39;49m\u001b[39m__init__\u001b[39;49m(endog, exog, missing\u001b[39m=\u001b[39;49mmissing,\n\u001b[1;32m    907\u001b[0m                           hasconst\u001b[39m=\u001b[39;49mhasconst, \u001b[39m*\u001b[39;49m\u001b[39m*\u001b[39;49mkwargs)\n\u001b[1;32m    908\u001b[0m \u001b[39mif\u001b[39;00m \u001b[39m\"\u001b[39m\u001b[39mweights\u001b[39m\u001b[39m\"\u001b[39m \u001b[39min\u001b[39;00m \u001b[39mself\u001b[39m\u001b[39m.\u001b[39m_init_keys:\n\u001b[1;32m    909\u001b[0m     \u001b[39mself\u001b[39m\u001b[39m.\u001b[39m_init_keys\u001b[39m.\u001b[39mremove(\u001b[39m\"\u001b[39m\u001b[39mweights\u001b[39m\u001b[39m\"\u001b[39m)\n",
      "File \u001b[0;32m~/Library/Python/3.8/lib/python/site-packages/statsmodels/regression/linear_model.py:733\u001b[0m, in \u001b[0;36mWLS.__init__\u001b[0;34m(self, endog, exog, weights, missing, hasconst, **kwargs)\u001b[0m\n\u001b[1;32m    731\u001b[0m \u001b[39melse\u001b[39;00m:\n\u001b[1;32m    732\u001b[0m     weights \u001b[39m=\u001b[39m weights\u001b[39m.\u001b[39msqueeze()\n\u001b[0;32m--> 733\u001b[0m \u001b[39msuper\u001b[39;49m(WLS, \u001b[39mself\u001b[39;49m)\u001b[39m.\u001b[39;49m\u001b[39m__init__\u001b[39;49m(endog, exog, missing\u001b[39m=\u001b[39;49mmissing,\n\u001b[1;32m    734\u001b[0m                           weights\u001b[39m=\u001b[39;49mweights, hasconst\u001b[39m=\u001b[39;49mhasconst, \u001b[39m*\u001b[39;49m\u001b[39m*\u001b[39;49mkwargs)\n\u001b[1;32m    735\u001b[0m nobs \u001b[39m=\u001b[39m \u001b[39mself\u001b[39m\u001b[39m.\u001b[39mexog\u001b[39m.\u001b[39mshape[\u001b[39m0\u001b[39m]\n\u001b[1;32m    736\u001b[0m weights \u001b[39m=\u001b[39m \u001b[39mself\u001b[39m\u001b[39m.\u001b[39mweights\n",
      "File \u001b[0;32m~/Library/Python/3.8/lib/python/site-packages/statsmodels/regression/linear_model.py:190\u001b[0m, in \u001b[0;36mRegressionModel.__init__\u001b[0;34m(self, endog, exog, **kwargs)\u001b[0m\n\u001b[1;32m    189\u001b[0m \u001b[39mdef\u001b[39;00m \u001b[39m__init__\u001b[39m(\u001b[39mself\u001b[39m, endog, exog, \u001b[39m*\u001b[39m\u001b[39m*\u001b[39mkwargs):\n\u001b[0;32m--> 190\u001b[0m     \u001b[39msuper\u001b[39;49m(RegressionModel, \u001b[39mself\u001b[39;49m)\u001b[39m.\u001b[39;49m\u001b[39m__init__\u001b[39;49m(endog, exog, \u001b[39m*\u001b[39;49m\u001b[39m*\u001b[39;49mkwargs)\n\u001b[1;32m    191\u001b[0m     \u001b[39mself\u001b[39m\u001b[39m.\u001b[39m_data_attr\u001b[39m.\u001b[39mextend([\u001b[39m'\u001b[39m\u001b[39mpinv_wexog\u001b[39m\u001b[39m'\u001b[39m, \u001b[39m'\u001b[39m\u001b[39mwendog\u001b[39m\u001b[39m'\u001b[39m, \u001b[39m'\u001b[39m\u001b[39mwexog\u001b[39m\u001b[39m'\u001b[39m, \u001b[39m'\u001b[39m\u001b[39mweights\u001b[39m\u001b[39m'\u001b[39m])\n",
      "File \u001b[0;32m~/Library/Python/3.8/lib/python/site-packages/statsmodels/base/model.py:267\u001b[0m, in \u001b[0;36mLikelihoodModel.__init__\u001b[0;34m(self, endog, exog, **kwargs)\u001b[0m\n\u001b[1;32m    266\u001b[0m \u001b[39mdef\u001b[39;00m \u001b[39m__init__\u001b[39m(\u001b[39mself\u001b[39m, endog, exog\u001b[39m=\u001b[39m\u001b[39mNone\u001b[39;00m, \u001b[39m*\u001b[39m\u001b[39m*\u001b[39mkwargs):\n\u001b[0;32m--> 267\u001b[0m     \u001b[39msuper\u001b[39;49m()\u001b[39m.\u001b[39;49m\u001b[39m__init__\u001b[39;49m(endog, exog, \u001b[39m*\u001b[39;49m\u001b[39m*\u001b[39;49mkwargs)\n\u001b[1;32m    268\u001b[0m     \u001b[39mself\u001b[39m\u001b[39m.\u001b[39minitialize()\n",
      "File \u001b[0;32m~/Library/Python/3.8/lib/python/site-packages/statsmodels/base/model.py:92\u001b[0m, in \u001b[0;36mModel.__init__\u001b[0;34m(self, endog, exog, **kwargs)\u001b[0m\n\u001b[1;32m     90\u001b[0m missing \u001b[39m=\u001b[39m kwargs\u001b[39m.\u001b[39mpop(\u001b[39m'\u001b[39m\u001b[39mmissing\u001b[39m\u001b[39m'\u001b[39m, \u001b[39m'\u001b[39m\u001b[39mnone\u001b[39m\u001b[39m'\u001b[39m)\n\u001b[1;32m     91\u001b[0m hasconst \u001b[39m=\u001b[39m kwargs\u001b[39m.\u001b[39mpop(\u001b[39m'\u001b[39m\u001b[39mhasconst\u001b[39m\u001b[39m'\u001b[39m, \u001b[39mNone\u001b[39;00m)\n\u001b[0;32m---> 92\u001b[0m \u001b[39mself\u001b[39m\u001b[39m.\u001b[39mdata \u001b[39m=\u001b[39m \u001b[39mself\u001b[39;49m\u001b[39m.\u001b[39;49m_handle_data(endog, exog, missing, hasconst,\n\u001b[1;32m     93\u001b[0m                               \u001b[39m*\u001b[39;49m\u001b[39m*\u001b[39;49mkwargs)\n\u001b[1;32m     94\u001b[0m \u001b[39mself\u001b[39m\u001b[39m.\u001b[39mk_constant \u001b[39m=\u001b[39m \u001b[39mself\u001b[39m\u001b[39m.\u001b[39mdata\u001b[39m.\u001b[39mk_constant\n\u001b[1;32m     95\u001b[0m \u001b[39mself\u001b[39m\u001b[39m.\u001b[39mexog \u001b[39m=\u001b[39m \u001b[39mself\u001b[39m\u001b[39m.\u001b[39mdata\u001b[39m.\u001b[39mexog\n",
      "File \u001b[0;32m~/Library/Python/3.8/lib/python/site-packages/statsmodels/base/model.py:132\u001b[0m, in \u001b[0;36mModel._handle_data\u001b[0;34m(self, endog, exog, missing, hasconst, **kwargs)\u001b[0m\n\u001b[1;32m    131\u001b[0m \u001b[39mdef\u001b[39;00m \u001b[39m_handle_data\u001b[39m(\u001b[39mself\u001b[39m, endog, exog, missing, hasconst, \u001b[39m*\u001b[39m\u001b[39m*\u001b[39mkwargs):\n\u001b[0;32m--> 132\u001b[0m     data \u001b[39m=\u001b[39m handle_data(endog, exog, missing, hasconst, \u001b[39m*\u001b[39;49m\u001b[39m*\u001b[39;49mkwargs)\n\u001b[1;32m    133\u001b[0m     \u001b[39m# kwargs arrays could have changed, easier to just attach here\u001b[39;00m\n\u001b[1;32m    134\u001b[0m     \u001b[39mfor\u001b[39;00m key \u001b[39min\u001b[39;00m kwargs:\n",
      "File \u001b[0;32m~/Library/Python/3.8/lib/python/site-packages/statsmodels/base/data.py:700\u001b[0m, in \u001b[0;36mhandle_data\u001b[0;34m(endog, exog, missing, hasconst, **kwargs)\u001b[0m\n\u001b[1;32m    697\u001b[0m     exog \u001b[39m=\u001b[39m np\u001b[39m.\u001b[39masarray(exog)\n\u001b[1;32m    699\u001b[0m klass \u001b[39m=\u001b[39m handle_data_class_factory(endog, exog)\n\u001b[0;32m--> 700\u001b[0m \u001b[39mreturn\u001b[39;00m klass(endog, exog\u001b[39m=\u001b[39;49mexog, missing\u001b[39m=\u001b[39;49mmissing, hasconst\u001b[39m=\u001b[39;49mhasconst,\n\u001b[1;32m    701\u001b[0m              \u001b[39m*\u001b[39;49m\u001b[39m*\u001b[39;49mkwargs)\n",
      "File \u001b[0;32m~/Library/Python/3.8/lib/python/site-packages/statsmodels/base/data.py:88\u001b[0m, in \u001b[0;36mModelData.__init__\u001b[0;34m(self, endog, exog, missing, hasconst, **kwargs)\u001b[0m\n\u001b[1;32m     86\u001b[0m \u001b[39mself\u001b[39m\u001b[39m.\u001b[39mconst_idx \u001b[39m=\u001b[39m \u001b[39mNone\u001b[39;00m\n\u001b[1;32m     87\u001b[0m \u001b[39mself\u001b[39m\u001b[39m.\u001b[39mk_constant \u001b[39m=\u001b[39m \u001b[39m0\u001b[39m\n\u001b[0;32m---> 88\u001b[0m \u001b[39mself\u001b[39;49m\u001b[39m.\u001b[39;49m_handle_constant(hasconst)\n\u001b[1;32m     89\u001b[0m \u001b[39mself\u001b[39m\u001b[39m.\u001b[39m_check_integrity()\n\u001b[1;32m     90\u001b[0m \u001b[39mself\u001b[39m\u001b[39m.\u001b[39m_cache \u001b[39m=\u001b[39m {}\n",
      "File \u001b[0;32m~/Library/Python/3.8/lib/python/site-packages/statsmodels/base/data.py:132\u001b[0m, in \u001b[0;36mModelData._handle_constant\u001b[0;34m(self, hasconst)\u001b[0m\n\u001b[1;32m    129\u001b[0m \u001b[39melse\u001b[39;00m:\n\u001b[1;32m    130\u001b[0m     \u001b[39m# detect where the constant is\u001b[39;00m\n\u001b[1;32m    131\u001b[0m     check_implicit \u001b[39m=\u001b[39m \u001b[39mFalse\u001b[39;00m\n\u001b[0;32m--> 132\u001b[0m     exog_max \u001b[39m=\u001b[39m np\u001b[39m.\u001b[39;49mmax(\u001b[39mself\u001b[39;49m\u001b[39m.\u001b[39;49mexog, axis\u001b[39m=\u001b[39;49m\u001b[39m0\u001b[39;49m)\n\u001b[1;32m    133\u001b[0m     \u001b[39mif\u001b[39;00m \u001b[39mnot\u001b[39;00m np\u001b[39m.\u001b[39misfinite(exog_max)\u001b[39m.\u001b[39mall():\n\u001b[1;32m    134\u001b[0m         \u001b[39mraise\u001b[39;00m MissingDataError(\u001b[39m'\u001b[39m\u001b[39mexog contains inf or nans\u001b[39m\u001b[39m'\u001b[39m)\n",
      "File \u001b[0;32m<__array_function__ internals>:200\u001b[0m, in \u001b[0;36mamax\u001b[0;34m(*args, **kwargs)\u001b[0m\n",
      "File \u001b[0;32m~/Library/Python/3.8/lib/python/site-packages/numpy/core/fromnumeric.py:2820\u001b[0m, in \u001b[0;36mamax\u001b[0;34m(a, axis, out, keepdims, initial, where)\u001b[0m\n\u001b[1;32m   2703\u001b[0m \u001b[39m@array_function_dispatch\u001b[39m(_amax_dispatcher)\n\u001b[1;32m   2704\u001b[0m \u001b[39mdef\u001b[39;00m \u001b[39mamax\u001b[39m(a, axis\u001b[39m=\u001b[39m\u001b[39mNone\u001b[39;00m, out\u001b[39m=\u001b[39m\u001b[39mNone\u001b[39;00m, keepdims\u001b[39m=\u001b[39mnp\u001b[39m.\u001b[39m_NoValue, initial\u001b[39m=\u001b[39mnp\u001b[39m.\u001b[39m_NoValue,\n\u001b[1;32m   2705\u001b[0m          where\u001b[39m=\u001b[39mnp\u001b[39m.\u001b[39m_NoValue):\n\u001b[1;32m   2706\u001b[0m \u001b[39m    \u001b[39m\u001b[39m\"\"\"\u001b[39;00m\n\u001b[1;32m   2707\u001b[0m \u001b[39m    Return the maximum of an array or maximum along an axis.\u001b[39;00m\n\u001b[1;32m   2708\u001b[0m \n\u001b[0;32m   (...)\u001b[0m\n\u001b[1;32m   2818\u001b[0m \u001b[39m    5\u001b[39;00m\n\u001b[1;32m   2819\u001b[0m \u001b[39m    \"\"\"\u001b[39;00m\n\u001b[0;32m-> 2820\u001b[0m     \u001b[39mreturn\u001b[39;00m _wrapreduction(a, np\u001b[39m.\u001b[39;49mmaximum, \u001b[39m'\u001b[39;49m\u001b[39mmax\u001b[39;49m\u001b[39m'\u001b[39;49m, axis, \u001b[39mNone\u001b[39;49;00m, out,\n\u001b[1;32m   2821\u001b[0m                           keepdims\u001b[39m=\u001b[39;49mkeepdims, initial\u001b[39m=\u001b[39;49minitial, where\u001b[39m=\u001b[39;49mwhere)\n",
      "File \u001b[0;32m~/Library/Python/3.8/lib/python/site-packages/numpy/core/fromnumeric.py:86\u001b[0m, in \u001b[0;36m_wrapreduction\u001b[0;34m(obj, ufunc, method, axis, dtype, out, **kwargs)\u001b[0m\n\u001b[1;32m     83\u001b[0m         \u001b[39melse\u001b[39;00m:\n\u001b[1;32m     84\u001b[0m             \u001b[39mreturn\u001b[39;00m reduction(axis\u001b[39m=\u001b[39maxis, out\u001b[39m=\u001b[39mout, \u001b[39m*\u001b[39m\u001b[39m*\u001b[39mpasskwargs)\n\u001b[0;32m---> 86\u001b[0m \u001b[39mreturn\u001b[39;00m ufunc\u001b[39m.\u001b[39;49mreduce(obj, axis, dtype, out, \u001b[39m*\u001b[39;49m\u001b[39m*\u001b[39;49mpasskwargs)\n",
      "\u001b[0;31mValueError\u001b[0m: zero-size array to reduction operation maximum which has no identity"
     ]
    }
   ],
   "source": [
    "X_var = [df[['Model Year','Weight']],df[['Model Year','Cylinders']],df[['Model Year','Horsepower']],df[['Model Year','Displacement']]] # get all of our correlated variables\n",
    "\n",
    "vif_data = {} # get empty list\n",
    "\n",
    "for X_vars in X_var: # for each of the correlated variables\n",
    "    value = [variance_inflation_factor(X_vars.values, i) for i in range(len(X_vars.columns))]\n",
    "    vif_data[tuple(X_vars.columns)] = value # add the name of the variables\n",
    "\n",
    "\n",
    "vif_data=pd.DataFrame(vif_data) # turn into Data Frame\n",
    "vif_data = vif_data.drop(index=vif_data.index[1]) # drop duplicate\n",
    "\n",
    "vif_data # print table\n",
    "\n",
    "# vif_data.to_csv('vifTable.csv') get csv file to make tableau visualization"
   ]
  },
  {
   "cell_type": "markdown",
   "metadata": {},
   "source": [
    "From this table we can see that Displacement has the lowest VIF score which is our best candidate for a Multiple Linear Regression.\n",
    "\n",
    "\n",
    "<br>\n",
    "We already know that Displacement and MPG have a strong correlation from our Correlation Matrix Heatmap. However, it is still useful to visualize it so we can see any possible outliers and analzye our curve type."
   ]
  },
  {
   "cell_type": "code",
   "execution_count": null,
   "metadata": {},
   "outputs": [
    {
     "data": {
      "image/png": "[encoded data removed]",
      "text/plain": [
       "<Figure size 640x480 with 1 Axes>"
      ]
     },
     "metadata": {},
     "output_type": "display_data"
    }
   ],
   "source": [
    "displacement = df['Displacement'] # get displacement column\n",
    "\n",
    "plt.scatter(displacement,y,c='lightblue',alpha=.8)\n",
    "\n",
    "fig = plt.figure(1,figsize=(8,6)) #changes the physical size of the plot\n",
    "\n",
    "plt.xticks([]) #Removes number labels\n",
    "plt.yticks([])\n",
    "\n",
    "plt.gca().spines['top'].set_visible(False) # Removes spines\n",
    "plt.gca().spines['right'].set_visible(False)\n",
    "\n",
    "plt.xlabel('Displacement',fontsize=14) # Gives our axes a label\n",
    "plt.ylabel('MPG',fontsize=14)\n",
    "\n",
    "plt.title('MPG vs Displacement',fontsize=16) # Give our plot a title\n",
    "\n",
    "# plt.savefig('mpgvsdisp.jpg',dpi=300) turns plot into jpg\n",
    "\n",
    "plt.show() # show plot\n"
   ]
  },
  {
   "cell_type": "markdown",
   "metadata": {},
   "source": [
    "With this visualization we see that there seems to be a strong negative correlation, possibly exponential decay, between MPG and Weight. We can also see some possible outliers. We will repeat our previous analysis and check more concretely for outliers and understand our correlation."
   ]
  },
  {
   "cell_type": "code",
   "execution_count": null,
   "metadata": {},
   "outputs": [
    {
     "name": "stdout",
     "output_type": "stream",
     "text": [
      "The outliers are []\n"
     ]
    }
   ],
   "source": [
    "Q1 = displacement.quantile(0.25) # Calculate our quartiles\n",
    "Q3 = displacement.quantile(0.75)\n",
    "\n",
    "IQR = Q3 - Q1 # Get our IQR\n",
    "\n",
    "upper = Q3 + (1.5 * IQR) # Find our lower and upper outlier bounds\n",
    "lower = Q1 - (1.5 * IQR)\n",
    "\n",
    "outliers = df['Displacement'][(displacement < lower) | (displacement > upper)].values # search for outliers\n",
    "\n",
    "print(f\"The outliers are {outliers}\") # print outliers"
   ]
  },
  {
   "cell_type": "code",
   "execution_count": null,
   "metadata": {},
   "outputs": [],
   "source": [
    "multiple_x = df[['Model Year', 'Displacement']].values # creating an x intercept with Model Year and Weight\n",
    "\n",
    "x_arr = np.array(multiple_x) # create numpy arrays for x and y\n",
    "y_arr = np.array(y)\n",
    "\n",
    "x_arr = preprocessing.scale(x_arr)\n",
    "\n",
    "multiLM = LinearRegression() # Creating LinearRegression instance\n",
    "\n",
    "X_train, X_test, y_train, y_test = train_test_split(x_arr,y_arr,test_size=.3)\n",
    "\n",
    "multiLM.fit(X_test,y_test) # Fitting our x and y\n",
    "\n",
    "multiPred_y = multiLM.predict(x_arr) # getting our prediction array\n",
    "\n",
    "multiAcc = multiLM.score(X_train,y_train) # get our models accuracy"
   ]
  },
  {
   "cell_type": "code",
   "execution_count": null,
   "metadata": {},
   "outputs": [
    {
     "data": {
      "image/png": "[encoded data removed]",
      "text/plain": [
       "<Figure size 800x600 with 1 Axes>"
      ]
     },
     "metadata": {},
     "output_type": "display_data"
    }
   ],
   "source": [
    "\n",
    "fig = plt.figure(1,figsize=(8,6)) #changes the physical size of the plot\n",
    "\n",
    "plt.xticks([]) #Removes number labels\n",
    "plt.yticks([])\n",
    "\n",
    "plt.gca().spines['top'].set_visible(False) # Removes spines\n",
    "plt.gca().spines['right'].set_visible(False)\n",
    "\n",
    "plt.xlim(68,84) # Scales our graph\n",
    "plt.ylim(0,50)\n",
    "\n",
    "plt.xlabel('Model Year',fontsize=12) # Gives our axes a label\n",
    "plt.ylabel('MPG',fontsize=12)\n",
    "\n",
    "plt.title('MPG vs Model Year w/ Linear Regression',fontsize=14) # gives a plot title\n",
    "\n",
    "scatter = plt.scatter([], [], c='lightblue', alpha=.5, label='Original Data') # plot original data\n",
    "linReg = plt.scatter([],[],c='coral', alpha=1.0, label='Linear Regression',marker='*') # plot linear regression line\n",
    "\n",
    "x_list = x.tolist() # create list of Model Year\n",
    "y_list = y.tolist() # create list of MPG\n",
    "\n",
    "writer= PillowWriter(fps=500) # initialize pillow writer\n",
    "\n",
    "\"\"\"with writer.saving(fig,'Model_Year_vs_MPG_MultiLinReg.gif',100): # create gif\n",
    "    for i in x: # for every data\n",
    "        x_list.pop() # remove end element from our lists\n",
    "        y_list.pop()\n",
    "\n",
    "        scatter.set_offsets(np.column_stack((x_list,y_list))) # update plot\n",
    "        if(len(x_list) % 5 == 0): # grab every other 5 frames\n",
    "            writer.grab_frame()\n",
    "\n",
    "    for i in range(len(x)): # for every data\n",
    "        x_list.append(x[i]) # add first Model Year data\n",
    "        y_list.append(multiPred_y[i]) # add first predicted y\n",
    "        \n",
    "        linReg.set_offsets(np.column_stack((x_list,y_list))) # add to plot\n",
    "        if(i % 5 == 0): # grav every other 5 frames\n",
    "            writer.grab_frame()\n",
    "\n",
    "    for t in range(1000): # creates pause\n",
    "        scatter.set_offsets(np.column_stack((x,y))) # shows compelete graphs overlapped\n",
    "        linReg.set_offsets(np.column_stack((x_list,multiPred_y)))\n",
    "        writer.grab_frame() \n",
    "\"\"\"\n",
    "\n",
    "plt.legend() # add legend\n",
    "plt.grid() # add grid\n",
    "\n",
    "# plt.savefig('multiLinReg.jpg',dpi=300) turns plot into jpg\n",
    "\n",
    "plt.show() # shows plot"
   ]
  },
  {
   "cell_type": "markdown",
   "metadata": {},
   "source": [
    "From this data visualization we can obviously tell this fits the data much better than our Simple Linear Regression. We will now calculate the variation between the two too get an understanding of the magnitude. We will use R^2 score because it is a better for comparing correlation between two different things. This is because the score is more intituitive then the regular R score."
   ]
  },
  {
   "cell_type": "code",
   "execution_count": null,
   "metadata": {},
   "outputs": [
    {
     "name": "stdout",
     "output_type": "stream",
     "text": [
      "The R^2 score for our Simple Linear Regression 0.39186515965066226\n",
      "The R^2 score for our Multiple Linear Regression 0.727350514008404\n",
      "The Multiple Linear Regression explains our variation more by a magnitude of 185.6124475717153%\n"
     ]
    }
   ],
   "source": [
    "\n",
    "\n",
    "# r2 score for our simple linear regression\n",
    "print(f\"The R^2 score for our Simple Linear Regression {simpleAcc}\")\n",
    "\n",
    "# r2 score for our multiple linear regression\n",
    "print(f\"The R^2 score for our Multiple Linear Regression {multiAcc}\")\n",
    "\n",
    "r2_Improvement = (multiAcc / simpleAcc) * 100\n",
    "print(f\"The Multiple Linear Regression explains our variation more by a magnitude of {r2_Improvement}%\")\n",
    "\n"
   ]
  }
 ],
 "metadata": {
  "kernelspec": {
   "display_name": "Python 3 (ipykernel)",
   "language": "python",
   "name": "python3"
  },
  "language_info": {
   "codemirror_mode": {
    "name": "ipython",
    "version": 3
   },
   "file_extension": ".py",
   "mimetype": "text/x-python",
   "name": "python",
   "nbconvert_exporter": "python",
   "pygments_lexer": "ipython3",
   "version": "3.8.2"
  },
  "vscode": {
   "interpreter": {
    "hash": "31f2aee4e71d21fbe5cf8b01ff0e069b9275f58929596ceb00d14d90e3e16cd6"
   }
  }
 },
 "nbformat": 4,
 "nbformat_minor": 2
}
