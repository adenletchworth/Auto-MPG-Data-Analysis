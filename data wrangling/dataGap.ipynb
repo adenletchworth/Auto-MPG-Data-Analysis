{
 "cells": [
  {
   "cell_type": "code",
   "execution_count": 49,
   "metadata": {},
   "outputs": [
    {
     "name": "stderr",
     "output_type": "stream",
     "text": [
      "/var/folders/67/lkv3fsr91pqgg56l3dkwrl300000gp/T/ipykernel_19294/1566674084.py:4: DtypeWarning: Columns (70,71,72,73,74,76,79) have mixed types. Specify dtype option on import or set low_memory=False.\n",
      "  df = pd.read_csv('vehicles.csv')\n"
     ]
    },
    {
     "data": {
      "text/plain": [
       "array(['barrels08', 'barrelsA08', 'charge120', 'charge240', 'city08',\n",
       "       'city08U', 'cityA08', 'cityA08U', 'cityCD', 'cityE', 'cityUF',\n",
       "       'co2', 'co2A', 'co2TailpipeAGpm', 'co2TailpipeGpm', 'comb08',\n",
       "       'comb08U', 'combA08', 'combA08U', 'combE', 'combinedCD',\n",
       "       'combinedUF', 'cylinders', 'displ', 'drive', 'engId', 'eng_dscr',\n",
       "       'feScore', 'fuelCost08', 'fuelCostA08', 'fuelType', 'fuelType1',\n",
       "       'ghgScore', 'ghgScoreA', 'highway08', 'highway08U', 'highwayA08',\n",
       "       'highwayA08U', 'highwayCD', 'highwayE', 'highwayUF', 'hlv', 'hpv',\n",
       "       'id', 'lv2', 'lv4', 'make', 'model', 'mpgData', 'phevBlended',\n",
       "       'pv2', 'pv4', 'range', 'rangeCity', 'rangeCityA', 'rangeHwy',\n",
       "       'rangeHwyA', 'trany', 'UCity', 'UCityA', 'UHighway', 'UHighwayA',\n",
       "       'VClass', 'year', 'youSaveSpend', 'guzzler', 'trans_dscr',\n",
       "       'tCharger', 'sCharger', 'atvType', 'fuelType2', 'rangeA',\n",
       "       'evMotor', 'mfrCode', 'c240Dscr', 'charge240b', 'c240bDscr',\n",
       "       'createdOn', 'modifiedOn', 'startStop', 'phevCity', 'phevHwy',\n",
       "       'phevComb'], dtype=object)"
      ]
     },
     "execution_count": 49,
     "metadata": {},
     "output_type": "execute_result"
    }
   ],
   "source": [
    "import pandas as pd\n",
    "import sqlite3\n",
    "\n",
    "df = pd.read_csv('vehicles.csv')\n",
    "\n",
    "df.columns.values"
   ]
  },
  {
   "cell_type": "code",
   "execution_count": 50,
   "metadata": {},
   "outputs": [],
   "source": [
    "df = df[['year','displ','comb08','model','cylinders','mpgData']] \n",
    "\n",
    "con=sqlite3.connect('dataClean.db')\n",
    "\n",
    "dataBase = df.to_sql('car',con)\n",
    "\n",
    "cur = con.cursor()\n"
   ]
  },
  {
   "cell_type": "code",
   "execution_count": 51,
   "metadata": {},
   "outputs": [
    {
     "data": {
      "text/plain": [
       "<sqlite3.Cursor at 0x125853880>"
      ]
     },
     "execution_count": 51,
     "metadata": {},
     "output_type": "execute_result"
    }
   ],
   "source": [
    "cur.execute(\"\"\"\n",
    "        DELETE FROM car\n",
    "        WHERE mpgData = 'N'\n",
    "        \"\"\")"
   ]
  },
  {
   "cell_type": "code",
   "execution_count": 52,
   "metadata": {},
   "outputs": [
    {
     "data": {
      "text/plain": [
       "<sqlite3.Cursor at 0x125853880>"
      ]
     },
     "execution_count": 52,
     "metadata": {},
     "output_type": "execute_result"
    }
   ],
   "source": [
    "cur.execute(\"\"\"\n",
    "        DELETE FROM car\n",
    "        WHERE year > 1998\n",
    "        \"\"\")"
   ]
  },
  {
   "cell_type": "code",
   "execution_count": 53,
   "metadata": {},
   "outputs": [],
   "source": [
    "cur.execute('SELECT * FROM car')\n",
    "\n",
    "data = pd.DataFrame(cur.fetchall(),columns=[i[0] for i in cur.description])\n",
    "\n",
    "data.drop('mpgData',axis=1)\n",
    "\n",
    "data.set_index('year', inplace=True)\n",
    "\n",
    "data.to_csv('cleanData.csv')"
   ]
  },
  {
   "cell_type": "code",
   "execution_count": null,
   "metadata": {},
   "outputs": [],
   "source": []
  }
 ],
 "metadata": {
  "kernelspec": {
   "display_name": "Python 3",
   "language": "python",
   "name": "python3"
  },
  "language_info": {
   "codemirror_mode": {
    "name": "ipython",
    "version": 3
   },
   "file_extension": ".py",
   "mimetype": "text/x-python",
   "name": "python",
   "nbconvert_exporter": "python",
   "pygments_lexer": "ipython3",
   "version": "3.8.2"
  },
  "orig_nbformat": 4,
  "vscode": {
   "interpreter": {
    "hash": "31f2aee4e71d21fbe5cf8b01ff0e069b9275f58929596ceb00d14d90e3e16cd6"
   }
  }
 },
 "nbformat": 4,
 "nbformat_minor": 2
}
